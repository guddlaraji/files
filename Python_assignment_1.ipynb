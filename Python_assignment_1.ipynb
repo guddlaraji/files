{
  "nbformat": 4,
  "nbformat_minor": 0,
  "metadata": {
    "colab": {
      "provenance": [],
      "include_colab_link": true
    },
    "kernelspec": {
      "name": "python3",
      "display_name": "Python 3"
    },
    "language_info": {
      "name": "python"
    }
  },
  "cells": [
    {
      "cell_type": "markdown",
      "metadata": {
        "id": "view-in-github",
        "colab_type": "text"
      },
      "source": [
        "<a href=\"https://colab.research.google.com/github/guddlaraji/files/blob/main/Python_assignment_1.ipynb\" target=\"_parent\"><img src=\"https://colab.research.google.com/assets/colab-badge.svg\" alt=\"Open In Colab\"/></a>"
      ]
    },
    {
      "cell_type": "markdown",
      "source": [
        "Print the First 3 multiples of the given number \"N\". (N is a positive integer)\n",
        "\n",
        "Note: print the characters with a single space between them.\n",
        "\n",
        "Input Description:\n",
        "\n",
        "A positive integer is provided to you as an input.\n",
        "\n",
        "Output Description:\n",
        "\n",
        "Print the First 3 multiples of the number with single spaces between them as an output.\n",
        "\n",
        "Sample Input :\n",
        "\n",
        "2\n",
        "\n",
        "Sample Output :\n",
        "\n",
        "2 4 6"
      ],
      "metadata": {
        "id": "BXouoGJNqGMP"
      }
    },
    {
      "cell_type": "code",
      "source": [
        "N = int(input())\n",
        "print(N, N*2, N*3)"
      ],
      "metadata": {
        "id": "TSCugG-QPjI8",
        "colab": {
          "base_uri": "https://localhost:8080/"
        },
        "outputId": "e23c0787-2e68-466b-977e-3615ea678730"
      },
      "execution_count": null,
      "outputs": [
        {
          "output_type": "stream",
          "name": "stdout",
          "text": [
            "2\n",
            "2 4 6\n"
          ]
        }
      ]
    },
    {
      "cell_type": "code",
      "source": [
        "N = int(input())\n",
        "print(N, N*2, N*3)\n"
      ],
      "metadata": {
        "id": "deQ4aoaAPi83",
        "colab": {
          "base_uri": "https://localhost:8080/"
        },
        "outputId": "c6b25318-6093-4bfb-e88d-636b1192f406"
      },
      "execution_count": null,
      "outputs": [
        {
          "output_type": "stream",
          "name": "stdout",
          "text": [
            "3\n",
            "3 6 9\n"
          ]
        }
      ]
    },
    {
      "cell_type": "markdown",
      "source": [
        "Get user input using input(“Enter your age: ”). If user is 18 or older, give feedback: You are old enough to drive. If below 18 give feedback to wait for the missing amount of years.\n",
        "\n",
        "Output:\n",
        "Enter your age: 30\n",
        "\n",
        "You are old enough to learn to drive.\n",
        "Output:\n",
        "\n",
        "Enter your age: 15\n",
        "\n",
        "You need 3 more years to learn to drive.\n"
      ],
      "metadata": {
        "id": "UD_5hvzQOlCo"
      }
    },
    {
      "cell_type": "code",
      "source": [
        "age = int(input(\"Enter your age: \"))\n",
        "\n",
        "if age >= 18:\n",
        "    print(\"You are old enough to learn to drive.\")\n",
        "else:\n",
        "    print(f\"You need {18 - age} more years to learn to drive.\")\n"
      ],
      "metadata": {
        "id": "N7gKCuYQSUSQ",
        "colab": {
          "base_uri": "https://localhost:8080/"
        },
        "outputId": "c6b399a4-c97d-45dc-98f3-891810c5cde3"
      },
      "execution_count": null,
      "outputs": [
        {
          "output_type": "stream",
          "name": "stdout",
          "text": [
            "Enter your age: 18\n",
            "You are old enough to learn to drive.\n"
          ]
        }
      ]
    },
    {
      "cell_type": "code",
      "source": [
        "age = int(input(\"Enter your age: \"))\n",
        "\n",
        "if age >= 18:\n",
        "    print(\"You are old enough to learn to drive.\")\n",
        "else:\n",
        "    print(f\"You need {18 - age} more years to learn to drive.\")\n"
      ],
      "metadata": {
        "id": "qU2aaJnvSVCe",
        "colab": {
          "base_uri": "https://localhost:8080/"
        },
        "outputId": "97d97c14-13b6-4078-c073-5d1806dd5118"
      },
      "execution_count": null,
      "outputs": [
        {
          "output_type": "stream",
          "name": "stdout",
          "text": [
            "Enter your age: 21\n",
            "You are old enough to learn to drive.\n"
          ]
        }
      ]
    },
    {
      "cell_type": "markdown",
      "source": [
        "Write a code to get the input in the given format and print the output in the given format\n",
        "\n",
        "Input Description:\n",
        "\n",
        "Three integers are given in line by line.\n",
        "\n",
        "Output Description:\n",
        "\n",
        "Print the integers in a single line separate by space.\n",
        "\n",
        "Sample Input :\n",
        "\n",
        "2\n",
        "\n",
        "4\n",
        "\n",
        "5\n",
        "\n",
        "Sample Output :\n",
        "\n",
        "2 4 5"
      ],
      "metadata": {
        "id": "wyf5JPA-SoFZ"
      }
    },
    {
      "cell_type": "code",
      "source": [
        "a = int(input())\n",
        "b = int(input())\n",
        "c = int(input())\n",
        "\n",
        "print(a, b, c)\n"
      ],
      "metadata": {
        "id": "hLv_9zr2Sm-o",
        "colab": {
          "base_uri": "https://localhost:8080/"
        },
        "outputId": "aa17e182-b14a-43e8-cebd-c15509884bbf"
      },
      "execution_count": null,
      "outputs": [
        {
          "output_type": "stream",
          "name": "stdout",
          "text": [
            "2\n",
            "4\n",
            "5\n",
            "2 4 5\n"
          ]
        }
      ]
    },
    {
      "cell_type": "code",
      "source": [
        "a = int(input())\n",
        "b = int(input())\n",
        "c = int(input())\n",
        "\n",
        "print(a, b, c)\n"
      ],
      "metadata": {
        "id": "A4-uGLZ6Snks",
        "colab": {
          "base_uri": "https://localhost:8080/"
        },
        "outputId": "799341ea-9862-49c3-df9d-24a275041d06"
      },
      "execution_count": null,
      "outputs": [
        {
          "output_type": "stream",
          "name": "stdout",
          "text": [
            "1\n",
            "5\n",
            "6\n",
            "1 5 6\n"
          ]
        }
      ]
    },
    {
      "cell_type": "markdown",
      "source": [
        "Write a code to get the input in the given format and print the output in the given format\n",
        "\n",
        "Input Description:\n",
        "\n",
        "First-line indicates two integers separated by space. Second-line indicates three integers separated by space. Third-line indicates three integers separated by space\n",
        "\n",
        "Output Description:\n",
        "\n",
        "Print the input in the same format.\n",
        "\n",
        "Sample Input :\n",
        "\n",
        "2 5\n",
        "\n",
        "2 5 6\n",
        "\n",
        "2 4 5\n",
        "\n",
        "Sample Output :\n",
        "\n",
        "2 5\n",
        "\n",
        "2 5 6\n",
        "\n",
        "2 4 5"
      ],
      "metadata": {
        "id": "6sNbjBkfSVwM"
      }
    },
    {
      "cell_type": "code",
      "source": [
        "line1 = input()\n",
        "line2 = input()\n",
        "line3 = input()\n",
        "\n",
        "print(line1)\n",
        "print(line2)\n",
        "print(line3)\n"
      ],
      "metadata": {
        "id": "smL1HyL-S_pS",
        "colab": {
          "base_uri": "https://localhost:8080/"
        },
        "outputId": "4e9e3d24-7a48-49c4-abe5-2d8161e0e024"
      },
      "execution_count": null,
      "outputs": [
        {
          "output_type": "stream",
          "name": "stdout",
          "text": [
            "2 5\n",
            "2 5 6\n",
            "2 4 5\n",
            "2 5\n",
            "2 5 6\n",
            "2 4 5\n"
          ]
        }
      ]
    },
    {
      "cell_type": "code",
      "source": [
        "line1 = input()\n",
        "line2 = input()\n",
        "line3 = input()\n",
        "\n",
        "print(line1)\n",
        "print(line2)\n",
        "print(line3)\n"
      ],
      "metadata": {
        "id": "CT84Dm-7S__M",
        "colab": {
          "base_uri": "https://localhost:8080/"
        },
        "outputId": "86b63b19-4e59-43f3-c225-182ac1007e3d"
      },
      "execution_count": null,
      "outputs": [
        {
          "output_type": "stream",
          "name": "stdout",
          "text": [
            "1 5\n",
            "1 4 6\n",
            "1 2 6\n",
            "1 5\n",
            "1 4 6\n",
            "1 2 6\n"
          ]
        }
      ]
    },
    {
      "cell_type": "markdown",
      "source": [
        "Write a code to get the input in the given format and print the output in the given format\n",
        "\n",
        "Input Description:\n",
        "\n",
        "First-line indicates two integers separated by space. Second-line indicates two integers separated by space. Third-line indicates two integers separated by space.\n",
        "\n",
        "Output Description:\n",
        "\n",
        "Print the input in the same format.\n",
        "\n",
        "Sample Input :\n",
        "\n",
        "2 4\n",
        "\n",
        "2 4\n",
        "\n",
        "2 4\n",
        "\n",
        "Sample Output :\n",
        "\n",
        "2 4\n",
        "\n",
        "2 4\n",
        "\n",
        "2 4"
      ],
      "metadata": {
        "id": "qRwrfQbNTAgO"
      }
    },
    {
      "cell_type": "code",
      "source": [
        "line1 = input()\n",
        "line2 = input()\n",
        "line3 = input()\n",
        "\n",
        "print(line1)\n",
        "print(line2)\n",
        "print(line3)\n"
      ],
      "metadata": {
        "id": "EWFpuUDbTMjz",
        "colab": {
          "base_uri": "https://localhost:8080/"
        },
        "outputId": "9955b442-81f0-469e-c49a-a85e310051b6"
      },
      "execution_count": null,
      "outputs": [
        {
          "output_type": "stream",
          "name": "stdout",
          "text": [
            "2 4\n",
            "2 4\n",
            "2 4\n",
            "2 4\n",
            "2 4\n",
            "2 4\n"
          ]
        }
      ]
    },
    {
      "cell_type": "code",
      "source": [
        "line1 = input()\n",
        "line2 = input()\n",
        "line3 = input()\n",
        "\n",
        "print(line1)\n",
        "print(line2)\n",
        "print(line3)\n"
      ],
      "metadata": {
        "id": "h6MXCFXPTNC_",
        "colab": {
          "base_uri": "https://localhost:8080/"
        },
        "outputId": "582218ce-c80c-4c62-d16c-4479192f4427"
      },
      "execution_count": null,
      "outputs": [
        {
          "output_type": "stream",
          "name": "stdout",
          "text": [
            "1 2\n",
            "1 2\n",
            "1 2\n",
            "1 2\n",
            "1 2\n",
            "1 2\n"
          ]
        }
      ]
    },
    {
      "cell_type": "markdown",
      "source": [
        "Write a Python program to count the number of even and odd numbers in a series of numbers\n",
        "\n",
        "Sample numbers : numbers = (1, 2, 3, 4, 5, 6, 7, 8, 9)\n",
        "\n",
        "Expected Output :\n",
        "\n",
        "Number of even numbers : 4\n",
        "\n",
        "Number of odd numbers : 5"
      ],
      "metadata": {
        "id": "odqKsRy9XKHn"
      }
    },
    {
      "cell_type": "code",
      "source": [
        "numbers = (1, 2, 3, 4, 5, 6, 7, 8, 9)\n",
        "\n",
        "even_count = 0\n",
        "odd_count = 0\n",
        "\n",
        "for n in numbers:\n",
        "    if n % 2 == 0:\n",
        "        even_count += 1\n",
        "    else:\n",
        "        odd_count += 1\n",
        "\n",
        "print(\"Number of even numbers :\", even_count)\n",
        "print(\"Number of odd numbers :\", odd_count)\n"
      ],
      "metadata": {
        "id": "GRXweE0nXPAo",
        "colab": {
          "base_uri": "https://localhost:8080/"
        },
        "outputId": "6bcda180-d9a5-4d26-b0ab-52dcf57d94d1"
      },
      "execution_count": null,
      "outputs": [
        {
          "output_type": "stream",
          "name": "stdout",
          "text": [
            "Number of even numbers : 4\n",
            "Number of odd numbers : 5\n"
          ]
        }
      ]
    },
    {
      "cell_type": "code",
      "source": [
        "numbers = (1, 2, 3, 4, 5, 6, 9, 10, 12,13)\n",
        "\n",
        "even_count = 0\n",
        "odd_count = 0\n",
        "\n",
        "for n in numbers:\n",
        "    if n % 2 == 0:\n",
        "        even_count += 1\n",
        "    else:\n",
        "        odd_count += 1\n",
        "\n",
        "print(\"Number of even numbers :\", even_count)\n",
        "print(\"Number of odd numbers :\", odd_count)\n"
      ],
      "metadata": {
        "id": "COq3V_DGXJoW",
        "colab": {
          "base_uri": "https://localhost:8080/"
        },
        "outputId": "05d5329a-c328-41c2-e3b7-400b3d51addf"
      },
      "execution_count": null,
      "outputs": [
        {
          "output_type": "stream",
          "name": "stdout",
          "text": [
            "Number of even numbers : 5\n",
            "Number of odd numbers : 5\n"
          ]
        }
      ]
    },
    {
      "cell_type": "code",
      "source": [],
      "metadata": {
        "id": "G-gYUVqLXPal"
      },
      "execution_count": null,
      "outputs": []
    },
    {
      "cell_type": "markdown",
      "source": [
        "Display float number with 2 decimal places using print()\n",
        "\n",
        "input: num = 458.541315\n",
        "\n",
        "expected output = 458.54"
      ],
      "metadata": {
        "id": "x87NTmUKXQmH"
      }
    },
    {
      "cell_type": "code",
      "source": [
        "num = 458.541315\n",
        "print(\"%.2f\" % num)\n"
      ],
      "metadata": {
        "id": "PtgwOH-tb1TW",
        "colab": {
          "base_uri": "https://localhost:8080/"
        },
        "outputId": "f2194906-097d-4cce-9b44-1347f364ab5a"
      },
      "execution_count": null,
      "outputs": [
        {
          "output_type": "stream",
          "name": "stdout",
          "text": [
            "458.54\n"
          ]
        }
      ]
    },
    {
      "cell_type": "code",
      "source": [],
      "metadata": {
        "id": "UwFVftqmc1pN"
      },
      "execution_count": null,
      "outputs": []
    },
    {
      "cell_type": "markdown",
      "source": [
        "Check Palindrome Number\n",
        "\n",
        "Write a program to check if the given number is a palindrome number.\n",
        "\n",
        "A palindrome number is a number that is the same after reverse. For example, 545, is the palindrome numbers\n",
        "\n",
        "Expected Output:\n",
        "\n",
        "original number 121\n",
        "\n",
        "Yes. given number is palindrome number\n",
        "\n",
        "original number 125\n",
        "\n",
        "No. given number is not palindrome number"
      ],
      "metadata": {
        "id": "FRQ9M7Vnc8QR"
      }
    },
    {
      "cell_type": "code",
      "source": [
        "\n",
        "num = input(\"Enter a number: \")\n",
        "\n",
        "print(\"original number\", num)\n",
        "if num == num[::-1]:\n",
        "    print(\"Yes. given number is palindrome number\")\n",
        "else:\n",
        "    print(\"No. given number is not palindrome number\")\n"
      ],
      "metadata": {
        "id": "5UeewaCmdDI_",
        "colab": {
          "base_uri": "https://localhost:8080/"
        },
        "outputId": "b40427e1-b6fb-463a-9741-94f971d22359"
      },
      "execution_count": null,
      "outputs": [
        {
          "output_type": "stream",
          "name": "stdout",
          "text": [
            "Enter a number: 121\n",
            "original number 121\n",
            "Yes. given number is palindrome number\n"
          ]
        }
      ]
    },
    {
      "cell_type": "code",
      "source": [],
      "metadata": {
        "id": "3ogF1uM4dDj-"
      },
      "execution_count": null,
      "outputs": []
    },
    {
      "cell_type": "markdown",
      "source": [
        "Take a variable ‘age’ which is of positive value and check the following:\n",
        "\n",
        "(a) If the age is less than 10, print “Children”.\n",
        "\n",
        "(b) If the age is more than 60, print ‘senior citizens’\n",
        "\n",
        "© If it is between 10 and 60, print ‘normal citizen’"
      ],
      "metadata": {
        "id": "UgqEZ7OZdEWt"
      }
    },
    {
      "cell_type": "code",
      "source": [
        "# Take input\n",
        "age = int(input(\"Enter your age: \"))\n",
        "\n",
        "# Check conditions\n",
        "if age < 10:\n",
        "    print(\"Children\")\n",
        "elif age > 60:\n",
        "    print(\"Senior citizens\")\n",
        "else:\n",
        "    print(\"Normal citizen\")\n"
      ],
      "metadata": {
        "id": "3PlVUISvea9g",
        "colab": {
          "base_uri": "https://localhost:8080/"
        },
        "outputId": "8fa0f516-0208-4fc4-e07a-bc31f84eb633"
      },
      "execution_count": null,
      "outputs": [
        {
          "output_type": "stream",
          "name": "stdout",
          "text": [
            "Enter your age: 21\n",
            "Normal citizen\n"
          ]
        }
      ]
    },
    {
      "cell_type": "markdown",
      "source": [
        "Write a code to get the input in the given format and print the output in the given format.\n",
        "\n",
        "Input Description:\n",
        "\n",
        "A single line contains a string.\n",
        "\n",
        "Output Description:\n",
        "\n",
        "Print the characters in a string separated by comma.\n",
        "\n",
        "Sample Input :\n",
        "\n",
        "Medha\n",
        "\n",
        "Sample Output :\n",
        "\n",
        "M,e,d,h,a"
      ],
      "metadata": {
        "id": "vSHkDPaiRu6V"
      }
    },
    {
      "cell_type": "code",
      "source": [
        "# Get input from user\n",
        "s = input(\"Enter a string: \")\n",
        "\n",
        "# Print characters separated by comma\n",
        "print(','.join(s))\n"
      ],
      "metadata": {
        "id": "pmktSmxxebOc",
        "colab": {
          "base_uri": "https://localhost:8080/"
        },
        "outputId": "5b74eb5a-e540-4785-c6b8-e172143b885b"
      },
      "execution_count": null,
      "outputs": [
        {
          "output_type": "stream",
          "name": "stdout",
          "text": [
            "Enter a string: Medha\n",
            "M,e,d,h,a\n"
          ]
        }
      ]
    },
    {
      "cell_type": "code",
      "source": [],
      "metadata": {
        "id": "X2PtLzD8q0s6"
      },
      "execution_count": null,
      "outputs": []
    },
    {
      "cell_type": "markdown",
      "source": [
        "Python program to add two numbers.\n",
        "\n",
        "num1 = 18\n",
        "\n",
        "num2 = 7"
      ],
      "metadata": {
        "id": "e5eNSop5v-kx"
      }
    },
    {
      "cell_type": "code",
      "source": [
        "# Given numbers\n",
        "num1 = 18\n",
        "num2 = 7\n",
        "\n",
        "# Add the numbers\n",
        "sum = num1 + num2\n",
        "\n",
        "# Print the result\n",
        "print(\"The sum is:\", sum)\n"
      ],
      "metadata": {
        "id": "y0V87ibs01WP",
        "colab": {
          "base_uri": "https://localhost:8080/"
        },
        "outputId": "fa5f7465-0cb9-40e9-8de5-d04035fb0951"
      },
      "execution_count": null,
      "outputs": [
        {
          "output_type": "stream",
          "name": "stdout",
          "text": [
            "The sum is: 25\n"
          ]
        }
      ]
    },
    {
      "cell_type": "code",
      "source": [],
      "metadata": {
        "id": "UWVovvQkwGG2"
      },
      "execution_count": null,
      "outputs": []
    },
    {
      "cell_type": "code",
      "source": [],
      "metadata": {
        "id": "hBBcYXeFwKKo"
      },
      "execution_count": null,
      "outputs": []
    },
    {
      "cell_type": "markdown",
      "source": [
        " Python program to check if a string is palindrome or not.\n",
        "\n",
        " mystr = “malayalam”"
      ],
      "metadata": {
        "id": "KExeLHOMwK5n"
      }
    },
    {
      "cell_type": "code",
      "source": [
        "# Given string\n",
        "mystr = \"malayalam\"\n",
        "\n",
        "# Check if string is equal to its reverse\n",
        "if mystr == mystr[::-1]:\n",
        "    print(\"Yes. The string is a palindrome\")\n",
        "else:\n",
        "    print(\"No. The string is not a palindrome\")\n"
      ],
      "metadata": {
        "id": "QEyHQkAowUoj",
        "colab": {
          "base_uri": "https://localhost:8080/"
        },
        "outputId": "9e53c3a8-3eb1-4b0c-9bb5-20b85e115c97"
      },
      "execution_count": null,
      "outputs": [
        {
          "output_type": "stream",
          "name": "stdout",
          "text": [
            "Yes. The string is a palindrome\n"
          ]
        }
      ]
    },
    {
      "cell_type": "code",
      "source": [],
      "metadata": {
        "id": "UkQhiYLcwVJo"
      },
      "execution_count": null,
      "outputs": []
    },
    {
      "cell_type": "markdown",
      "source": [
        "Python Program to calculate the square root\n",
        "\n",
        "Note: change this value for a different result\n",
        "\n",
        "num = 8\n"
      ],
      "metadata": {
        "id": "YnVxcJPXwVtP"
      }
    },
    {
      "cell_type": "code",
      "source": [
        "import math\n",
        "\n",
        "# Given number\n",
        "num = 8\n",
        "\n",
        "# Calculate square root\n",
        "sqrt = math.sqrt(num)\n",
        "\n",
        "# Print result\n",
        "print(\"The square root of\", num, \"is\", sqrt)\n"
      ],
      "metadata": {
        "id": "z0ohuN-ow0iK",
        "colab": {
          "base_uri": "https://localhost:8080/"
        },
        "outputId": "fdeff05f-f76c-4eae-ca94-6631b81ea4fd"
      },
      "execution_count": null,
      "outputs": [
        {
          "output_type": "stream",
          "name": "stdout",
          "text": [
            "The square root of 8 is 2.8284271247461903\n"
          ]
        }
      ]
    },
    {
      "cell_type": "code",
      "source": [
        "import math\n",
        "\n",
        "# Given number\n",
        "num = 9\n",
        "\n",
        "# Calculate square root\n",
        "sqrt = math.sqrt(num)\n",
        "\n",
        "# Print result\n",
        "print(\"The square root of\", num, \"is\", sqrt)\n"
      ],
      "metadata": {
        "id": "TFQc0Dnhw07j",
        "colab": {
          "base_uri": "https://localhost:8080/"
        },
        "outputId": "1e432c32-75f0-486c-b0a6-1ca91ea00747"
      },
      "execution_count": null,
      "outputs": [
        {
          "output_type": "stream",
          "name": "stdout",
          "text": [
            "The square root of 9 is 3.0\n"
          ]
        }
      ]
    },
    {
      "cell_type": "markdown",
      "source": [
        "# Find square root of real or complex numbers\n",
        "\n",
        "# Importing the complex math module\n",
        "\n",
        "hint: import cmath\n",
        "\n",
        "num = 1+2j"
      ],
      "metadata": {
        "id": "g09yoPISw134"
      }
    },
    {
      "cell_type": "code",
      "source": [
        "# Import complex math module\n",
        "import cmath\n",
        "\n",
        "# Given complex number\n",
        "num = 1 + 2j\n",
        "\n",
        "# Print the number\n",
        "print(\"Complex number:\", num)\n",
        "\n",
        "# Print square root using cmath\n",
        "print(\"Square root:\", cmath.sqrt(num))\n"
      ],
      "metadata": {
        "id": "TvF43l6JxEds",
        "colab": {
          "base_uri": "https://localhost:8080/"
        },
        "outputId": "a89b8722-4ca7-4a96-e84c-379ded4180ba"
      },
      "execution_count": 31,
      "outputs": [
        {
          "output_type": "stream",
          "name": "stdout",
          "text": [
            "Complex number: (1+2j)\n",
            "Square root: (1.272019649514069+0.7861513777574233j)\n"
          ]
        }
      ]
    },
    {
      "cell_type": "code",
      "source": [],
      "metadata": {
        "id": "OVR5e-GOxExz"
      },
      "execution_count": null,
      "outputs": []
    },
    {
      "cell_type": "code",
      "source": [
        "\n"
      ],
      "metadata": {
        "id": "JVDuGB81x0dZ"
      },
      "execution_count": null,
      "outputs": []
    },
    {
      "cell_type": "code",
      "source": [],
      "metadata": {
        "id": "cCj0-wQqx0uZ"
      },
      "execution_count": null,
      "outputs": []
    },
    {
      "cell_type": "markdown",
      "source": [
        "# Python program to swap two variables\n",
        "\n",
        "x = 5\n",
        "\n",
        "y = 10"
      ],
      "metadata": {
        "id": "XcLLAOIOx1UX"
      }
    },
    {
      "cell_type": "code",
      "source": [
        "# Given variables\n",
        "x = 5\n",
        "y = 10\n",
        "\n",
        "# Swap the variables\n",
        "x, y = y, x\n",
        "\n",
        "# Print the swapped values\n",
        "print(\"After swapping:\")\n",
        "print(\"x =\", x)\n",
        "print(\"y =\", y)\n"
      ],
      "metadata": {
        "id": "6Yvb1AzBx3ec",
        "colab": {
          "base_uri": "https://localhost:8080/"
        },
        "outputId": "000238ac-800c-4b00-8af2-7f756be00ee3"
      },
      "execution_count": null,
      "outputs": [
        {
          "output_type": "stream",
          "name": "stdout",
          "text": [
            "After swapping:\n",
            "x = 10\n",
            "y = 5\n"
          ]
        }
      ]
    },
    {
      "cell_type": "code",
      "source": [],
      "metadata": {
        "id": "O2WSsn5Ex4vh"
      },
      "execution_count": null,
      "outputs": []
    },
    {
      "cell_type": "markdown",
      "source": [
        "Write a Python program to find out what version of Python you are using."
      ],
      "metadata": {
        "id": "F_3F--T9x5Rg"
      }
    },
    {
      "cell_type": "code",
      "source": [
        "import sys\n",
        "\n",
        "# Print just the version number\n",
        "print(\"Python version:\", sys.version)\n"
      ],
      "metadata": {
        "id": "1TzL-NJszBhr",
        "colab": {
          "base_uri": "https://localhost:8080/"
        },
        "outputId": "fc10c453-1216-45c3-9bf6-364dabb5865a"
      },
      "execution_count": null,
      "outputs": [
        {
          "output_type": "stream",
          "name": "stdout",
          "text": [
            "Python version: 3.12.11 (main, Jun  4 2025, 08:56:18) [GCC 11.4.0]\n"
          ]
        }
      ]
    },
    {
      "cell_type": "code",
      "source": [],
      "metadata": {
        "id": "jlcd4P3fzB6l"
      },
      "execution_count": null,
      "outputs": []
    },
    {
      "cell_type": "markdown",
      "source": [
        "Write a Python program to display the current date and time.\n",
        "\n",
        "Sample Output :\n",
        "\n",
        "Current date and time :"
      ],
      "metadata": {
        "id": "nsXesbrDzCcI"
      }
    },
    {
      "cell_type": "code",
      "source": [
        "# Import datetime module\n",
        "import datetime\n",
        "\n",
        "# Get current date and time\n",
        "now = datetime.datetime.now()\n",
        "\n",
        "# Print current date and time\n",
        "print(\"Current date and time :\")\n",
        "print(now)\n"
      ],
      "metadata": {
        "id": "wg8dwLOwzHug",
        "colab": {
          "base_uri": "https://localhost:8080/"
        },
        "outputId": "d9f33541-4030-4a87-e930-f5959fa8cc9b"
      },
      "execution_count": null,
      "outputs": [
        {
          "output_type": "stream",
          "name": "stdout",
          "text": [
            "Current date and time :\n",
            "2025-09-21 13:41:10.921283\n"
          ]
        }
      ]
    },
    {
      "cell_type": "code",
      "source": [],
      "metadata": {
        "id": "aTyfhPY6zIAL"
      },
      "execution_count": null,
      "outputs": []
    },
    {
      "cell_type": "markdown",
      "source": [
        "Write a Python program that calculates the area of a circle based on the radius entered by the user.\n",
        "\n",
        "Python: Area of a Circle\n",
        "\n",
        "In geometry, the area enclosed by a circle of radius r is πr2.\n",
        "\n",
        "r = 1.1\n",
        "\n",
        "Area = 3.8013271108436504"
      ],
      "metadata": {
        "id": "ryk2GDD9Phw9"
      }
    },
    {
      "cell_type": "code",
      "source": [
        "# Take radius input from user\n",
        "r = float(input(\"Enter the radius of the circle: \"))\n",
        "\n",
        "# Approximate pi as 3.14\n",
        "pi = 3.14\n",
        "\n",
        "# Calculate area\n",
        "area = pi * r * r\n",
        "\n",
        "# Print area\n",
        "print(\"Area =\", area)\n"
      ],
      "metadata": {
        "id": "2oPisugZzjLA",
        "colab": {
          "base_uri": "https://localhost:8080/"
        },
        "outputId": "376393ac-9b9e-41d4-a42b-396c192f82e7"
      },
      "execution_count": null,
      "outputs": [
        {
          "output_type": "stream",
          "name": "stdout",
          "text": [
            "Enter the radius of the circle: 1.1\n",
            "Area = 3.7994000000000008\n"
          ]
        }
      ]
    },
    {
      "cell_type": "code",
      "source": [],
      "metadata": {
        "id": "kRzMrft-zi35"
      },
      "execution_count": null,
      "outputs": []
    },
    {
      "cell_type": "markdown",
      "source": [
        "Write a Python program that accepts the user's first and last name and prints them in reverse order with a space between them.\n",
        "\n"
      ],
      "metadata": {
        "id": "_Ee3DJIQzjpH"
      }
    },
    {
      "cell_type": "code",
      "source": [
        "# Take first and last name as input\n",
        "first_name = input(\"Enter your first name: \")\n",
        "last_name = input(\"Enter your last name: \")\n",
        "\n",
        "# Print in reverse order\n",
        "print(last_name, first_name)\n"
      ],
      "metadata": {
        "id": "IwOpn2l20K3v",
        "colab": {
          "base_uri": "https://localhost:8080/"
        },
        "outputId": "a599b112-9c34-4e62-8951-22670ecf5e46"
      },
      "execution_count": 32,
      "outputs": [
        {
          "output_type": "stream",
          "name": "stdout",
          "text": [
            "Enter your first name: Guddla \n",
            "Enter your last name: Rajeswari\n",
            "Rajeswari Guddla \n"
          ]
        }
      ]
    },
    {
      "cell_type": "code",
      "source": [],
      "metadata": {
        "id": "t9sTUiyu0LcV"
      },
      "execution_count": null,
      "outputs": []
    },
    {
      "cell_type": "markdown",
      "source": [
        "The Reverse Number program in Python takes a positive number as an input and then reverses the digits of the number and then prints it on the output screen. In Python, this can be achieved either by using string slicing or by using a while loop to extract and concatenate the digits in reverse order. Check out the above link for a detailed explanation and code\n",
        "\n",
        "Input:\n",
        "\n",
        "67884\n",
        "\n",
        "output:\n",
        "\n",
        "48876"
      ],
      "metadata": {
        "id": "c5zFffff0VMe"
      }
    },
    {
      "cell_type": "code",
      "source": [
        "# Take input from user\n",
        "num = input(\"Enter a number: \")\n",
        "\n",
        "# Reverse the number\n",
        "reversed_num = num[::-1]\n",
        "\n",
        "# Print the reversed number\n",
        "print(reversed_num)\n"
      ],
      "metadata": {
        "id": "MC1gsoQt003R",
        "colab": {
          "base_uri": "https://localhost:8080/"
        },
        "outputId": "061f5e7f-4c82-41d5-be4b-fd210e952ea8"
      },
      "execution_count": null,
      "outputs": [
        {
          "output_type": "stream",
          "name": "stdout",
          "text": [
            "Enter a number: 67884\n",
            "48876\n"
          ]
        }
      ]
    },
    {
      "cell_type": "code",
      "source": [
        "# Take input from user\n",
        "num = input(\"Enter a number: \")\n",
        "\n",
        "# Reverse the number\n",
        "reversed_num = num[::-1]\n",
        "\n",
        "# Print the reversed number\n",
        "print(reversed_num)\n"
      ],
      "metadata": {
        "id": "mbUWb0uMXpDZ",
        "colab": {
          "base_uri": "https://localhost:8080/"
        },
        "outputId": "9d98963b-515c-4205-8036-177fc6893b92"
      },
      "execution_count": null,
      "outputs": [
        {
          "output_type": "stream",
          "name": "stdout",
          "text": [
            "Enter a number: 12345\n",
            "54321\n"
          ]
        }
      ]
    },
    {
      "cell_type": "code",
      "source": [],
      "metadata": {
        "id": "OZd9Vu7v1brF"
      },
      "execution_count": null,
      "outputs": []
    },
    {
      "cell_type": "code",
      "source": [],
      "metadata": {
        "id": "kuPNyQvD1kXS"
      },
      "execution_count": null,
      "outputs": []
    },
    {
      "cell_type": "code",
      "source": [],
      "metadata": {
        "id": "tG3LkfjK2EJ3"
      },
      "execution_count": null,
      "outputs": []
    },
    {
      "cell_type": "code",
      "source": [],
      "metadata": {
        "id": "1BOzqBHX2xKq"
      },
      "execution_count": null,
      "outputs": []
    },
    {
      "cell_type": "code",
      "source": [],
      "metadata": {
        "id": "dPDv9bPc21qH"
      },
      "execution_count": null,
      "outputs": []
    },
    {
      "cell_type": "code",
      "source": [],
      "metadata": {
        "id": "cQlCsgwF3ESh"
      },
      "execution_count": null,
      "outputs": []
    },
    {
      "cell_type": "code",
      "source": [],
      "metadata": {
        "id": "H1kYNE8a3JOE"
      },
      "execution_count": null,
      "outputs": []
    },
    {
      "cell_type": "code",
      "source": [],
      "metadata": {
        "id": "v_qzjtWu3V53"
      },
      "execution_count": null,
      "outputs": []
    },
    {
      "cell_type": "code",
      "source": [],
      "metadata": {
        "id": "O55scfHw3kO1"
      },
      "execution_count": null,
      "outputs": []
    }
  ]
}