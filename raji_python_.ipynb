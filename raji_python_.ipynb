{
  "nbformat": 4,
  "nbformat_minor": 0,
  "metadata": {
    "colab": {
      "provenance": [],
      "authorship_tag": "ABX9TyPHkuvNyesyPdOAy1mkAjaP",
      "include_colab_link": true
    },
    "kernelspec": {
      "name": "python3",
      "display_name": "Python 3"
    },
    "language_info": {
      "name": "python"
    }
  },
  "cells": [
    {
      "cell_type": "markdown",
      "metadata": {
        "id": "view-in-github",
        "colab_type": "text"
      },
      "source": [
        "<a href=\"https://colab.research.google.com/github/guddlaraji/files/blob/main/raji_python_.ipynb\" target=\"_parent\"><img src=\"https://colab.research.google.com/assets/colab-badge.svg\" alt=\"Open In Colab\"/></a>"
      ]
    },
    {
      "cell_type": "markdown",
      "source": [
        "30-06-2025\n",
        "introduction to python basics"
      ],
      "metadata": {
        "id": "-929uRhzy8wB"
      }
    },
    {
      "cell_type": "code",
      "source": [
        "#what is python\n",
        "\"\"\"1.Python is a most emerging, general purpose programming language\n",
        "ex:- ISRO scientist use python for physics calculation\n",
        "     convert word to pdf and vice versa\n",
        "     predict the stock prices\n",
        "     download a video from youtube\n",
        "   2.Python is a high level programming language-->Human friendly programming language\n",
        "   3.python is a dynamically typed programming language--> no need to define the data type for variables\n",
        "   4.python is inter preted programming language--> python execute the code line by line\n",
        "   5.python is a object oriented programming language\n",
        "   In Python each line of code is a object where it is own identity, attributes or properties and methods of interactions\n",
        "\n",
        "python is a most emerging, general purpose, object oriented, hig-level, dynamically typed and interpreted programming language\"\"\""
      ],
      "metadata": {
        "id": "NvXGRB82zCBf"
      },
      "execution_count": null,
      "outputs": []
    },
    {
      "cell_type": "code",
      "source": [
        "#Print Hello world! in the python.\n",
        "print(\"Hello world!\")"
      ],
      "metadata": {
        "colab": {
          "base_uri": "https://localhost:8080/"
        },
        "id": "pt8YSzLh1zEP",
        "outputId": "efa5a80b-8431-49df-baf5-354169ad7de1"
      },
      "execution_count": null,
      "outputs": [
        {
          "output_type": "stream",
          "name": "stdout",
          "text": [
            "Hello world!\n"
          ]
        }
      ]
    },
    {
      "cell_type": "markdown",
      "source": [
        "Numerical Data Types"
      ],
      "metadata": {
        "id": "CreIzxR52Etm"
      }
    },
    {
      "cell_type": "code",
      "source": [
        "#There 3 types\n",
        "#1.Integer--> INT-->A whole either +ve or -ve without decimal point is known as integers\n",
        "print(10)\n",
        "print(-5)\n",
        "#find the data types for above integers\n",
        "print(type(10))\n",
        "print(type(-5))"
      ],
      "metadata": {
        "colab": {
          "base_uri": "https://localhost:8080/"
        },
        "id": "4zRcTHsh2IPJ",
        "outputId": "421b416c-d3c1-4af4-a350-9f2297e758bb"
      },
      "execution_count": null,
      "outputs": [
        {
          "output_type": "stream",
          "name": "stdout",
          "text": [
            "10\n",
            "-5\n",
            "<class 'int'>\n",
            "<class 'int'>\n"
          ]
        }
      ]
    },
    {
      "cell_type": "code",
      "source": [
        "#2.float---> float-->A number either +ve or -ve with decimal point  is known as float\n",
        "print(2.25)\n",
        "print(-5.5)\n",
        "#find the data type\n",
        "#use \"type()\"\n",
        "print(type(2.25))\n",
        "print(type(-5.5))"
      ],
      "metadata": {
        "id": "5-X0g-QE2d78",
        "outputId": "6452070d-41dc-4e42-c94c-973d0b21519d",
        "colab": {
          "base_uri": "https://localhost:8080/"
        }
      },
      "execution_count": null,
      "outputs": [
        {
          "output_type": "stream",
          "name": "stdout",
          "text": [
            "2.25\n",
            "-5.5\n",
            "<class 'float'>\n",
            "<class 'float'>\n"
          ]
        }
      ]
    },
    {
      "cell_type": "code",
      "source": [
        "#3.complex numbers---> complex:- A real number withits imaginary part i sknown as complex number\n",
        "#imaginary part denoted letter \"J\"--> IS KNOWN as Iota---> root -1\n",
        "print(2+5j)\n",
        "print(type(2+5j))"
      ],
      "metadata": {
        "colab": {
          "base_uri": "https://localhost:8080/"
        },
        "id": "hInigsLWdZh5",
        "outputId": "247d8672-b58b-4d55-b29c-afc3023d1dc9"
      },
      "execution_count": null,
      "outputs": [
        {
          "output_type": "stream",
          "name": "stdout",
          "text": [
            "(2+5j)\n",
            "<class 'complex'>\n"
          ]
        }
      ]
    },
    {
      "cell_type": "code",
      "source": [
        "print(type(2.0))\n",
        "print(type(0))\n",
        "print(type(0.0))"
      ],
      "metadata": {
        "colab": {
          "base_uri": "https://localhost:8080/"
        },
        "id": "mq_e7azpdlrv",
        "outputId": "e3bb8e4f-2c18-4f8d-89ae-7cbbe5a2bfd4"
      },
      "execution_count": null,
      "outputs": [
        {
          "output_type": "stream",
          "name": "stdout",
          "text": [
            "<class 'float'>\n",
            "<class 'int'>\n",
            "<class 'float'>\n"
          ]
        }
      ]
    },
    {
      "cell_type": "code",
      "source": [
        "print(type(6j))"
      ],
      "metadata": {
        "colab": {
          "base_uri": "https://localhost:8080/"
        },
        "id": "zRe5EMPJdqyU",
        "outputId": "e5c4a25a-68f6-483c-abb2-543f330d4a9f"
      },
      "execution_count": null,
      "outputs": [
        {
          "output_type": "stream",
          "name": "stdout",
          "text": [
            "<class 'complex'>\n"
          ]
        }
      ]
    },
    {
      "cell_type": "markdown",
      "source": [
        "Arthematic operators"
      ],
      "metadata": {
        "id": "r6dRHqxRd3B1"
      }
    },
    {
      "cell_type": "code",
      "source": [
        "#There are 7 types\n",
        "#1.Addition---> +\n",
        "print(10 + 5)\n",
        "print(type(10+5))"
      ],
      "metadata": {
        "colab": {
          "base_uri": "https://localhost:8080/"
        },
        "id": "6IVQGGfUd4Ta",
        "outputId": "15ed808a-bf4e-4f7e-d01a-6924b6a0ef90"
      },
      "execution_count": null,
      "outputs": [
        {
          "output_type": "stream",
          "name": "stdout",
          "text": [
            "15\n",
            "<class 'int'>\n"
          ]
        }
      ]
    },
    {
      "cell_type": "code",
      "source": [
        "#2.sunstarction--->-\n",
        "print(10-5)\n",
        "print(type(10-5))"
      ],
      "metadata": {
        "colab": {
          "base_uri": "https://localhost:8080/"
        },
        "id": "E4O_JFijeJjC",
        "outputId": "48de2a09-bf90-467e-a7b5-7cbcc07cf1c7"
      },
      "execution_count": null,
      "outputs": [
        {
          "output_type": "stream",
          "name": "stdout",
          "text": [
            "5\n",
            "<class 'int'>\n"
          ]
        }
      ]
    },
    {
      "cell_type": "code",
      "source": [
        "#multiplication----> *\n",
        "print(10*5)\n",
        "print(type(10*5))"
      ],
      "metadata": {
        "colab": {
          "base_uri": "https://localhost:8080/"
        },
        "id": "cIEFdX9ceSkF",
        "outputId": "82f7280d-9504-48be-a5d6-c8ee2a32b7b2"
      },
      "execution_count": null,
      "outputs": [
        {
          "output_type": "stream",
          "name": "stdout",
          "text": [
            "50\n",
            "<class 'int'>\n"
          ]
        }
      ]
    },
    {
      "cell_type": "code",
      "source": [
        "#4.division---> /\n",
        "print(10/5)\n",
        "print(type(10/5))\n",
        "#the default data type for division is a float\n",
        "#so to get a proper co-efficient the default data type is a float"
      ],
      "metadata": {
        "colab": {
          "base_uri": "https://localhost:8080/"
        },
        "id": "mJ2--hPWedpe",
        "outputId": "22b094aa-cbf9-4142-8b6c-16c90eacd765"
      },
      "execution_count": null,
      "outputs": [
        {
          "output_type": "stream",
          "name": "stdout",
          "text": [
            "2.0\n",
            "<class 'float'>\n"
          ]
        }
      ]
    },
    {
      "cell_type": "code",
      "source": [
        "print(3+2*4)"
      ],
      "metadata": {
        "colab": {
          "base_uri": "https://localhost:8080/"
        },
        "id": "m8deJCMAellB",
        "outputId": "e3b67da3-261d-42a7-ce6e-258523bfaa63"
      },
      "execution_count": null,
      "outputs": [
        {
          "output_type": "stream",
          "name": "stdout",
          "text": [
            "11\n"
          ]
        }
      ]
    },
    {
      "cell_type": "code",
      "source": [
        "#5.Modulus---> %--> it is remainder of the division\n",
        "print(10%5)\n",
        "print(type(10%5))"
      ],
      "metadata": {
        "colab": {
          "base_uri": "https://localhost:8080/"
        },
        "id": "WkdkwEvXeq9j",
        "outputId": "fee9c5fc-264a-4e08-a45f-09857e5843c1"
      },
      "execution_count": null,
      "outputs": [
        {
          "output_type": "stream",
          "name": "stdout",
          "text": [
            "0\n",
            "<class 'int'>\n"
          ]
        }
      ]
    },
    {
      "cell_type": "code",
      "source": [
        "print(63526%2)"
      ],
      "metadata": {
        "colab": {
          "base_uri": "https://localhost:8080/"
        },
        "id": "7O4M4KHMeweJ",
        "outputId": "cfc1a141-c10d-4c9c-ce56-9a73989b1adf"
      },
      "execution_count": null,
      "outputs": [
        {
          "output_type": "stream",
          "name": "stdout",
          "text": [
            "0\n"
          ]
        }
      ]
    },
    {
      "cell_type": "code",
      "source": [
        "#6.exponential ---> **--> to the power off\n",
        "print(2**3)\n",
        "print(type(2**3))"
      ],
      "metadata": {
        "colab": {
          "base_uri": "https://localhost:8080/"
        },
        "id": "OfFurLone1hA",
        "outputId": "79f2f013-e2e2-4be5-d081-4c8f73d04c5d"
      },
      "execution_count": null,
      "outputs": [
        {
          "output_type": "stream",
          "name": "stdout",
          "text": [
            "8\n",
            "<class 'int'>\n"
          ]
        }
      ]
    },
    {
      "cell_type": "code",
      "source": [
        "#7.floor division--> also known integer division\n",
        "#in floor division it ignores the values after decimal point\n",
        "print(10/3)\n",
        "print(10//3)\n",
        "print(type(10//3))"
      ],
      "metadata": {
        "colab": {
          "base_uri": "https://localhost:8080/"
        },
        "id": "RNg2WwOGe6eQ",
        "outputId": "e6a601c5-9d85-4c2f-eca3-4efee658ba3c"
      },
      "execution_count": null,
      "outputs": [
        {
          "output_type": "stream",
          "name": "stdout",
          "text": [
            "3.3333333333333335\n",
            "3\n",
            "<class 'int'>\n"
          ]
        }
      ]
    },
    {
      "cell_type": "markdown",
      "source": [
        "floor value and ceil value"
      ],
      "metadata": {
        "id": "GCP4f84jfBkr"
      }
    },
    {
      "cell_type": "code",
      "source": [
        "#the values before diecimal point is known as floor value\n",
        "#if the decimal point is more then 0.5 the next upcoming value is known as ceil value"
      ],
      "metadata": {
        "id": "GNohgnHBfCdv"
      },
      "execution_count": null,
      "outputs": []
    },
    {
      "cell_type": "markdown",
      "source": [
        "Round()"
      ],
      "metadata": {
        "id": "vuzwGcWRfh1L"
      }
    },
    {
      "cell_type": "code",
      "source": [
        "#The round function is applicable only for the decimal number\n",
        "print(round(7))"
      ],
      "metadata": {
        "colab": {
          "base_uri": "https://localhost:8080/"
        },
        "id": "ELi2JiLAfi72",
        "outputId": "c6e52e09-59b6-471f-ebb3-ae586cf80a9e"
      },
      "execution_count": null,
      "outputs": [
        {
          "output_type": "stream",
          "name": "stdout",
          "text": [
            "7\n"
          ]
        }
      ]
    },
    {
      "cell_type": "code",
      "source": [
        "print(round(7.25))\n",
        "print(round(7.56))"
      ],
      "metadata": {
        "colab": {
          "base_uri": "https://localhost:8080/"
        },
        "id": "xuHhCbLdfqut",
        "outputId": "638a05ae-1b45-4a2a-fe91-5c30a5db1486"
      },
      "execution_count": null,
      "outputs": [
        {
          "output_type": "stream",
          "name": "stdout",
          "text": [
            "7\n",
            "8\n"
          ]
        }
      ]
    },
    {
      "cell_type": "code",
      "source": [
        "print(round(-5.496))"
      ],
      "metadata": {
        "colab": {
          "base_uri": "https://localhost:8080/"
        },
        "id": "yehTVUmtfv11",
        "outputId": "3decd368-6c4c-446e-d124-de9706950d65"
      },
      "execution_count": null,
      "outputs": [
        {
          "output_type": "stream",
          "name": "stdout",
          "text": [
            "-5\n"
          ]
        }
      ]
    },
    {
      "cell_type": "code",
      "source": [
        "print(round(5342.36256363473))\n",
        "#round of the n umber to the 2 ndigits\n",
        "print(round(5342.36656363473,2))"
      ],
      "metadata": {
        "colab": {
          "base_uri": "https://localhost:8080/"
        },
        "id": "HXDmwCyNf10X",
        "outputId": "3489bbc6-aff0-4467-fcfd-eeea2709d347"
      },
      "execution_count": null,
      "outputs": [
        {
          "output_type": "stream",
          "name": "stdout",
          "text": [
            "5342\n",
            "5342.37\n"
          ]
        }
      ]
    },
    {
      "cell_type": "code",
      "source": [
        "print(round(12345.45672,2))"
      ],
      "metadata": {
        "colab": {
          "base_uri": "https://localhost:8080/"
        },
        "id": "idrkH0Ilf6aq",
        "outputId": "3d22e857-a232-4bc4-de35-1060f9f84162"
      },
      "execution_count": null,
      "outputs": [
        {
          "output_type": "stream",
          "name": "stdout",
          "text": [
            "12345.46\n"
          ]
        }
      ]
    },
    {
      "cell_type": "code",
      "source": [
        "print(round(12345.98282872,-1))\n",
        "#when we use -ve ndigit the values after the decimal point becomes zero"
      ],
      "metadata": {
        "colab": {
          "base_uri": "https://localhost:8080/"
        },
        "id": "FpkGvfUyf_yI",
        "outputId": "404e6ce9-01de-4881-f9c2-f3a0c5acaf25"
      },
      "execution_count": null,
      "outputs": [
        {
          "output_type": "stream",
          "name": "stdout",
          "text": [
            "12350.0\n"
          ]
        }
      ]
    },
    {
      "cell_type": "code",
      "source": [
        "print(round(12345.98282872,-5))"
      ],
      "metadata": {
        "colab": {
          "base_uri": "https://localhost:8080/"
        },
        "id": "GuUD3Jl2gFH0",
        "outputId": "f6a26acf-a37e-407b-acb7-5a598fab6d64"
      },
      "execution_count": null,
      "outputs": [
        {
          "output_type": "stream",
          "name": "stdout",
          "text": [
            "0.0\n"
          ]
        }
      ]
    },
    {
      "cell_type": "code",
      "source": [
        "print(round(356.765,-2))"
      ],
      "metadata": {
        "colab": {
          "base_uri": "https://localhost:8080/"
        },
        "id": "U3kLo5GagJFr",
        "outputId": "3df7d346-3647-4b7b-c8fe-4cb45cc0fcf1"
      },
      "execution_count": null,
      "outputs": [
        {
          "output_type": "stream",
          "name": "stdout",
          "text": [
            "400.0\n"
          ]
        }
      ]
    },
    {
      "cell_type": "code",
      "source": [
        "print(round(2647.89823,-3))"
      ],
      "metadata": {
        "colab": {
          "base_uri": "https://localhost:8080/"
        },
        "id": "tuiP95HlgVM8",
        "outputId": "c52120c5-e5a7-4bc8-a30e-b0e67510f81c"
      },
      "execution_count": null,
      "outputs": [
        {
          "output_type": "stream",
          "name": "stdout",
          "text": [
            "3000.0\n"
          ]
        }
      ]
    },
    {
      "cell_type": "markdown",
      "source": [
        "01-07-2025"
      ],
      "metadata": {
        "id": "C8FPb53_gyKQ"
      }
    },
    {
      "cell_type": "code",
      "source": [
        "#print()\n",
        "#type()\n",
        "#round()"
      ],
      "metadata": {
        "id": "UBZC5LOfgz73"
      },
      "execution_count": null,
      "outputs": []
    },
    {
      "cell_type": "code",
      "source": [
        "print(round(9.56))\n",
        "print(round(654.928272,3))"
      ],
      "metadata": {
        "colab": {
          "base_uri": "https://localhost:8080/"
        },
        "id": "vWv0UaoGhwUp",
        "outputId": "b8a0cd6d-658b-4950-d64e-49530580bb87"
      },
      "execution_count": null,
      "outputs": [
        {
          "output_type": "stream",
          "name": "stdout",
          "text": [
            "10\n",
            "654.928\n"
          ]
        }
      ]
    },
    {
      "cell_type": "code",
      "source": [
        "print(round(35436.37846387,-2))"
      ],
      "metadata": {
        "colab": {
          "base_uri": "https://localhost:8080/"
        },
        "id": "eIZ6IRc9h4U5",
        "outputId": "c61984d1-9531-492e-828e-832964e9235e"
      },
      "execution_count": null,
      "outputs": [
        {
          "output_type": "stream",
          "name": "stdout",
          "text": [
            "35400.0\n"
          ]
        }
      ]
    },
    {
      "cell_type": "code",
      "source": [
        "print(round(43732.29489737,-3))"
      ],
      "metadata": {
        "colab": {
          "base_uri": "https://localhost:8080/"
        },
        "id": "IxYS8CiJiAkw",
        "outputId": "93b06504-9096-4101-88cc-a0c4d1f4b6e4"
      },
      "execution_count": null,
      "outputs": [
        {
          "output_type": "stream",
          "name": "stdout",
          "text": [
            "44000.0\n"
          ]
        }
      ]
    },
    {
      "cell_type": "code",
      "source": [
        "#what is variable?\n",
        "#variable is a continer where we can store our valuable information and reuse it\n",
        "a = 10\n",
        "b = 5\n",
        "print(a+b)\n",
        "print(a-b)\n",
        "print(a*b)\n",
        "print(a/b)\n",
        "print(a%b)\n",
        "print(a**b)\n",
        "print(a//b)"
      ],
      "metadata": {
        "colab": {
          "base_uri": "https://localhost:8080/"
        },
        "id": "ZN91OYDRiZFO",
        "outputId": "881b7bdb-752d-4993-89f6-643c68ed2cdd"
      },
      "execution_count": null,
      "outputs": [
        {
          "output_type": "stream",
          "name": "stdout",
          "text": [
            "15\n",
            "5\n",
            "50\n",
            "2.0\n",
            "0\n",
            "100000\n",
            "2\n"
          ]
        }
      ]
    },
    {
      "cell_type": "markdown",
      "source": [
        "Types of error"
      ],
      "metadata": {
        "id": "JCK2HQemic1k"
      }
    },
    {
      "cell_type": "code",
      "source": [
        "#In Python there are 2 types of erros\n",
        "#1.syntax error:- breaking the rules of a programming language can rise syntax error\n",
        "\"\"\" Hello\n",
        "Good evening! '''"
      ],
      "metadata": {
        "id": "TCbL2ZJ1iluU"
      },
      "execution_count": null,
      "outputs": []
    },
    {
      "cell_type": "code",
      "source": [
        "#2.Logical errors:- except syntax error all the errors comes under the logical error\n",
        "#ex:- indentation error, Name error,  Type error, Attribute error, recursive error...etc"
      ],
      "metadata": {
        "id": "EfAP3Yq0iq-k"
      },
      "execution_count": null,
      "outputs": []
    },
    {
      "cell_type": "markdown",
      "source": [
        "Rules to create variables"
      ],
      "metadata": {
        "id": "rPQjtWeHi5Rl"
      }
    },
    {
      "cell_type": "code",
      "source": [
        "#1.start creating the variable by using the alphabets\n",
        "a = \"Hello\"\n",
        "print(a)"
      ],
      "metadata": {
        "colab": {
          "base_uri": "https://localhost:8080/"
        },
        "id": "dp8WQDmZi6L8",
        "outputId": "49b8b6ed-b65a-4992-b62c-5fcca470f599"
      },
      "execution_count": null,
      "outputs": [
        {
          "output_type": "stream",
          "name": "stdout",
          "text": [
            "Hello\n"
          ]
        }
      ]
    },
    {
      "cell_type": "code",
      "source": [
        "#2.dont start creating the varible by using numbers\n",
        "2 = \"hell world!\"\n",
        "print(2)"
      ],
      "metadata": {
        "id": "rHI0O4MHjLRp"
      },
      "execution_count": null,
      "outputs": []
    },
    {
      "cell_type": "code",
      "source": [
        "#3. if you follow rule 1 and 2 start creating variable by using alphabets in b/w use the numbers\n",
        "dsgas635dsjh = 100\n",
        "print(dsgas635dsjh)"
      ],
      "metadata": {
        "colab": {
          "base_uri": "https://localhost:8080/"
        },
        "id": "dMUBFohTjeWv",
        "outputId": "62f6c88e-598b-4c99-a26b-6fad092285ed"
      },
      "execution_count": null,
      "outputs": [
        {
          "output_type": "stream",
          "name": "stdout",
          "text": [
            "100\n"
          ]
        }
      ]
    },
    {
      "cell_type": "code",
      "source": [
        "#4.Don't use the special charceters in the variable names-->!,@,#,$,%,^,&,*,-,.,<space>\n",
        "son age = 20\n",
        "print(son age)"
      ],
      "metadata": {
        "id": "abUt0iO0jmgF"
      },
      "execution_count": null,
      "outputs": []
    },
    {
      "cell_type": "code",
      "source": [
        "#5.use the _ (underscore) in the varible name\n",
        "_ = \"hello\"\n",
        "print(_)"
      ],
      "metadata": {
        "colab": {
          "base_uri": "https://localhost:8080/"
        },
        "id": "-4mTioc6jqkg",
        "outputId": "f5a75ba7-2bfc-433f-a211-e14036df08e1"
      },
      "execution_count": null,
      "outputs": [
        {
          "output_type": "stream",
          "name": "stdout",
          "text": [
            "hello\n"
          ]
        }
      ]
    },
    {
      "cell_type": "code",
      "source": [
        "#6.don't use the inbuilt keywords as a variable name\n",
        "True = 10\n",
        "print(True)"
      ],
      "metadata": {
        "id": "2lsrJQ2Ljx7G"
      },
      "execution_count": null,
      "outputs": []
    },
    {
      "cell_type": "code",
      "source": [
        "#print all the inbuilt keywords\n",
        "import keyword\n",
        "print(keyword.kwlist)"
      ],
      "metadata": {
        "colab": {
          "base_uri": "https://localhost:8080/"
        },
        "id": "sHYgxGNSj7K-",
        "outputId": "8162696f-de3b-4cbf-9f14-f58936a34d89"
      },
      "execution_count": null,
      "outputs": [
        {
          "output_type": "stream",
          "name": "stdout",
          "text": [
            "['False', 'None', 'True', 'and', 'as', 'assert', 'async', 'await', 'break', 'class', 'continue', 'def', 'del', 'elif', 'else', 'except', 'finally', 'for', 'from', 'global', 'if', 'import', 'in', 'is', 'lambda', 'nonlocal', 'not', 'or', 'pass', 'raise', 'return', 'try', 'while', 'with', 'yield']\n"
          ]
        }
      ]
    },
    {
      "cell_type": "code",
      "source": [
        "global = 10\n",
        "print(global)"
      ],
      "metadata": {
        "id": "KOEgla3SkFlp"
      },
      "execution_count": null,
      "outputs": []
    },
    {
      "cell_type": "markdown",
      "source": [
        "python is a object oriented programming language"
      ],
      "metadata": {
        "id": "LtaMXtMEliya"
      }
    },
    {
      "cell_type": "code",
      "source": [
        "a = 10\n",
        "print(type(a))"
      ],
      "metadata": {
        "colab": {
          "base_uri": "https://localhost:8080/"
        },
        "id": "IVaGh_AFlkGA",
        "outputId": "618cd5ca-d6ef-4b0c-afb8-e62aa22e8650"
      },
      "execution_count": null,
      "outputs": [
        {
          "output_type": "stream",
          "name": "stdout",
          "text": [
            "<class 'int'>\n"
          ]
        }
      ]
    },
    {
      "cell_type": "markdown",
      "source": [
        "python is a interpreted programming language"
      ],
      "metadata": {
        "id": "TaB9oTspluch"
      }
    },
    {
      "cell_type": "code",
      "source": [
        "a = 10\n",
        "b = 20\n",
        "a = 30\n",
        "b = 60\n",
        "print(a+b)"
      ],
      "metadata": {
        "colab": {
          "base_uri": "https://localhost:8080/"
        },
        "id": "v5Bg3eWulvdo",
        "outputId": "7253fd75-007f-4045-e1da-21d19de390fd"
      },
      "execution_count": null,
      "outputs": [
        {
          "output_type": "stream",
          "name": "stdout",
          "text": [
            "90\n"
          ]
        }
      ]
    },
    {
      "cell_type": "markdown",
      "source": [
        "Python is a dynamically typed programming language"
      ],
      "metadata": {
        "id": "1SoL2qAHl3zf"
      }
    },
    {
      "cell_type": "code",
      "source": [
        "a = \"hello\"\n",
        "print(type(a))"
      ],
      "metadata": {
        "colab": {
          "base_uri": "https://localhost:8080/"
        },
        "id": "S1Pdz9LZl4wq",
        "outputId": "ddd0a4b9-21a1-4c24-cb43-cf40ac9b9a10"
      },
      "execution_count": null,
      "outputs": [
        {
          "output_type": "stream",
          "name": "stdout",
          "text": [
            "<class 'str'>\n"
          ]
        }
      ]
    },
    {
      "cell_type": "markdown",
      "source": [
        "python is a case sensitive programming language"
      ],
      "metadata": {
        "id": "Pyv1Y65Fl_1Q"
      }
    },
    {
      "cell_type": "code",
      "source": [
        "c = 10\n",
        "print(C)"
      ],
      "metadata": {
        "id": "QahG6MClmFDW"
      },
      "execution_count": null,
      "outputs": []
    },
    {
      "cell_type": "markdown",
      "source": [
        "smart ways of writing the variables"
      ],
      "metadata": {
        "id": "D3poS34VmPOI"
      }
    },
    {
      "cell_type": "code",
      "source": [
        "#Assign the multiple values to the multiple variables and print it ina separate line?\n",
        "a,b = 10,20\n",
        "print(a)\n",
        "print(b)"
      ],
      "metadata": {
        "colab": {
          "base_uri": "https://localhost:8080/"
        },
        "id": "N-2ZpAZ2mQ4q",
        "outputId": "467e4af2-0b12-4542-9e26-48338139bf45"
      },
      "execution_count": null,
      "outputs": [
        {
          "output_type": "stream",
          "name": "stdout",
          "text": [
            "10\n",
            "20\n"
          ]
        }
      ]
    },
    {
      "cell_type": "code",
      "source": [
        "a,b,c = 10,20,30\n",
        "print(a,b,c, sep='\\n')"
      ],
      "metadata": {
        "colab": {
          "base_uri": "https://localhost:8080/"
        },
        "id": "bwY7yANQmZT-",
        "outputId": "f4aa722f-e2ca-4bca-ddde-3ec3fe8531f9"
      },
      "execution_count": null,
      "outputs": [
        {
          "output_type": "stream",
          "name": "stdout",
          "text": [
            "10\n",
            "20\n",
            "30\n"
          ]
        }
      ]
    },
    {
      "cell_type": "markdown",
      "source": [
        "02-07-2025"
      ],
      "metadata": {
        "id": "tuFqMGhwmgju"
      }
    },
    {
      "cell_type": "code",
      "source": [
        "#Assign a single or same value to the multiple variables and print it in a separate line?\n",
        "a = 10\n",
        "b = a\n",
        "c = b\n",
        "print(a,b,c, sep=\"\\n\")"
      ],
      "metadata": {
        "colab": {
          "base_uri": "https://localhost:8080/"
        },
        "id": "CrrxH0SImmoS",
        "outputId": "c236845f-f1a8-4f80-b3fd-86e6d2ed5115"
      },
      "execution_count": null,
      "outputs": [
        {
          "output_type": "stream",
          "name": "stdout",
          "text": [
            "10\n",
            "10\n",
            "10\n"
          ]
        }
      ]
    },
    {
      "cell_type": "code",
      "source": [
        "a,b,c = 10,10,10\n",
        "print(a,b,c, sep=\"\\n\")"
      ],
      "metadata": {
        "colab": {
          "base_uri": "https://localhost:8080/"
        },
        "id": "9B1KzPmAmtvx",
        "outputId": "fddd2696-6bb1-4ee8-a778-419c47b9e07b"
      },
      "execution_count": null,
      "outputs": [
        {
          "output_type": "stream",
          "name": "stdout",
          "text": [
            "10\n",
            "10\n",
            "10\n"
          ]
        }
      ]
    },
    {
      "cell_type": "markdown",
      "source": [
        "input()"
      ],
      "metadata": {
        "id": "B-ZIhLIFmx8A"
      }
    },
    {
      "cell_type": "code",
      "source": [
        "#what is a input()?\n",
        "#input() intakes any kind of information and store it\n",
        "#How can we create  input() and how can we access the values from input()\n",
        "a = input('enter you email ')\n",
        "print(a)\n",
        "print(type(a))"
      ],
      "metadata": {
        "colab": {
          "base_uri": "https://localhost:8080/"
        },
        "id": "_zYvU8v_m0Gg",
        "outputId": "abf3f14d-af96-4b8d-a5fa-c6fdc3d2bc46"
      },
      "execution_count": null,
      "outputs": [
        {
          "output_type": "stream",
          "name": "stdout",
          "text": [
            "enter you email ram123@gmail.com\n",
            "ram123@gmail.com\n",
            "<class 'str'>\n"
          ]
        }
      ]
    },
    {
      "cell_type": "code",
      "source": [
        "a = input()\n",
        "b = input()\n",
        "print(a+b)\n",
        "#so input() takes any kind of information from user and by default it store it as a string"
      ],
      "metadata": {
        "colab": {
          "base_uri": "https://localhost:8080/"
        },
        "id": "Y6_I4qPjnH0E",
        "outputId": "0cc76749-f9b4-4c58-e6ad-582480071ae1"
      },
      "execution_count": null,
      "outputs": [
        {
          "output_type": "stream",
          "name": "stdout",
          "text": [
            "20\n",
            "25\n",
            "2025\n"
          ]
        }
      ]
    },
    {
      "cell_type": "code",
      "source": [
        "#How can we deal with numerical data when we use input()?\n",
        "#by defining numerical data type infront of input()\n",
        "a = int(input(\"enter number1 \"))\n",
        "b = int(input(\"enter number 2\"))\n",
        "print(a+b)"
      ],
      "metadata": {
        "colab": {
          "base_uri": "https://localhost:8080/"
        },
        "id": "9GHzRXfCnST3",
        "outputId": "e12cc721-6c91-4933-a046-a1af7312887c"
      },
      "execution_count": null,
      "outputs": [
        {
          "output_type": "stream",
          "name": "stdout",
          "text": [
            "enter number1 20\n",
            "enter number 225\n",
            "45\n"
          ]
        }
      ]
    },
    {
      "cell_type": "code",
      "source": [
        "a = \"12.5\"\n",
        "print(float(a))"
      ],
      "metadata": {
        "colab": {
          "base_uri": "https://localhost:8080/"
        },
        "id": "oBcpTA3LnZ2n",
        "outputId": "0310d3f4-5f5d-4567-f53c-66042a3aa3f5"
      },
      "execution_count": null,
      "outputs": [
        {
          "output_type": "stream",
          "name": "stdout",
          "text": [
            "12.5\n"
          ]
        }
      ]
    },
    {
      "cell_type": "code",
      "source": [
        "a = 10\n",
        "#convert 10 into float\n",
        "print(float(a))"
      ],
      "metadata": {
        "colab": {
          "base_uri": "https://localhost:8080/"
        },
        "id": "G8ezuNyqneQr",
        "outputId": "9ee3d8a1-773e-429a-8ef5-7e8d7c849380"
      },
      "execution_count": null,
      "outputs": [
        {
          "output_type": "stream",
          "name": "stdout",
          "text": [
            "10.0\n"
          ]
        }
      ]
    },
    {
      "cell_type": "code",
      "source": [
        "b = 25.5\n",
        "print(int(b))"
      ],
      "metadata": {
        "colab": {
          "base_uri": "https://localhost:8080/"
        },
        "id": "sV4yOIm1ni14",
        "outputId": "a6cfb6b5-a97b-4571-da99-baa4c3ecaeb8"
      },
      "execution_count": null,
      "outputs": [
        {
          "output_type": "stream",
          "name": "stdout",
          "text": [
            "25\n"
          ]
        }
      ]
    },
    {
      "cell_type": "code",
      "source": [
        "#convert a float into string\n",
        "a = 20.5\n",
        "print(str(a))"
      ],
      "metadata": {
        "colab": {
          "base_uri": "https://localhost:8080/"
        },
        "id": "g6wPSl_6nnxP",
        "outputId": "5c35163b-1d70-44f4-d60c-6bd46ac8de93"
      },
      "execution_count": null,
      "outputs": [
        {
          "output_type": "stream",
          "name": "stdout",
          "text": [
            "20.5\n"
          ]
        }
      ]
    },
    {
      "cell_type": "code",
      "source": [
        "c = 10\n",
        "d = 30\n",
        "print(c+d)"
      ],
      "metadata": {
        "colab": {
          "base_uri": "https://localhost:8080/"
        },
        "id": "M6B4kYzbnsI6",
        "outputId": "40c08013-2865-40db-c1fe-bd86ad702012"
      },
      "execution_count": null,
      "outputs": [
        {
          "output_type": "stream",
          "name": "stdout",
          "text": [
            "40\n"
          ]
        }
      ]
    },
    {
      "cell_type": "markdown",
      "source": [
        "strings"
      ],
      "metadata": {
        "id": "JplbbRNTn0Zn"
      }
    },
    {
      "cell_type": "code",
      "source": [
        "#what is a string?\n",
        "#String is a collection of characters where each character can be accessible\n",
        "a = \"Hello world!\"\n",
        "print(a)"
      ],
      "metadata": {
        "colab": {
          "base_uri": "https://localhost:8080/"
        },
        "id": "aQbmZeCTn2pt",
        "outputId": "828fdb3a-c069-4c9c-a666-7192f130bddb"
      },
      "execution_count": null,
      "outputs": [
        {
          "output_type": "stream",
          "name": "stdout",
          "text": [
            "Hello world!\n"
          ]
        }
      ]
    },
    {
      "cell_type": "code",
      "source": [
        "#There are 2 types of string\n",
        "#single line string ---> \" \" or ' '\n",
        "#multiline string---> \"\"\" \"\"\" or ''' '''\n",
        "\n",
        "a = \"\"\"Hello team\n",
        "Good day!\n",
        "today we are having a training session about strings\"\"\"\n",
        "print(a)"
      ],
      "metadata": {
        "colab": {
          "base_uri": "https://localhost:8080/"
        },
        "id": "BuPBS-13oAB3",
        "outputId": "4680899f-84f1-4705-b389-b49b04cef7d5"
      },
      "execution_count": null,
      "outputs": [
        {
          "output_type": "stream",
          "name": "stdout",
          "text": [
            "Hello team\n",
            "Good day!\n",
            "today we are having a training session about strings\n"
          ]
        }
      ]
    },
    {
      "cell_type": "code",
      "source": [
        "#How can we access the characters from the string?\n",
        "#By using indexex and slicing operator we can access the characters from string\n",
        "#what is index?\n",
        "#it is positional number of each character in a string\n",
        "#indexing starts from 0\n",
        "#string is ordered--> means the characters in the string is having sequence of index position numbers\n",
        "#what is slicing?\n",
        "#The process of getting a range of characters from the string is known as slicing\n",
        "#The range of characters from main string is known as substring"
      ],
      "metadata": {
        "id": "jJRz3OqboIwc"
      },
      "execution_count": null,
      "outputs": []
    },
    {
      "cell_type": "code",
      "source": [
        "a = \"Hello world!\"\n",
        "#print \"H\" from above string\n",
        "#syntax:- [start_index]\n",
        "print(a[0])\n",
        "print(a[6])"
      ],
      "metadata": {
        "colab": {
          "base_uri": "https://localhost:8080/"
        },
        "id": "TnJToIZhoJsD",
        "outputId": "d04746dd-0ad6-499e-d17f-068afa682b13"
      },
      "execution_count": null,
      "outputs": [
        {
          "output_type": "stream",
          "name": "stdout",
          "text": [
            "H\n",
            "w\n"
          ]
        }
      ]
    },
    {
      "cell_type": "code",
      "source": [
        "#access the \"Hello\" from above string\n",
        "#syntax[start_index:end_index]\n",
        "print(a[0:5])\n",
        "#note:- slicing stops before one ondex position--> always end is --> n+1\n",
        "#get the 'world!' from above string\n",
        "print(a[6:12])"
      ],
      "metadata": {
        "colab": {
          "base_uri": "https://localhost:8080/"
        },
        "id": "1iurdeD2oR-a",
        "outputId": "614b79a6-6f58-41c5-c056-4ae6e64e5efc"
      },
      "execution_count": null,
      "outputs": [
        {
          "output_type": "stream",
          "name": "stdout",
          "text": [
            "Hello\n",
            "world!\n"
          ]
        }
      ]
    },
    {
      "cell_type": "code",
      "source": [
        "#print the even index position characters from the above string\n",
        "#syantax:- [start:end:step]\n",
        "print(a[0:12:2])\n",
        "#print the odd index position characters\n",
        "print(a[1:12:2])"
      ],
      "metadata": {
        "colab": {
          "base_uri": "https://localhost:8080/"
        },
        "id": "4bM5iFhwoWzk",
        "outputId": "b19abee8-c100-4119-bc0b-ac95180959dc"
      },
      "execution_count": null,
      "outputs": [
        {
          "output_type": "stream",
          "name": "stdout",
          "text": [
            "Hlowrd\n",
            "el ol!\n"
          ]
        }
      ]
    },
    {
      "cell_type": "code",
      "source": [
        "#print the last character from the string\n",
        "a = \"Hello world!\"\n",
        "print(len(a))  #len() is used find sum of characters in the string"
      ],
      "metadata": {
        "colab": {
          "base_uri": "https://localhost:8080/"
        },
        "id": "iEQ5edXUocLW",
        "outputId": "eba47739-6efa-4e9e-9aad-e1fe46cbda76"
      },
      "execution_count": null,
      "outputs": [
        {
          "output_type": "stream",
          "name": "stdout",
          "text": [
            "12\n"
          ]
        }
      ]
    },
    {
      "cell_type": "code",
      "source": [
        "print(a[len(a)-1])\n",
        "print(a[11])"
      ],
      "metadata": {
        "colab": {
          "base_uri": "https://localhost:8080/"
        },
        "id": "IjcZ0kBaogen",
        "outputId": "3ba681f0-626e-4622-8dc4-205b782f975f"
      },
      "execution_count": null,
      "outputs": [
        {
          "output_type": "stream",
          "name": "stdout",
          "text": [
            "!\n",
            "!\n"
          ]
        }
      ]
    },
    {
      "cell_type": "markdown",
      "source": [
        "Negative indexing:- accessing the range of characters in reverse direction\n",
        "\n",
        "--> Negative indexing starts from -1"
      ],
      "metadata": {
        "id": "pAiQRKF9oma1"
      }
    },
    {
      "cell_type": "code",
      "source": [
        "#print the last character\n",
        "a = input('enter your string ')\n",
        "#synatx:- [start_-ve-index]\n",
        "print(a[-1])"
      ],
      "metadata": {
        "colab": {
          "base_uri": "https://localhost:8080/"
        },
        "id": "i9TYu9c4onrU",
        "outputId": "3d2e3795-fccc-4a6c-e6f3-99451d004233"
      },
      "execution_count": null,
      "outputs": [
        {
          "output_type": "stream",
          "name": "stdout",
          "text": [
            "enter your string hello good evening\n",
            "g\n"
          ]
        }
      ]
    },
    {
      "cell_type": "code",
      "source": [
        "a = \"Hello world!\"\n",
        "#access the range of characters in reverse direction\n",
        "#print world!--> !dlrow\n",
        "#syntax:[start:end]\n",
        "print(a[-1:-7:-1])\n",
        "#The default slicing direction is from left to right side\n",
        "#if you want reverse the string we need to give step as -1"
      ],
      "metadata": {
        "colab": {
          "base_uri": "https://localhost:8080/"
        },
        "id": "fgdhucNFo1zE",
        "outputId": "61e1703f-8e89-438d-ee54-b34c008540cd"
      },
      "execution_count": null,
      "outputs": [
        {
          "output_type": "stream",
          "name": "stdout",
          "text": [
            "!dlrow\n"
          ]
        }
      ]
    },
    {
      "cell_type": "code",
      "source": [
        "print(a[-1:-13:-1])"
      ],
      "metadata": {
        "colab": {
          "base_uri": "https://localhost:8080/"
        },
        "id": "mnz2oSCKo6WV",
        "outputId": "cdc54928-8370-4235-b92c-adf46a98eb0c"
      },
      "execution_count": null,
      "outputs": [
        {
          "output_type": "stream",
          "name": "stdout",
          "text": [
            "!dlrow olleH\n"
          ]
        }
      ]
    },
    {
      "cell_type": "markdown",
      "source": [
        "03-07-2025"
      ],
      "metadata": {
        "id": "pg8wP5tLpCK7"
      }
    },
    {
      "cell_type": "code",
      "source": [
        "a = \"Hello world!\"\n",
        "print(a[6])\n",
        "print(a[0:5])\n",
        "print(a[0:12:2])\n",
        "#olleH\n",
        "print(a[-8:-13:-1])"
      ],
      "metadata": {
        "colab": {
          "base_uri": "https://localhost:8080/"
        },
        "id": "GnkCnLQxpEgm",
        "outputId": "4550dbfc-1a17-4a7e-adce-52c1849ecd5b"
      },
      "execution_count": null,
      "outputs": [
        {
          "output_type": "stream",
          "name": "stdout",
          "text": [
            "w\n",
            "Hello\n",
            "Hlowrd\n",
            "olleH\n"
          ]
        }
      ]
    },
    {
      "cell_type": "code",
      "source": [
        "#deafult indexing\n",
        "a = \"Hello world!\"\n",
        "# print(a[:])\n",
        "# print(a[0:len(a)])\n",
        "print(a[::])\n",
        "#print the even index position chracters\n",
        "print(a[::2])\n",
        "#odd index position characters?\n",
        "print(a[1::2])\n",
        "#reverse the entire string\n",
        "print(a[::-1])\n",
        "#syantax-->[start(0):end(len):step(1)]"
      ],
      "metadata": {
        "colab": {
          "base_uri": "https://localhost:8080/"
        },
        "id": "PFmIhgEGpOdk",
        "outputId": "3acd57b1-c643-4017-f5bb-7d15751aa383"
      },
      "execution_count": null,
      "outputs": [
        {
          "output_type": "stream",
          "name": "stdout",
          "text": [
            "Hello world!\n",
            "Hlowrd\n",
            "el ol!\n",
            "!dlrow olleH\n"
          ]
        }
      ]
    },
    {
      "cell_type": "code",
      "source": [
        "a = input(\"enter the string \")\n",
        "print(a[::-1])"
      ],
      "metadata": {
        "colab": {
          "base_uri": "https://localhost:8080/"
        },
        "id": "BaUNNqS_pUeN",
        "outputId": "78a2b600-b389-4455-eb4a-b02d3d6ba9b2"
      },
      "execution_count": null,
      "outputs": [
        {
          "output_type": "stream",
          "name": "stdout",
          "text": [
            "enter the string madam\n",
            "madam\n"
          ]
        }
      ]
    },
    {
      "cell_type": "markdown",
      "source": [
        "STRING Methods"
      ],
      "metadata": {
        "id": "lTVrj3_6pdmW"
      }
    },
    {
      "cell_type": "code",
      "source": [
        "#the methods applicable on string is known as string methods\n",
        "#what are string methods do we have?\n",
        "a = \"hello world!\"\n",
        "print(dir(a))\n",
        "\"\"\"'capitalize', 'casefold', 'center', 'count', 'encode', 'endswith', 'expandtabs',\n",
        " 'find', 'format', 'format_map', 'index', 'isalnum', 'isalpha', 'isascii', 'isdecimal',\n",
        "  'isdigit', 'isidentifier', 'islower', 'isnumeric', 'isprintable', 'isspace', 'istitle',\n",
        "  'isupper', 'join', 'ljust', 'lower', 'lstrip', 'maketrans', 'partition', 'removeprefix',\n",
        "   'removesuffix','replace', 'rfind', 'rindex', 'rjust', 'rpartition', 'rsplit', 'rstrip',\n",
        "    'split', 'splitlines', 'startswith', 'strip', 'swapcase', 'title', 'translate', 'upper',\n",
        "     'zfill'    \"\"\""
      ],
      "metadata": {
        "colab": {
          "base_uri": "https://localhost:8080/",
          "height": 125
        },
        "id": "O-fcqMmPpeh3",
        "outputId": "1b8acf52-ca6a-435d-9ae8-51face6fb358"
      },
      "execution_count": null,
      "outputs": [
        {
          "output_type": "stream",
          "name": "stdout",
          "text": [
            "['__add__', '__class__', '__contains__', '__delattr__', '__dir__', '__doc__', '__eq__', '__format__', '__ge__', '__getattribute__', '__getitem__', '__getnewargs__', '__getstate__', '__gt__', '__hash__', '__init__', '__init_subclass__', '__iter__', '__le__', '__len__', '__lt__', '__mod__', '__mul__', '__ne__', '__new__', '__reduce__', '__reduce_ex__', '__repr__', '__rmod__', '__rmul__', '__setattr__', '__sizeof__', '__str__', '__subclasshook__', 'capitalize', 'casefold', 'center', 'count', 'encode', 'endswith', 'expandtabs', 'find', 'format', 'format_map', 'index', 'isalnum', 'isalpha', 'isascii', 'isdecimal', 'isdigit', 'isidentifier', 'islower', 'isnumeric', 'isprintable', 'isspace', 'istitle', 'isupper', 'join', 'ljust', 'lower', 'lstrip', 'maketrans', 'partition', 'removeprefix', 'removesuffix', 'replace', 'rfind', 'rindex', 'rjust', 'rpartition', 'rsplit', 'rstrip', 'split', 'splitlines', 'startswith', 'strip', 'swapcase', 'title', 'translate', 'upper', 'zfill']\n"
          ]
        },
        {
          "output_type": "execute_result",
          "data": {
            "text/plain": [
              "\"'capitalize', 'casefold', 'center', 'count', 'encode', 'endswith', 'expandtabs',\\n 'find', 'format', 'format_map', 'index', 'isalnum', 'isalpha', 'isascii', 'isdecimal',\\n  'isdigit', 'isidentifier', 'islower', 'isnumeric', 'isprintable', 'isspace', 'istitle',\\n  'isupper', 'join', 'ljust', 'lower', 'lstrip', 'maketrans', 'partition', 'removeprefix',\\n   'removesuffix','replace', 'rfind', 'rindex', 'rjust', 'rpartition', 'rsplit', 'rstrip',\\n    'split', 'splitlines', 'startswith', 'strip', 'swapcase', 'title', 'translate', 'upper',\\n     'zfill'    \""
            ],
            "application/vnd.google.colaboratory.intrinsic+json": {
              "type": "string"
            }
          },
          "metadata": {},
          "execution_count": 64
        }
      ]
    },
    {
      "cell_type": "markdown",
      "source": [
        "Important string methods"
      ],
      "metadata": {
        "id": "sDHui1zPprtb"
      }
    },
    {
      "cell_type": "code",
      "source": [
        "#capitalize():-converts the 1st letter into capital letter\n",
        "a = \"hello world!\"\n",
        "print(a.capitalize())"
      ],
      "metadata": {
        "colab": {
          "base_uri": "https://localhost:8080/"
        },
        "id": "5s4-Y9VPps6C",
        "outputId": "e62d1683-0f28-4ab2-9ddf-979a785642d5"
      },
      "execution_count": null,
      "outputs": [
        {
          "output_type": "stream",
          "name": "stdout",
          "text": [
            "Hello world!\n"
          ]
        }
      ]
    },
    {
      "cell_type": "code",
      "source": [
        "#upper():\n",
        "print(a.upper())"
      ],
      "metadata": {
        "colab": {
          "base_uri": "https://localhost:8080/"
        },
        "id": "IUZj51zCp1Y7",
        "outputId": "d42452d2-f692-468b-e1d1-947535b61e5d"
      },
      "execution_count": null,
      "outputs": [
        {
          "output_type": "stream",
          "name": "stdout",
          "text": [
            "HELLO WORLD!\n"
          ]
        }
      ]
    },
    {
      "cell_type": "code",
      "source": [
        "#lower()\n",
        "print(a.lower())"
      ],
      "metadata": {
        "colab": {
          "base_uri": "https://localhost:8080/"
        },
        "id": "q1ur_Lxmp5yO",
        "outputId": "e8a83cc6-3f71-402c-d236-4110100f24e2"
      },
      "execution_count": null,
      "outputs": [
        {
          "output_type": "stream",
          "name": "stdout",
          "text": [
            "hello world!\n"
          ]
        }
      ]
    },
    {
      "cell_type": "code",
      "source": [
        "#title():- converts the 1st letter in to uppercase after space\n",
        "a = \"hello world!\"\n",
        "print(a.title())"
      ],
      "metadata": {
        "colab": {
          "base_uri": "https://localhost:8080/"
        },
        "id": "5--H6YiZp-fu",
        "outputId": "4e463fb7-6ce9-4b9a-c515-870f5cab3b9a"
      },
      "execution_count": null,
      "outputs": [
        {
          "output_type": "stream",
          "name": "stdout",
          "text": [
            "Hello World!\n"
          ]
        }
      ]
    },
    {
      "cell_type": "code",
      "source": [
        "#**replace(old,new):- is used to replace the old string with new string\n",
        "#from above replace world with universe and print \"Hello universe!\"\n",
        "print(a.replace('world','universe'))"
      ],
      "metadata": {
        "colab": {
          "base_uri": "https://localhost:8080/"
        },
        "id": "age4f-O_qDGQ",
        "outputId": "79c638da-75fc-47f0-b810-a0f6a9fc5052"
      },
      "execution_count": null,
      "outputs": [
        {
          "output_type": "stream",
          "name": "stdout",
          "text": [
            "hello universe!\n"
          ]
        }
      ]
    },
    {
      "cell_type": "code",
      "source": [
        "#strip():- removes unwanted spaces from the leading and trailing ends of a string\n",
        "a = \"    hello world   \"\n",
        "print(a)\n",
        "print(a.strip())\n",
        "#lstrip()\n",
        "print(a.lstrip())\n",
        "#rstrip()\n",
        "print(a.rstrip())"
      ],
      "metadata": {
        "colab": {
          "base_uri": "https://localhost:8080/"
        },
        "id": "f-jijuGCqHry",
        "outputId": "efa5d4e6-4349-4771-b932-58035a69da56"
      },
      "execution_count": null,
      "outputs": [
        {
          "output_type": "stream",
          "name": "stdout",
          "text": [
            "    hello world   \n",
            "hello world\n",
            "hello world   \n",
            "    hello world\n"
          ]
        }
      ]
    },
    {
      "cell_type": "code",
      "source": [
        "#find():- is used to find the index position of character in string\n",
        "a =\"hello world!\"\n",
        "print(a.find('l'))\n",
        "print(a.find('g'))"
      ],
      "metadata": {
        "colab": {
          "base_uri": "https://localhost:8080/"
        },
        "id": "LeN5JNQHqMWg",
        "outputId": "c57af518-1841-4d28-b595-ae920556b176"
      },
      "execution_count": null,
      "outputs": [
        {
          "output_type": "stream",
          "name": "stdout",
          "text": [
            "2\n",
            "-1\n"
          ]
        }
      ]
    },
    {
      "cell_type": "code",
      "source": [
        "#index():-is used to find the index position of character in string\n",
        "print(a.index('w'))\n",
        "print(a.index('g'))\n",
        "#what is the difference between index() and find()?"
      ],
      "metadata": {
        "id": "CtJb7XjVqQ6B"
      },
      "execution_count": null,
      "outputs": []
    },
    {
      "cell_type": "code",
      "source": [
        "#swapcase():- converts upper case in to lower and vice versa\n",
        "a = \"Hello World!\"\n",
        "print(a.swapcase())"
      ],
      "metadata": {
        "colab": {
          "base_uri": "https://localhost:8080/"
        },
        "id": "vQiN3gAzqRzf",
        "outputId": "2caa1bed-c503-4399-d714-3706df4d41fa"
      },
      "execution_count": null,
      "outputs": [
        {
          "output_type": "stream",
          "name": "stdout",
          "text": [
            "hELLO wORLD!\n"
          ]
        }
      ]
    },
    {
      "cell_type": "code",
      "source": [
        "#zfill():- zero fill:- it matches the length of the string with given argument, by filling zeros infront of string\n",
        "a = \"hello\"\n",
        "print(a.zfill(10))"
      ],
      "metadata": {
        "colab": {
          "base_uri": "https://localhost:8080/"
        },
        "id": "fN1eAbANqam8",
        "outputId": "0112d65e-2f49-4338-cf79-b123ecf11786"
      },
      "execution_count": null,
      "outputs": [
        {
          "output_type": "stream",
          "name": "stdout",
          "text": [
            "00000hello\n"
          ]
        }
      ]
    },
    {
      "cell_type": "markdown",
      "source": [
        "String format methods"
      ],
      "metadata": {
        "id": "8kaCXReuqhrD"
      }
    },
    {
      "cell_type": "code",
      "source": [
        "age = 10\n",
        "txt = \"my age is {} years old\"\n",
        "#string format method takes a argument and place it over place holder--> {}\n",
        "print(txt.format(age))"
      ],
      "metadata": {
        "colab": {
          "base_uri": "https://localhost:8080/"
        },
        "id": "mo8d8-gHqikz",
        "outputId": "2b36044e-f8c0-4269-d0cf-613a5b41def0"
      },
      "execution_count": null,
      "outputs": [
        {
          "output_type": "stream",
          "name": "stdout",
          "text": [
            "my age is 10 years old\n"
          ]
        }
      ]
    },
    {
      "cell_type": "code",
      "source": [
        "age = 10\n",
        "txt = \"my age is {} years old\".format(age)\n",
        "print(txt)"
      ],
      "metadata": {
        "colab": {
          "base_uri": "https://localhost:8080/"
        },
        "id": "6SZSZMgAqrNf",
        "outputId": "6e803781-506a-4d39-f651-c264b18b5f01"
      },
      "execution_count": null,
      "outputs": [
        {
          "output_type": "stream",
          "name": "stdout",
          "text": [
            "my age is 10 years old\n"
          ]
        }
      ]
    },
    {
      "cell_type": "code",
      "source": [
        "#f'string {format} method:-\n",
        "age = 10\n",
        "txt = f\"my age is {age} years old\"\n",
        "print(txt)"
      ],
      "metadata": {
        "colab": {
          "base_uri": "https://localhost:8080/"
        },
        "id": "2xIKcFgJqwE2",
        "outputId": "6c133736-864d-4600-ee63-5e5023785dd8"
      },
      "execution_count": null,
      "outputs": [
        {
          "output_type": "stream",
          "name": "stdout",
          "text": [
            "my age is 10 years old\n"
          ]
        }
      ]
    },
    {
      "cell_type": "code",
      "source": [
        "item = input(\"enter the item name \")\n",
        "price_each = float(input(\"enter the price \"))\n",
        "qwantity = int(input(\"enter qwantity \"))\n",
        "notify = f\"Your order for {item} has been confirmed with an qwantity of {qwantity} and Total price {price_each*qwantity}\"\n",
        "print(notify)"
      ],
      "metadata": {
        "colab": {
          "base_uri": "https://localhost:8080/"
        },
        "id": "BTxwAMXdq1DF",
        "outputId": "8f0bf832-382c-452f-eb63-ce9365c5dea1"
      },
      "execution_count": null,
      "outputs": [
        {
          "output_type": "stream",
          "name": "stdout",
          "text": [
            "enter the item name xyz mobile\n",
            "enter the price 16999\n",
            "enter qwantity 2\n",
            "Your order for xyz mobile has been confirmed with an qwantity of 2 and Total price 33998.0\n"
          ]
        }
      ]
    },
    {
      "cell_type": "markdown",
      "source": [
        "Escape characters-->is used to print the illegal characters\n",
        "\n",
        "--> escape characters --> backward slash () infront of the illegal characters"
      ],
      "metadata": {
        "id": "K9Nu_RLbrEiA"
      }
    },
    {
      "cell_type": "code",
      "source": [
        "a = \"Dwayne \\\"The Rock\\\" Johnson\"\n",
        "print(a)"
      ],
      "metadata": {
        "colab": {
          "base_uri": "https://localhost:8080/"
        },
        "id": "jGT-ZBQArF3z",
        "outputId": "617a9fd3-039e-4b4b-ddb9-6f03af407ccf"
      },
      "execution_count": null,
      "outputs": [
        {
          "output_type": "stream",
          "name": "stdout",
          "text": [
            "Dwayne \"The Rock\" Johnson\n"
          ]
        }
      ]
    },
    {
      "cell_type": "markdown",
      "source": [
        "04-07-2025"
      ],
      "metadata": {
        "id": "OA5ZsikHrM69"
      }
    },
    {
      "cell_type": "code",
      "source": [
        "print(1==1)\n",
        "print(1<=5)\n",
        "print(2>5)"
      ],
      "metadata": {
        "colab": {
          "base_uri": "https://localhost:8080/"
        },
        "id": "6RaL0E7ErQg5",
        "outputId": "022db4f7-30a2-4cd0-e0e7-5ab74b67d9a7"
      },
      "execution_count": null,
      "outputs": [
        {
          "output_type": "stream",
          "name": "stdout",
          "text": [
            "True\n",
            "True\n",
            "False\n"
          ]
        }
      ]
    },
    {
      "cell_type": "code",
      "source": [
        "#what is conditional statements?\n",
        "#to check a condition weather true or false we use conditional statements\n",
        "#How can we check the conditions?\n",
        "#to check the condition we use \"Comaprision operators\"\n",
        "#Comparision operators also known as relational operators\n",
        "\"\"\"There are 6types of relational operators\n",
        "1. equals to---> ==\n",
        "2. Not equals to --> !=\n",
        "3. greater then   ---> >\n",
        "4. less then ---->  <\n",
        "5. greater then or equals too---> >=\n",
        "6. less then or equals too--->  <= \"\"\"\n",
        "#How many conditional statements do we have?\n",
        "#if--> elif--> else\n",
        "#if --> if we want to check a condtion is true we use 'if' statement\n",
        "#else:- if the condition is false use the else statement\n",
        "#elif:- if there is more then 2 conditions to check we use elif"
      ],
      "metadata": {
        "id": "7rjtErF2rZSX"
      },
      "execution_count": null,
      "outputs": []
    },
    {
      "cell_type": "code",
      "source": [
        "#write program to check a student pass or fail\n",
        "#pass marks can e greater then or equals to 45\n",
        "student_marks = int(input(\"enter your marks \"))\n",
        "if student_marks >= 45:\n",
        "  print(\"congratulation you have pass\")\n",
        "else:\n",
        "  print(\"better luck next time\")"
      ],
      "metadata": {
        "colab": {
          "base_uri": "https://localhost:8080/"
        },
        "id": "Yap3lMforaq5",
        "outputId": "5ebb7bcc-da09-465c-8f43-874876509b14"
      },
      "execution_count": null,
      "outputs": [
        {
          "output_type": "stream",
          "name": "stdout",
          "text": [
            "enter your marks 22\n",
            "better luck next time\n"
          ]
        }
      ]
    },
    {
      "cell_type": "code",
      "source": [
        "#write a program to check the given number is +ve or -ve or if the number zero means print neutral\n",
        "num = int(input(\"enter your number  \"))\n",
        "if num>0:\n",
        "  print(\"+ve\")\n",
        "elif num == 0:\n",
        "  print(\"neutral\")\n",
        "else:\n",
        "  print(\"-ve\")\n",
        "#why we use the conditional statements?\n",
        "#To build the decision making codes"
      ],
      "metadata": {
        "colab": {
          "base_uri": "https://localhost:8080/"
        },
        "id": "nyOtvOCyrlSE",
        "outputId": "ca1a09ff-522b-4b27-e36f-aee4b8b93524"
      },
      "execution_count": null,
      "outputs": [
        {
          "output_type": "stream",
          "name": "stdout",
          "text": [
            "enter your number  100\n",
            "+ve\n"
          ]
        }
      ]
    },
    {
      "cell_type": "markdown",
      "source": [
        "logical operators\n",
        "\n",
        "--> there are 3 types\n",
        "\n",
        "and:- execute the program if all the conditions are true\n",
        "or:- execute the program if any one condition is true\n",
        "Not:- it reverse your actual output"
      ],
      "metadata": {
        "id": "qQBdOlLHr5yF"
      }
    },
    {
      "cell_type": "code",
      "source": [
        "print(\"hello\" == \"hello\")\n",
        "print(5 == 5)\n",
        "print(not(\"hello\" == \"hello\"))\n",
        "print(not(5==5))"
      ],
      "metadata": {
        "colab": {
          "base_uri": "https://localhost:8080/"
        },
        "id": "R9pNOmeOr7uQ",
        "outputId": "c5d6fadc-28e3-413e-815c-dbbdf4c6ec2b"
      },
      "execution_count": null,
      "outputs": [
        {
          "output_type": "stream",
          "name": "stdout",
          "text": [
            "True\n",
            "True\n",
            "False\n",
            "False\n"
          ]
        }
      ]
    },
    {
      "cell_type": "markdown",
      "source": [
        "and"
      ],
      "metadata": {
        "id": "eDBINLsOsEjk"
      }
    },
    {
      "cell_type": "code",
      "source": [
        "a = 55\n",
        "b = 35\n",
        "c = 40\n",
        "d = 60\n",
        "#check a is greater then c, and b is less then d, and d is greater then a\n",
        "#if all the condition are true print all conditions satisfied else print not satisfied\n",
        "if a>c and b<d and d>a:\n",
        "  print(\"all conditions are satisfied\")\n",
        "else:\n",
        "  print(\"Not satisfied\")"
      ],
      "metadata": {
        "colab": {
          "base_uri": "https://localhost:8080/"
        },
        "id": "YGVL_Ax_sFcb",
        "outputId": "472db7a5-0925-4761-e34f-c757f69304ec"
      },
      "execution_count": null,
      "outputs": [
        {
          "output_type": "stream",
          "name": "stdout",
          "text": [
            "all conditions are satisfied\n"
          ]
        }
      ]
    },
    {
      "cell_type": "markdown",
      "source": [
        "OR"
      ],
      "metadata": {
        "id": "BJeFoF47sL5r"
      }
    },
    {
      "cell_type": "code",
      "source": [
        "#check a is less the b and d i s greater then d and d is less c and a is greater c\n",
        "#if any one of the condition is true   or print true else print all conditions not satisfied\n",
        "if a<b or b>d or d<c or a>c:\n",
        "  print(\"satisfied\")\n",
        "else:\n",
        "  print(\"Not satisfied\")\n",
        "\n",
        "#Note:- if there is more then 2 conditions use elif statements\n",
        "#if we want to check multiple conditions at a time --> use \"Logical operators\""
      ],
      "metadata": {
        "colab": {
          "base_uri": "https://localhost:8080/"
        },
        "id": "ny-CgpjVsNW4",
        "outputId": "e2a48a56-fa29-4e70-a643-d752718e533a"
      },
      "execution_count": null,
      "outputs": [
        {
          "output_type": "stream",
          "name": "stdout",
          "text": [
            "satisfied\n"
          ]
        }
      ]
    },
    {
      "cell_type": "code",
      "source": [
        "a = \"Hello world!\"\n",
        "print(a[0:5][2:5])\n",
        "#Note:- avoid writing the variable name with upper case letters"
      ],
      "metadata": {
        "colab": {
          "base_uri": "https://localhost:8080/"
        },
        "id": "v2a99P8FsW5R",
        "outputId": "4bfd397b-3d31-49c1-97c2-a02ecc2fcb80"
      },
      "execution_count": null,
      "outputs": [
        {
          "output_type": "stream",
          "name": "stdout",
          "text": [
            "llo\n"
          ]
        }
      ]
    },
    {
      "cell_type": "code",
      "source": [
        "#write a program to check the number is even or odd-->if the number is even print even else print odd\n",
        "#write a program to check the given age is elibile for voting or not--> if the age is greater then 18 --> print elgible else print not elgible\n",
        "#write a program to check a string is palindrom or not--> print if the string is palindron else print not palindrom"
      ],
      "metadata": {
        "id": "x_gkk9DMsch-"
      },
      "execution_count": null,
      "outputs": []
    },
    {
      "cell_type": "markdown",
      "source": [
        "**08-07-2025**"
      ],
      "metadata": {
        "id": "NOqX9PFCfEOI"
      }
    },
    {
      "cell_type": "markdown",
      "source": [
        "**Nested Conditions**"
      ],
      "metadata": {
        "id": "Z2mNRDrhfNvf"
      }
    },
    {
      "cell_type": "code",
      "source": [
        "#what is nested condition?\n",
        "#writing a  condition inside the another condition is known as nested\n",
        "#Why we require nested condition or what is the purpose of nested condition?\n",
        "#A current condition can be executed if the previous condition is satisfied\n",
        "#if we want a series of outputs step by step we use nested conditions\n",
        "a = 35\n",
        "#check that ais greater then 10,20,30,and 40\n",
        "#if a is greater then 10 print a is greater then 10\n",
        "#if a is greater then 20 print a is greater then 20\n",
        "#if a is greater then 30 print a is greater then 30\n",
        "##if a is greater then 40 print a is greater then 40"
      ],
      "metadata": {
        "id": "ZHCxMg1kfS46"
      },
      "execution_count": null,
      "outputs": []
    },
    {
      "cell_type": "code",
      "source": [
        "a = 25\n",
        "if a> 10:\n",
        "  print(\"a is greater then 10\")\n",
        "  if a>20:\n",
        "    print(\"a is greater then 20\")\n",
        "    if a>30:\n",
        "      print(\"a is greater then 30\")\n",
        "      if a>40:\n",
        "        print(\"a is greater then 40\")\n",
        "      else:\n",
        "        print(\"a is less then 40\")\n",
        "    else:\n",
        "      print(\"a is less then 30\")\n",
        "  else:\n",
        "    print(\"a is less then 20\")\n",
        "else:\n",
        "  print(\"a is less then 10\")\n"
      ],
      "metadata": {
        "colab": {
          "base_uri": "https://localhost:8080/"
        },
        "id": "L7dIHd9GfWZp",
        "outputId": "4e672dea-a321-47b3-c0ad-09874bdcc3b7"
      },
      "execution_count": null,
      "outputs": [
        {
          "output_type": "stream",
          "name": "stdout",
          "text": [
            "a is greater then 10\n",
            "a is greater then 20\n",
            "a is less then 30\n"
          ]
        }
      ]
    },
    {
      "cell_type": "markdown",
      "source": [
        "Terinary operator--> if there is 2 condition to check (either true or false) in a single line we use terinary operator"
      ],
      "metadata": {
        "id": "jge5GDt-fjcj"
      }
    },
    {
      "cell_type": "code",
      "source": [
        "#check the given age group is elible for voting or not\n",
        "age = int(input(\"enter your age \"))\n",
        "check = \"eligible\" if age>=18 else \"Not elgible\"\n",
        "print(check)\n",
        "#syntx:- \"true\" <space> condition <space> else <space> \"false\"\n"
      ],
      "metadata": {
        "colab": {
          "base_uri": "https://localhost:8080/"
        },
        "id": "H91PDOHrfmD7",
        "outputId": "4ced7fe9-531a-4b5d-dc4f-c0df26334d31"
      },
      "execution_count": null,
      "outputs": [
        {
          "output_type": "stream",
          "name": "stdout",
          "text": [
            "enter your age 21\n",
            "eligible\n"
          ]
        }
      ]
    },
    {
      "cell_type": "markdown",
      "source": [
        "**pass**"
      ],
      "metadata": {
        "id": "7xI0W-Afftk4"
      }
    },
    {
      "cell_type": "code",
      "source": [
        "#what is pass?\n",
        "#it is null place holder when executes nothing will happens\n",
        "#if there is incomplete code and don't want rise any error we use pass"
      ],
      "metadata": {
        "id": "RM1CRcK_fvO8"
      },
      "execution_count": null,
      "outputs": []
    },
    {
      "cell_type": "code",
      "source": [
        "a = 10\n",
        "if a> 5:\n",
        "  pass"
      ],
      "metadata": {
        "id": "m5X09Bg0fyeN"
      },
      "execution_count": null,
      "outputs": []
    },
    {
      "cell_type": "code",
      "source": [
        "#write a program to check the grades of the studen based on recived marks\n",
        "#if the student recive marks between 50 to 60---> print \"D\" Grade\n",
        "#if the student recive marks between 61 to 70---> print \"C\" Grade\n",
        "#if the student recive marks between 71 to 80---> print \"B\" Grade\n",
        "#if the student recive marks between 81 to 90---> print \"A\" Grade\n",
        "#if the student recive marks between 91 to 100---> print \"A+\" Grade\n",
        "##if the student recive marks more then 100 --> print \"dont be smart\"\n",
        "#if the marks below 50 print \"Better luck next time\"\n",
        "#use the nested if along with elif statements"
      ],
      "metadata": {
        "id": "qwlR0jeIgESk"
      },
      "execution_count": null,
      "outputs": []
    },
    {
      "cell_type": "code",
      "source": [
        "#what are conditional statements do we have in python?\n",
        "#comaprision operators or relational operators\n",
        "#if there is more then 2 conditions we use --> elif\n",
        "#check the multiple conditions at a time ---> use logical operators\n",
        "#what is nested condition?\n",
        "#what is terinary operators\n",
        "#what is pass?"
      ],
      "metadata": {
        "id": "2j-EXfrhgBfJ"
      },
      "execution_count": null,
      "outputs": []
    },
    {
      "cell_type": "markdown",
      "source": [
        "**09-07-2025**"
      ],
      "metadata": {
        "id": "taV0D6HFgIeE"
      }
    },
    {
      "cell_type": "markdown",
      "source": [
        "**loops**"
      ],
      "metadata": {
        "id": "WqMhM-v6gO2W"
      }
    },
    {
      "cell_type": "code",
      "source": [
        "#what is loop?\n",
        "#loop is a set of instructions\n",
        "#what is the main purpose of the loops?\n",
        "#to avoid the duplicate codes\n",
        "#How many types of codes do we have?\n",
        "#There are 2 types\n",
        "#1.WET Codes--> write everything twice\n",
        "#2.DRY Codes--> Dont repeat Yourself\n",
        "\n",
        "#how many types of loops?\n",
        "#There are 2types\n",
        "#1.while loop\n",
        "#2.for loop"
      ],
      "metadata": {
        "id": "Iows3wkDgRAT"
      },
      "execution_count": null,
      "outputs": []
    },
    {
      "cell_type": "code",
      "source": [
        "#what is a while loop?\n",
        "#while loop runs a set of instruction or rules untill the condition remains True\n",
        "#so if the condition become false it stops the iteration\n",
        "#How can we check a condition?--> By using the comparision operators\n",
        "print(1<=5)\n",
        "print(2<=5)\n",
        "print(3<=5)\n",
        "print(4<=5)\n",
        "print(5<=5)\n",
        "print(6<=5)\n",
        "#How many types of comaprision operators--> 6types\n",
        "# ==, !=, >, <, >=, <="
      ],
      "metadata": {
        "colab": {
          "base_uri": "https://localhost:8080/"
        },
        "id": "hBmWe15KgUtp",
        "outputId": "c0b7c2f2-6c8b-41b7-81e4-23b43cec96be"
      },
      "execution_count": null,
      "outputs": [
        {
          "output_type": "stream",
          "name": "stdout",
          "text": [
            "True\n",
            "True\n",
            "True\n",
            "True\n",
            "True\n",
            "False\n"
          ]
        }
      ]
    },
    {
      "cell_type": "code",
      "source": [
        "#write a simple program to instruct the user for number of pushups\n",
        "target = 5\n",
        "intial = 1\n",
        "while intial <= target:\n",
        "  print(\"go up\")\n",
        "  print(\"go down\")\n",
        "  print(\"=============rep completed=======\",intial)\n",
        "  intial = intial + 1"
      ],
      "metadata": {
        "colab": {
          "base_uri": "https://localhost:8080/"
        },
        "id": "Tvqxur0qgYw-",
        "outputId": "49c303de-dd22-46cc-e5f2-84ac819d60d4"
      },
      "execution_count": null,
      "outputs": [
        {
          "output_type": "stream",
          "name": "stdout",
          "text": [
            "go up\n",
            "go down\n",
            "=============rep completed======= 1\n",
            "go up\n",
            "go down\n",
            "=============rep completed======= 2\n",
            "go up\n",
            "go down\n",
            "=============rep completed======= 3\n",
            "go up\n",
            "go down\n",
            "=============rep completed======= 4\n",
            "go up\n",
            "go down\n",
            "=============rep completed======= 5\n"
          ]
        }
      ]
    },
    {
      "cell_type": "code",
      "source": [
        "#write a simple program to run a lift when the user give 4th stop the lift at 4th floor\n",
        "user = int(input('enter floor number '))\n",
        "intial = 1\n",
        "while intial <= user:\n",
        "  print(\"you are at floor\",intial)\n",
        "  intial = intial + 1"
      ],
      "metadata": {
        "colab": {
          "base_uri": "https://localhost:8080/"
        },
        "id": "lB65i5Degc9-",
        "outputId": "2659bc38-a687-41d1-b8d0-744aa4235f6b"
      },
      "execution_count": null,
      "outputs": [
        {
          "output_type": "stream",
          "name": "stdout",
          "text": [
            "enter floor number 3\n",
            "you are at floor 1\n",
            "you are at floor 2\n",
            "you are at floor 3\n"
          ]
        }
      ]
    },
    {
      "cell_type": "code",
      "source": [
        "#write a program to print the numbers from 1 to 10 by using the while loop\n",
        "intial = 1\n",
        "while intial < 11:\n",
        "  print(intial)\n",
        "  intial = intial + 1"
      ],
      "metadata": {
        "colab": {
          "base_uri": "https://localhost:8080/"
        },
        "id": "cqv5y1zhg0Q9",
        "outputId": "956e6626-2f57-42a8-c07b-4cabe78b223d"
      },
      "execution_count": null,
      "outputs": [
        {
          "output_type": "stream",
          "name": "stdout",
          "text": [
            "1\n",
            "2\n",
            "3\n",
            "4\n",
            "5\n",
            "6\n",
            "7\n",
            "8\n",
            "9\n",
            "10\n"
          ]
        }
      ]
    },
    {
      "cell_type": "markdown",
      "source": [],
      "metadata": {
        "id": "JI9yH97CgITW"
      }
    },
    {
      "cell_type": "code",
      "source": [
        "#create a countdown from 5 to 1 then print (blast off)\n",
        "countdown = 5\n",
        "while countdown >= 1:\n",
        "  print(countdown)\n",
        "  countdown -= 1   #countdown = countdown-1\n",
        "print(\"Blast off\")\n"
      ],
      "metadata": {
        "colab": {
          "base_uri": "https://localhost:8080/"
        },
        "id": "2Hkq7WIRg-mT",
        "outputId": "22098544-985e-4941-b18b-0126fca5a808"
      },
      "execution_count": null,
      "outputs": [
        {
          "output_type": "stream",
          "name": "stdout",
          "text": [
            "5\n",
            "4\n",
            "3\n",
            "2\n",
            "1\n",
            "Blast off\n"
          ]
        }
      ]
    },
    {
      "cell_type": "markdown",
      "source": [
        "control sturctures of while loop\n",
        "\n",
        "     1.break --> stop the loop irrespective next iterations\n",
        "     2.continue--> skips the current iteration moves next iteration\n",
        "     3.pass--> is a null place holder when executes nothing will happens"
      ],
      "metadata": {
        "id": "lZuCdzq_hHHF"
      }
    },
    {
      "cell_type": "code",
      "source": [
        "#write a program to print the numbers from 1 to 10 by using the while loop\n",
        "#stop the loop when it reaches to 6\n",
        "intial = 1\n",
        "while intial < 11:\n",
        "  print(intial)\n",
        "  if intial == 6:\n",
        "    break\n",
        "  intial = intial + 1"
      ],
      "metadata": {
        "colab": {
          "base_uri": "https://localhost:8080/"
        },
        "id": "ZyxVk2ZBhTKO",
        "outputId": "89c2d18f-6fe2-430c-b42e-0f57a25ddd91"
      },
      "execution_count": null,
      "outputs": [
        {
          "output_type": "stream",
          "name": "stdout",
          "text": [
            "1\n",
            "2\n",
            "3\n",
            "4\n",
            "5\n",
            "6\n"
          ]
        }
      ]
    },
    {
      "cell_type": "code",
      "source": [
        "intial = 0\n",
        "while intial < 11:\n",
        "  intial = intial + 1\n",
        "  if intial == 6 or intial == 11 or intial == 3:\n",
        "    continue\n",
        "  print(intial)\n",
        "#can we break a loop it multiple points--> No\n",
        "#can we skip the iterations at multiple datapoints--> yes"
      ],
      "metadata": {
        "colab": {
          "base_uri": "https://localhost:8080/"
        },
        "id": "IeO9m0QThIkD",
        "outputId": "e1941ca8-93a9-4c47-d855-86314b2fc2fc"
      },
      "execution_count": null,
      "outputs": [
        {
          "output_type": "stream",
          "name": "stdout",
          "text": [
            "1\n",
            "2\n",
            "4\n",
            "5\n",
            "7\n",
            "8\n",
            "9\n",
            "10\n"
          ]
        }
      ]
    },
    {
      "cell_type": "code",
      "source": [
        "#pass\n",
        "intial = 0\n",
        "while intial < 11:\n",
        "  intial = intial + 1\n",
        "  if intial == 6 or intial == 11 or intial == 3:\n",
        "    pass"
      ],
      "metadata": {
        "id": "mzkvwxyAho5x"
      },
      "execution_count": null,
      "outputs": []
    },
    {
      "cell_type": "code",
      "source": [
        "l = [1,2,3,4,5,6]\n",
        "#in the above multiply each number with 2 and print the result.\n",
        "#for loop runs a set of instruction in the collection or iterables\n",
        "for i  in l:\n",
        "  print(i*2)"
      ],
      "metadata": {
        "colab": {
          "base_uri": "https://localhost:8080/"
        },
        "id": "Mgh1l70zhsyO",
        "outputId": "180c5e74-bfb7-4a01-e0b9-04e44b0dc871"
      },
      "execution_count": null,
      "outputs": [
        {
          "output_type": "stream",
          "name": "stdout",
          "text": [
            "2\n",
            "4\n",
            "6\n",
            "8\n",
            "10\n",
            "12\n"
          ]
        }
      ]
    },
    {
      "cell_type": "code",
      "source": [
        "l = [1,2,3,4,5,6]\n",
        "print(l*2)"
      ],
      "metadata": {
        "colab": {
          "base_uri": "https://localhost:8080/"
        },
        "id": "x_CVrQvOhuL4",
        "outputId": "0c1ff5dd-133e-43de-c02b-0230da138eb1"
      },
      "execution_count": null,
      "outputs": [
        {
          "output_type": "stream",
          "name": "stdout",
          "text": [
            "[1, 2, 3, 4, 5, 6, 1, 2, 3, 4, 5, 6]\n"
          ]
        }
      ]
    },
    {
      "cell_type": "markdown",
      "source": [
        "**10-07-2025**"
      ],
      "metadata": {
        "id": "e9fixBuAh3dz"
      }
    },
    {
      "cell_type": "markdown",
      "source": [
        "**for loops**"
      ],
      "metadata": {
        "id": "p-X4wa5Sh9FC"
      }
    },
    {
      "cell_type": "code",
      "source": [
        "#what is a for loop?\n",
        "#it runs set of instructions  in the collections or iterables"
      ],
      "metadata": {
        "id": "ncRnUSNdiEn_"
      },
      "execution_count": null,
      "outputs": []
    },
    {
      "cell_type": "code",
      "source": [
        "a = [1,2,3,4,5,6,7,8,9,10]\n",
        "for i in a:\n",
        "  print(i*2, end=\" \")\n",
        "  #end keyword is used print the o/p in single line by having special character at the end of eac item"
      ],
      "metadata": {
        "colab": {
          "base_uri": "https://localhost:8080/"
        },
        "id": "Su4e1d6kh_S4",
        "outputId": "80a93dfa-e880-4afa-a05c-213507584db3"
      },
      "execution_count": null,
      "outputs": [
        {
          "output_type": "stream",
          "name": "stdout",
          "text": [
            "2 4 6 8 10 12 14 16 18 20 "
          ]
        }
      ]
    },
    {
      "cell_type": "markdown",
      "source": [
        "**control structures of for loop**"
      ],
      "metadata": {
        "id": "rBBrwpG-iN0i"
      }
    },
    {
      "cell_type": "code",
      "source": [
        "#break:- stop the loop irresopective of next iterations\n",
        "a = [1,2,3,4,5,6,7,8,9,10]\n",
        "#in above collection stop the loop when it reaches 5 and print the elements before 5\n",
        "for j in a:\n",
        "  if j == 5:\n",
        "    break\n",
        "  print(j)"
      ],
      "metadata": {
        "colab": {
          "base_uri": "https://localhost:8080/"
        },
        "id": "-nOnPOHwiPJL",
        "outputId": "50a3694d-fb84-4918-df59-8d42f026e1a2"
      },
      "execution_count": null,
      "outputs": [
        {
          "output_type": "stream",
          "name": "stdout",
          "text": [
            "1\n",
            "2\n",
            "3\n",
            "4\n"
          ]
        }
      ]
    },
    {
      "cell_type": "code",
      "source": [
        "#continue:- it skips the current iteration and moves the next\n",
        "a = [1,2,3,4,5,6,7,8,9,10]\n",
        "#dont print 4, 6, and 8\n",
        "for  i in a:\n",
        "  if i == 4:\n",
        "    continue\n",
        "  if i == 6:\n",
        "    continue\n",
        "  if i == 8:\n",
        "    continue\n",
        "  print(i,end=\" \")"
      ],
      "metadata": {
        "colab": {
          "base_uri": "https://localhost:8080/"
        },
        "id": "rxN_gRXkiUzX",
        "outputId": "61935f56-f7e7-48f8-f03e-64160259154a"
      },
      "execution_count": null,
      "outputs": [
        {
          "output_type": "stream",
          "name": "stdout",
          "text": [
            "1 2 3 5 7 9 10 "
          ]
        }
      ]
    },
    {
      "cell_type": "code",
      "source": [
        "for i in a:\n",
        "  if i == 4 or i == 6 or i == 8:\n",
        "    continue\n",
        "  print(i, end= \" \")"
      ],
      "metadata": {
        "colab": {
          "base_uri": "https://localhost:8080/"
        },
        "id": "EopcAGDbiYrl",
        "outputId": "7bb609f5-17c0-43ff-fb1e-700995ffe934"
      },
      "execution_count": null,
      "outputs": [
        {
          "output_type": "stream",
          "name": "stdout",
          "text": [
            "1 2 3 5 7 9 10 "
          ]
        }
      ]
    },
    {
      "cell_type": "code",
      "source": [
        "#pass:- it is a null place holder\n",
        "for i in a:\n",
        "  if i == 4 or i == 6 or i == 8:\n",
        "    pass"
      ],
      "metadata": {
        "id": "4kAcli5hiacl"
      },
      "execution_count": null,
      "outputs": []
    },
    {
      "cell_type": "code",
      "source": [
        "i = 0\n",
        "while i < 10:\n",
        "  print(i)\n",
        "  i = i + 1"
      ],
      "metadata": {
        "colab": {
          "base_uri": "https://localhost:8080/"
        },
        "id": "pA5td10aidvF",
        "outputId": "48a48ea5-30f5-4872-83d9-27a511a0cd66"
      },
      "execution_count": null,
      "outputs": [
        {
          "output_type": "stream",
          "name": "stdout",
          "text": [
            "0\n",
            "1\n",
            "2\n",
            "3\n",
            "4\n",
            "5\n",
            "6\n",
            "7\n",
            "8\n",
            "9\n"
          ]
        }
      ]
    },
    {
      "cell_type": "code",
      "source": [
        "#How can we generate a range of numbers by using the for loop--> use range()\n",
        "#write a program to genrate a arange of numbers upto 20\n",
        "#range(start,end,step)\n",
        "for i in range(21):\n",
        "  print(i,end=\" \")"
      ],
      "metadata": {
        "colab": {
          "base_uri": "https://localhost:8080/"
        },
        "id": "rh4XZCljij0V",
        "outputId": "32282388-8d7f-4074-94c8-3a8de98112b7"
      },
      "execution_count": null,
      "outputs": [
        {
          "output_type": "stream",
          "name": "stdout",
          "text": [
            "0 1 2 3 4 5 6 7 8 9 10 11 12 13 14 15 16 17 18 19 20 "
          ]
        }
      ]
    },
    {
      "cell_type": "code",
      "source": [
        "#generate a range of numbers from 20 to 40\n",
        "for  i in range(20,41):\n",
        "  print(i,end=\" \")"
      ],
      "metadata": {
        "colab": {
          "base_uri": "https://localhost:8080/"
        },
        "id": "tZQsGU6uilT9",
        "outputId": "92be33bd-c6d9-4190-dfd5-7860cd05c82d"
      },
      "execution_count": null,
      "outputs": [
        {
          "output_type": "stream",
          "name": "stdout",
          "text": [
            "20 21 22 23 24 25 26 27 28 29 30 31 32 33 34 35 36 37 38 39 40 "
          ]
        }
      ]
    },
    {
      "cell_type": "code",
      "source": [
        "#Generate a range of even numbers upto 100\n",
        "for i in range(0,101,2):\n",
        "  print(i,end=\" \")"
      ],
      "metadata": {
        "colab": {
          "base_uri": "https://localhost:8080/"
        },
        "id": "NwqbOKEgiowY",
        "outputId": "f10307bf-2bd4-4dab-ff78-bf06ef20e981"
      },
      "execution_count": null,
      "outputs": [
        {
          "output_type": "stream",
          "name": "stdout",
          "text": [
            "0 2 4 6 8 10 12 14 16 18 20 22 24 26 28 30 32 34 36 38 40 42 44 46 48 50 52 54 56 58 60 62 64 66 68 70 72 74 76 78 80 82 84 86 88 90 92 94 96 98 100 "
          ]
        }
      ]
    },
    {
      "cell_type": "code",
      "source": [
        "#calculate the sum of numbers from 1 to 10 by using for loop?\n",
        "total = 0\n",
        "for i in range(1,11):\n",
        "  total = total + i\n",
        "  print(total)"
      ],
      "metadata": {
        "colab": {
          "base_uri": "https://localhost:8080/"
        },
        "id": "oz_MRmcSiumL",
        "outputId": "31ffe2d8-4799-41ad-d775-cd59ab454ad2"
      },
      "execution_count": null,
      "outputs": [
        {
          "output_type": "stream",
          "name": "stdout",
          "text": [
            "1\n",
            "3\n",
            "6\n",
            "10\n",
            "15\n",
            "21\n",
            "28\n",
            "36\n",
            "45\n",
            "55\n"
          ]
        }
      ]
    },
    {
      "cell_type": "code",
      "source": [
        "#calculate the product of elements in given list by using the for loop?\n",
        "a = [1,2,3,4,5]\n",
        "#expected o/p--> 120\n",
        "product = 1\n",
        "for i in a:\n",
        "  product = product * i\n",
        "print(product)\n"
      ],
      "metadata": {
        "colab": {
          "base_uri": "https://localhost:8080/"
        },
        "id": "c5WwY9DpiwJI",
        "outputId": "22cb0ee1-2c7b-4916-f6c3-d824a067de13"
      },
      "execution_count": null,
      "outputs": [
        {
          "output_type": "stream",
          "name": "stdout",
          "text": [
            "120\n"
          ]
        }
      ]
    },
    {
      "cell_type": "code",
      "source": [
        "#find the prime numbers between 1 and 50?\n",
        "for i in range(2,51):\n",
        "  #print(i)\n",
        "  for j in range(2,i):\n",
        "    if i % j == 0:\n",
        "      break\n",
        "  else:\n",
        "    print(i,end=\" \")"
      ],
      "metadata": {
        "colab": {
          "base_uri": "https://localhost:8080/"
        },
        "id": "HhUSBNFki2Gp",
        "outputId": "089ac4cb-95ee-41d1-bf2d-64ce8f0249ed"
      },
      "execution_count": null,
      "outputs": [
        {
          "output_type": "stream",
          "name": "stdout",
          "text": [
            "2 3 5 7 11 13 17 19 23 29 31 37 41 43 47 "
          ]
        }
      ]
    },
    {
      "cell_type": "code",
      "source": [
        "a = \"Hello World\"\n",
        "#print all the uppcase letters from above string\n",
        "#print the factorial of the 5 by using the loops"
      ],
      "metadata": {
        "id": "hEPeE296i5ei"
      },
      "execution_count": null,
      "outputs": []
    },
    {
      "cell_type": "code",
      "source": [
        "for j in range(2,10): #2,3,4\n",
        "   if j % 6 == 0:\n",
        "     break\n",
        "else:\n",
        "  print(j)"
      ],
      "metadata": {
        "id": "KE9t7vTBjDWB"
      },
      "execution_count": null,
      "outputs": []
    },
    {
      "cell_type": "code",
      "source": [
        "for i in range(2,11):  #2,3,4,5,6,7,8,9,10\n",
        "  #print(i)\n",
        "  for j in range(2,i):  #2,-->2,3-->2,3,4--> 2,3,4,5   #num ** 0.5\n",
        "    if i % j == 0:\n",
        "      break\n",
        "  else:\n",
        "    print(i,end=\" \")"
      ],
      "metadata": {
        "colab": {
          "base_uri": "https://localhost:8080/"
        },
        "id": "dVorRUZ8jJrf",
        "outputId": "a7516f1e-aba6-430a-e0d6-7b211905c990"
      },
      "execution_count": null,
      "outputs": [
        {
          "output_type": "stream",
          "name": "stdout",
          "text": [
            "2 3 5 7 "
          ]
        }
      ]
    },
    {
      "cell_type": "markdown",
      "source": [
        "**11-07-2025**"
      ],
      "metadata": {
        "id": "7CXG35jzjU3X"
      }
    },
    {
      "cell_type": "code",
      "source": [
        "#How many types of data a collection can store?\n",
        "#there are 2 types of data in collection\n",
        "#1. Homogenous data:- if a collection is having single data type is known as homogenous data\n",
        "#2. heterogenous data:- if a collection is having more then 1 data we call it as a heterogenous data\n",
        "#collections is also known as iterables\n",
        "#There are 4 types\n",
        "#1. List\n",
        "#2. Tuple\n",
        "#3. dictionary\n",
        "#4. set"
      ],
      "metadata": {
        "id": "V71egGdMjWoM"
      },
      "execution_count": null,
      "outputs": []
    },
    {
      "cell_type": "markdown",
      "source": [
        "**List**"
      ],
      "metadata": {
        "id": "2tUtBJLvjdd1"
      }
    },
    {
      "cell_type": "code",
      "source": [
        "#what is list? or How can we declare a list? or define a list?\n",
        "#List is declared---> []\n",
        "#List is defined as ordered, mutable, and allows the dupliacate data"
      ],
      "metadata": {
        "id": "CO5MtzyIjgSG"
      },
      "execution_count": null,
      "outputs": []
    },
    {
      "cell_type": "markdown",
      "source": [
        "\n",
        "list allows the dupliacate data"
      ],
      "metadata": {
        "id": "UgGpqgU4jntl"
      }
    },
    {
      "cell_type": "code",
      "source": [
        "l1 = ['apple','banana','orange','kiwi','watermelon','apple','apple','pineapple']\n",
        "#what is the length of the list?\n",
        "print(len(l1))\n",
        "print(l1)\n",
        "print(type(l1))"
      ],
      "metadata": {
        "colab": {
          "base_uri": "https://localhost:8080/"
        },
        "id": "KWIcj-kljsV9",
        "outputId": "4c85244d-e72f-4443-882d-585595a31f4b"
      },
      "execution_count": null,
      "outputs": [
        {
          "output_type": "stream",
          "name": "stdout",
          "text": [
            "8\n",
            "['apple', 'banana', 'orange', 'kiwi', 'watermelon', 'apple', 'apple', 'pineapple']\n",
            "<class 'list'>\n"
          ]
        }
      ]
    },
    {
      "cell_type": "markdown",
      "source": [
        "**List is ordered**"
      ],
      "metadata": {
        "id": "_sPFr9w_jzFu"
      }
    },
    {
      "cell_type": "code",
      "source": [
        "#what is ordered?\n",
        "#ordered means the items in the list is having the sequence of index position numbers\n",
        "#[start]\n",
        "#print the 'orange' from above list?\n",
        "print(l1[2])"
      ],
      "metadata": {
        "colab": {
          "base_uri": "https://localhost:8080/"
        },
        "id": "F4ZybTk0j1Jh",
        "outputId": "48732e12-1376-4544-8f29-5c92278c48d4"
      },
      "execution_count": null,
      "outputs": [
        {
          "output_type": "stream",
          "name": "stdout",
          "text": [
            "orange\n"
          ]
        }
      ]
    },
    {
      "cell_type": "code",
      "source": [
        "#print the range of items from above list from apple', 'banana', 'orange', 'kiwi', 'watermelon'\n",
        "#[start:end]\n",
        "print(l1[0:5])\n",
        "#print the even index position characters?\n",
        "#[start:end:step]\n",
        "print(l1[0:8:2])"
      ],
      "metadata": {
        "colab": {
          "base_uri": "https://localhost:8080/"
        },
        "id": "8xGDVTP0jpdl",
        "outputId": "446bf101-6054-4133-a2de-65b283c33082"
      },
      "execution_count": null,
      "outputs": [
        {
          "output_type": "stream",
          "name": "stdout",
          "text": [
            "['apple', 'banana', 'orange', 'kiwi', 'watermelon']\n",
            "['apple', 'orange', 'watermelon', 'apple']\n"
          ]
        }
      ]
    },
    {
      "cell_type": "code",
      "source": [
        "l2 = ['apple', 'banana', 'orange', 'kiwi', 'watermelon', 'apple', 'apple', 'pineapple']\n",
        "#access the last character from the above list\n",
        "#Negative indexing\n",
        "#['start']\n",
        "print(l2[-1])\n",
        "#print the range of characters in reverse direction 'watermelon', 'apple', 'apple', 'pineapple'\n",
        "print(l2[-1:-5:-1])\n",
        "#The default slicing direction is from left to right"
      ],
      "metadata": {
        "colab": {
          "base_uri": "https://localhost:8080/"
        },
        "id": "UmVygdjljbyk",
        "outputId": "1f043a42-c998-4926-b72d-7a3af56cf170"
      },
      "execution_count": null,
      "outputs": [
        {
          "output_type": "stream",
          "name": "stdout",
          "text": [
            "pineapple\n",
            "['pineapple', 'apple', 'apple', 'watermelon']\n"
          ]
        }
      ]
    }
  ]
}