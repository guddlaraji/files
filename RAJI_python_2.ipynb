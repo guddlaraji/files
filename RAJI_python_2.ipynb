{
  "cells": [
    {
      "cell_type": "markdown",
      "metadata": {
        "id": "view-in-github",
        "colab_type": "text"
      },
      "source": [
        "<a href=\"https://colab.research.google.com/github/guddlaraji/files/blob/main/RAJI_python_2.ipynb\" target=\"_parent\"><img src=\"https://colab.research.google.com/assets/colab-badge.svg\" alt=\"Open In Colab\"/></a>"
      ]
    },
    {
      "cell_type": "markdown",
      "metadata": {
        "id": "l-it9KMr5kJ2"
      },
      "source": [
        "**Basics of python**"
      ]
    },
    {
      "cell_type": "markdown",
      "metadata": {
        "id": "MpDq5aNc5gmi"
      },
      "source": []
    },
    {
      "cell_type": "code",
      "execution_count": null,
      "metadata": {
        "colab": {
          "base_uri": "https://localhost:8080/"
        },
        "id": "NbfJmkZS5v4s",
        "outputId": "e19926b3-326d-4e1d-d684-b8459b4ca433"
      },
      "outputs": [
        {
          "name": "stdout",
          "output_type": "stream",
          "text": [
            "Hello world!\n"
          ]
        }
      ],
      "source": [
        "#print hello world in pyhton\n",
        "print(\"Hello world!\")"
      ]
    },
    {
      "cell_type": "code",
      "execution_count": null,
      "metadata": {
        "colab": {
          "base_uri": "https://localhost:8080/"
        },
        "id": "We2UpzGB55xM",
        "outputId": "594d28ea-c9ba-405f-abbd-89ce68cbc0c8"
      },
      "outputs": [
        {
          "name": "stdout",
          "output_type": "stream",
          "text": [
            "10\n",
            "<class 'int'>\n"
          ]
        }
      ],
      "source": [
        "print(10)\n",
        "print(type(10))"
      ]
    },
    {
      "cell_type": "code",
      "execution_count": null,
      "metadata": {
        "colab": {
          "base_uri": "https://localhost:8080/"
        },
        "id": "FJhXETtC5-D7",
        "outputId": "23b25c7e-8e45-409a-d912-21c1f464c443"
      },
      "outputs": [
        {
          "name": "stdout",
          "output_type": "stream",
          "text": [
            "10.5\n",
            "<class 'float'>\n"
          ]
        }
      ],
      "source": [
        "print(10.5)\n",
        "print(type(10.5))"
      ]
    },
    {
      "cell_type": "code",
      "execution_count": null,
      "metadata": {
        "colab": {
          "base_uri": "https://localhost:8080/"
        },
        "id": "3Sfp010Y6AVP",
        "outputId": "e59c8db5-8772-4c35-8aff-229c451de812"
      },
      "outputs": [
        {
          "name": "stdout",
          "output_type": "stream",
          "text": [
            "(2+5j)\n",
            "<class 'complex'>\n"
          ]
        }
      ],
      "source": [
        "print(2+5j)\n",
        "print(type(2+5j))"
      ]
    },
    {
      "cell_type": "code",
      "execution_count": null,
      "metadata": {
        "colab": {
          "base_uri": "https://localhost:8080/"
        },
        "id": "qCqyGcCC6EyK",
        "outputId": "8f6f836c-e74e-42d0-8304-c4d37f879a71"
      },
      "outputs": [
        {
          "name": "stdout",
          "output_type": "stream",
          "text": [
            "15\n",
            "5\n",
            "50\n",
            "2.0\n",
            "0\n",
            "100000\n",
            "3.3333333333333335\n",
            "3\n"
          ]
        }
      ],
      "source": [
        "#what are all arthametic operators\n",
        "print(10+5)\n",
        "print(10-5)\n",
        "print(10*5)\n",
        "print(10/5) #The default data type for division is a float\n",
        "print(10%5) #modulus--> %--> remainder of the division\n",
        "print(10**5) #exponential---> **--> to the poweroff\n",
        "print(10/3)\n",
        "print(10//3) #floor divison also known as integer division-->ignores the values after the decimal point"
      ]
    },
    {
      "cell_type": "markdown",
      "metadata": {
        "id": "0XAN7kp46VYI"
      },
      "source": [
        "**floor value and ceil value**"
      ]
    },
    {
      "cell_type": "code",
      "execution_count": null,
      "metadata": {
        "id": "RTT_ghv56Yf3"
      },
      "outputs": [],
      "source": [
        "#the numbers before the decimal point is known as floor value\n",
        "#The next upcoming number if the decimal point is greater then or equals to 0.5 is known as ceil value"
      ]
    },
    {
      "cell_type": "code",
      "execution_count": null,
      "metadata": {
        "colab": {
          "base_uri": "https://localhost:8080/"
        },
        "id": "XS3LNsLc6dWy",
        "outputId": "f3fc39b4-5efa-4fab-a740-4e1cd5b1527c"
      },
      "outputs": [
        {
          "name": "stdout",
          "output_type": "stream",
          "text": [
            "8\n"
          ]
        }
      ],
      "source": [
        "#round():- the round() is applicable only for the decimal number\n",
        "print(round(8))\n",
        "#to round off the values upto particular ndigit we use the round()"
      ]
    },
    {
      "cell_type": "code",
      "execution_count": null,
      "metadata": {
        "colab": {
          "base_uri": "https://localhost:8080/"
        },
        "id": "q3SJppdK6kyS",
        "outputId": "4011c866-5ccc-480c-90dd-38352e208bbd"
      },
      "outputs": [
        {
          "name": "stdout",
          "output_type": "stream",
          "text": [
            "6\n",
            "32\n"
          ]
        }
      ],
      "source": [
        "print(round(5.56))\n",
        "print(round(32.459999))"
      ]
    },
    {
      "cell_type": "code",
      "execution_count": null,
      "metadata": {
        "colab": {
          "base_uri": "https://localhost:8080/"
        },
        "id": "BQJPTiod6m3H",
        "outputId": "ba90bef8-e2b8-4484-ba35-eed6d77d9f0e"
      },
      "outputs": [
        {
          "name": "stdout",
          "output_type": "stream",
          "text": [
            "25432.77\n"
          ]
        }
      ],
      "source": [
        "print(round(25432.76527236387,2))"
      ]
    },
    {
      "cell_type": "code",
      "execution_count": null,
      "metadata": {
        "colab": {
          "base_uri": "https://localhost:8080/"
        },
        "id": "RwfS44pt6uXE",
        "outputId": "a905d29a-a054-4892-8c7b-d8bc4570274e"
      },
      "outputs": [
        {
          "name": "stdout",
          "output_type": "stream",
          "text": [
            "56.25\n"
          ]
        }
      ],
      "source": [
        "print(round(56.2467,2))"
      ]
    },
    {
      "cell_type": "code",
      "execution_count": null,
      "metadata": {
        "colab": {
          "base_uri": "https://localhost:8080/"
        },
        "id": "bPhaBkgk6yhd",
        "outputId": "ed2636f1-33ef-41e5-b41c-08cd07b5807b"
      },
      "outputs": [
        {
          "name": "stdout",
          "output_type": "stream",
          "text": [
            "44.743\n"
          ]
        }
      ],
      "source": [
        "print(round(44.7426,3))"
      ]
    },
    {
      "cell_type": "markdown",
      "metadata": {
        "id": "KO9y7KZl64Vm"
      },
      "source": [
        "**Variables**"
      ]
    },
    {
      "cell_type": "code",
      "execution_count": null,
      "metadata": {
        "colab": {
          "base_uri": "https://localhost:8080/"
        },
        "id": "fPKNx9AZ66MG",
        "outputId": "4689eb51-7e16-40e3-8e02-7e98a294ba82"
      },
      "outputs": [
        {
          "name": "stdout",
          "output_type": "stream",
          "text": [
            "Hello world!\n",
            "<class 'str'>\n"
          ]
        }
      ],
      "source": [
        "#what is a variable?\n",
        "#it is a container where we can store our valuable information and reuse it\n",
        "a = \"Hello world!\"\n",
        "print(a)\n",
        "print(type(a))"
      ]
    },
    {
      "cell_type": "code",
      "execution_count": null,
      "metadata": {
        "colab": {
          "base_uri": "https://localhost:8080/"
        },
        "id": "yWgxBbKc7k6b",
        "outputId": "a5affd38-f41b-49db-b895-f9e783b23a2b"
      },
      "outputs": [
        {
          "name": "stdout",
          "output_type": "stream",
          "text": [
            "<class 'int'>\n"
          ]
        }
      ],
      "source": [
        "a = 10\n",
        "print(type(a))"
      ]
    },
    {
      "cell_type": "code",
      "execution_count": null,
      "metadata": {
        "colab": {
          "base_uri": "https://localhost:8080/"
        },
        "id": "C4vYvKb07pne",
        "outputId": "72b91d45-f878-43e8-ec9f-01f5290e7e14"
      },
      "outputs": [
        {
          "name": "stdout",
          "output_type": "stream",
          "text": [
            "<class 'complex'>\n"
          ]
        }
      ],
      "source": [
        "b = 2+5j\n",
        "print(type(b))"
      ]
    },
    {
      "cell_type": "code",
      "execution_count": null,
      "metadata": {
        "colab": {
          "base_uri": "https://localhost:8080/"
        },
        "id": "CtREVL7u7uxZ",
        "outputId": "161efed1-673a-40c8-bbcc-53931b913d2f"
      },
      "outputs": [
        {
          "name": "stdout",
          "output_type": "stream",
          "text": [
            "15\n",
            "5\n"
          ]
        }
      ],
      "source": [
        "a = 10\n",
        "b = 5\n",
        "print(a+b)\n",
        "print(a-b)"
      ]
    },
    {
      "cell_type": "markdown",
      "metadata": {
        "id": "tOwgAbFs72Hw"
      },
      "source": [
        "**Types of errors**"
      ]
    },
    {
      "cell_type": "code",
      "execution_count": null,
      "metadata": {
        "colab": {
          "base_uri": "https://localhost:8080/",
          "height": 106
        },
        "id": "LW_hzFgU78CG",
        "outputId": "e8761a43-1817-4273-ff8a-32d4eb5209f0"
      },
      "outputs": [
        {
          "ename": "SyntaxError",
          "evalue": "incomplete input (ipython-input-15-921115731.py, line 3)",
          "output_type": "error",
          "traceback": [
            "\u001b[0;36m  File \u001b[0;32m\"/tmp/ipython-input-15-921115731.py\"\u001b[0;36m, line \u001b[0;32m3\u001b[0m\n\u001b[0;31m    \"\"\"hello\u001b[0m\n\u001b[0m    ^\u001b[0m\n\u001b[0;31mSyntaxError\u001b[0m\u001b[0;31m:\u001b[0m incomplete input\n"
          ]
        }
      ],
      "source": [
        "#There are 2 types of errors\n",
        "#1.syntax error:- breaking the rules of programming language can rise the syntax error\n",
        "\"\"\"hello\n",
        "welcome to python session! '''"
      ]
    },
    {
      "cell_type": "code",
      "execution_count": null,
      "metadata": {
        "id": "aS3l54Fs723n"
      },
      "outputs": [],
      "source": [
        "print(\"Hello\""
      ]
    },
    {
      "cell_type": "code",
      "execution_count": null,
      "metadata": {
        "colab": {
          "base_uri": "https://localhost:8080/",
          "height": 106
        },
        "id": "pyyrHcKf8P_K",
        "outputId": "b2321f82-1344-4691-cd78-05b4d7b99310"
      },
      "outputs": [
        {
          "ename": "SyntaxError",
          "evalue": "invalid syntax (ipython-input-16-1359160973.py, line 1)",
          "output_type": "error",
          "traceback": [
            "\u001b[0;36m  File \u001b[0;32m\"/tmp/ipython-input-16-1359160973.py\"\u001b[0;36m, line \u001b[0;32m1\u001b[0m\n\u001b[0;31m    print(2* *3)\u001b[0m\n\u001b[0m             ^\u001b[0m\n\u001b[0;31mSyntaxError\u001b[0m\u001b[0;31m:\u001b[0m invalid syntax\n"
          ]
        }
      ],
      "source": [
        "print(2* *3)"
      ]
    },
    {
      "cell_type": "code",
      "execution_count": null,
      "metadata": {
        "id": "33g3VbSJ8YVi"
      },
      "outputs": [],
      "source": [
        "#2.Logical errors:- except syntax error all the errors come under the logical error\n",
        "#ex:- identation error, Name error, type error, attribute errors, recurssive errors...etc"
      ]
    },
    {
      "cell_type": "markdown",
      "metadata": {
        "id": "Z01JHZ_m8dpo"
      },
      "source": [
        "**Rules to create the variables**"
      ]
    },
    {
      "cell_type": "code",
      "execution_count": null,
      "metadata": {
        "colab": {
          "base_uri": "https://localhost:8080/"
        },
        "id": "RR8Qme_Z8fUI",
        "outputId": "c0ecdd1c-ca5e-472d-88a9-fc3d09625d2c"
      },
      "outputs": [
        {
          "name": "stdout",
          "output_type": "stream",
          "text": [
            "10\n"
          ]
        }
      ],
      "source": [
        "#1.start creating the variable by using the alphabets\n",
        "a = 10\n",
        "print(a)"
      ]
    },
    {
      "cell_type": "code",
      "execution_count": null,
      "metadata": {
        "colab": {
          "base_uri": "https://localhost:8080/",
          "height": 106
        },
        "id": "bRMrcSf58lEn",
        "outputId": "0b6cf3ce-d7f1-4528-a9a7-a5ca0def238f"
      },
      "outputs": [
        {
          "ename": "SyntaxError",
          "evalue": "cannot assign to literal here. Maybe you meant '==' instead of '='? (ipython-input-18-492520082.py, line 2)",
          "output_type": "error",
          "traceback": [
            "\u001b[0;36m  File \u001b[0;32m\"/tmp/ipython-input-18-492520082.py\"\u001b[0;36m, line \u001b[0;32m2\u001b[0m\n\u001b[0;31m    2 = \"Hello\"\u001b[0m\n\u001b[0m    ^\u001b[0m\n\u001b[0;31mSyntaxError\u001b[0m\u001b[0;31m:\u001b[0m cannot assign to literal here. Maybe you meant '==' instead of '='?\n"
          ]
        }
      ],
      "source": [
        "#2.dont start the variable name with the numbers\n",
        "2 = \"Hello\"\n",
        "print(2)"
      ]
    },
    {
      "cell_type": "code",
      "execution_count": null,
      "metadata": {
        "colab": {
          "base_uri": "https://localhost:8080/"
        },
        "id": "t7kmusBE8tTu",
        "outputId": "4543d099-5c8d-4600-97ad-351ec4cba25c"
      },
      "outputs": [
        {
          "name": "stdout",
          "output_type": "stream",
          "text": [
            "20\n"
          ]
        }
      ],
      "source": [
        "#3.if you follow  rule 1 and rule2 start creatung the variable by using alphabets in between use numbers\n",
        "son2age = 20\n",
        "print(son2age)"
      ]
    },
    {
      "cell_type": "code",
      "execution_count": null,
      "metadata": {
        "colab": {
          "background_save": true
        },
        "id": "13o1PGdg9AlU"
      },
      "outputs": [],
      "source": [
        "#4.dont use the special characters in the variable names--> !,@,#,$,%,^,&,* <white space>,?\n",
        "son@age = 20\n",
        "print(son@age)"
      ]
    },
    {
      "cell_type": "code",
      "execution_count": null,
      "metadata": {
        "id": "28qfcdUo9apv"
      },
      "outputs": [],
      "source": [
        "#5.start creating the varible by using the underscore(_)\n",
        "_ = \"hello\"\n",
        "print(_)"
      ]
    },
    {
      "cell_type": "code",
      "execution_count": null,
      "metadata": {
        "id": "y3cxCVQd9cqn"
      },
      "outputs": [],
      "source": [
        "#6.dont use the inbuilt keywords as a variable name\n",
        "if = 20\n",
        "print(if)"
      ]
    },
    {
      "cell_type": "code",
      "execution_count": null,
      "metadata": {
        "colab": {
          "base_uri": "https://localhost:8080/"
        },
        "id": "UKwTr9OT9oSo",
        "outputId": "f85793e6-3c52-4f2f-afd5-a08523d82e44"
      },
      "outputs": [
        {
          "name": "stdout",
          "output_type": "stream",
          "text": [
            "['False', 'None', 'True', 'and', 'as', 'assert', 'async', 'await', 'break', 'class', 'continue', 'def', 'del', 'elif', 'else', 'except', 'finally', 'for', 'from', 'global', 'if', 'import', 'in', 'is', 'lambda', 'nonlocal', 'not', 'or', 'pass', 'raise', 'return', 'try', 'while', 'with', 'yield']\n"
          ]
        }
      ],
      "source": [
        "import keyword\n",
        "print(keyword.kwlist)"
      ]
    },
    {
      "cell_type": "code",
      "execution_count": null,
      "metadata": {
        "id": "sXdF7uHa9uLt"
      },
      "outputs": [],
      "source": [
        "#try to avoid writing the variable name in uppercase"
      ]
    },
    {
      "cell_type": "markdown",
      "metadata": {
        "id": "PvAPZp029yUB"
      },
      "source": [
        "Python is dynamically typed programming language\n",
        "\n",
        "--> we no need to define the data type for variables."
      ]
    },
    {
      "cell_type": "code",
      "execution_count": null,
      "metadata": {
        "colab": {
          "base_uri": "https://localhost:8080/"
        },
        "id": "-MM3iKwX9zqv",
        "outputId": "45a6de70-3691-42d0-bfb4-54d9526408c4"
      },
      "outputs": [
        {
          "name": "stdout",
          "output_type": "stream",
          "text": [
            "<class 'str'>\n"
          ]
        }
      ],
      "source": [
        "a = \"hello\"\n",
        "print(type(a))"
      ]
    },
    {
      "cell_type": "markdown",
      "metadata": {
        "id": "pusjZTmy9-Iy"
      },
      "source": [
        "python is a interpreted programming language\n",
        "\n",
        "--> executes the code line by line"
      ]
    },
    {
      "cell_type": "code",
      "execution_count": null,
      "metadata": {
        "colab": {
          "base_uri": "https://localhost:8080/"
        },
        "id": "WJEZDyUn9-_u",
        "outputId": "a8a3a860-00a4-45f2-8493-023dbb2c4d06"
      },
      "outputs": [
        {
          "name": "stdout",
          "output_type": "stream",
          "text": [
            "90\n"
          ]
        }
      ],
      "source": [
        "a = 20\n",
        "b = 30\n",
        "a = 40\n",
        "b = 50\n",
        "print(a+b)"
      ]
    },
    {
      "cell_type": "markdown",
      "metadata": {
        "id": "mTd_7fbJ-Jim"
      },
      "source": [
        "python is a object oriented programming language"
      ]
    },
    {
      "cell_type": "code",
      "execution_count": null,
      "metadata": {
        "colab": {
          "background_save": true
        },
        "id": "IiRmd3gT-Kfq",
        "outputId": "a9e9151f-b00a-4dca-a885-1e89c2cab78d"
      },
      "outputs": [
        {
          "name": "stdout",
          "output_type": "stream",
          "text": [
            "<class 'int'>\n",
            "<class 'str'>\n"
          ]
        }
      ],
      "source": [
        "a = 10\n",
        "b = \"Hello world!\"\n",
        "print(type(a))\n",
        "print(type(b))"
      ]
    },
    {
      "cell_type": "markdown",
      "metadata": {
        "id": "X0zhnEvi-0au"
      },
      "source": [
        "Python is case sensitive programming language"
      ]
    },
    {
      "cell_type": "code",
      "execution_count": null,
      "metadata": {
        "colab": {
          "background_save": true
        },
        "id": "LgyKQoMi-2zC",
        "outputId": "eb384d2b-9be6-478a-d7c7-2af72b5df46f"
      },
      "outputs": [
        {
          "ename": "NameError",
          "evalue": "name 'A' is not defined",
          "output_type": "error",
          "traceback": [
            "\u001b[0;31m---------------------------------------------------------------------------\u001b[0m",
            "\u001b[0;31mNameError\u001b[0m                                 Traceback (most recent call last)",
            "\u001b[0;32m/tmp/ipython-input-27-3335473340.py\u001b[0m in \u001b[0;36m<cell line: 0>\u001b[0;34m()\u001b[0m\n\u001b[1;32m      1\u001b[0m \u001b[0ma\u001b[0m \u001b[0;34m=\u001b[0m \u001b[0;34m\"hello\"\u001b[0m\u001b[0;34m\u001b[0m\u001b[0;34m\u001b[0m\u001b[0m\n\u001b[0;32m----> 2\u001b[0;31m \u001b[0mprint\u001b[0m\u001b[0;34m(\u001b[0m\u001b[0mA\u001b[0m\u001b[0;34m)\u001b[0m\u001b[0;34m\u001b[0m\u001b[0;34m\u001b[0m\u001b[0m\n\u001b[0m",
            "\u001b[0;31mNameError\u001b[0m: name 'A' is not defined"
          ]
        }
      ],
      "source": [
        "a = \"hello\"\n",
        "print(A)"
      ]
    },
    {
      "cell_type": "markdown",
      "metadata": {
        "id": "pySKYzNO_wzd"
      },
      "source": [
        "smart ways of writing the variables"
      ]
    },
    {
      "cell_type": "code",
      "execution_count": null,
      "metadata": {
        "colab": {
          "base_uri": "https://localhost:8080/"
        },
        "id": "GWvB5ITY_xt2",
        "outputId": "562dd924-793f-4ffa-8516-7e7db518771d"
      },
      "outputs": [
        {
          "name": "stdout",
          "output_type": "stream",
          "text": [
            "10\n",
            "20\n",
            "30\n"
          ]
        }
      ],
      "source": [
        "#1.assign multiple values to the multiple variables and print it in a seprate line?\n",
        "#Hint:- take 3 variables and print it\n",
        "a,b,c = 10,20,30\n",
        "print(a,b,c, sep='\\n')"
      ]
    },
    {
      "cell_type": "code",
      "execution_count": null,
      "metadata": {
        "colab": {
          "base_uri": "https://localhost:8080/"
        },
        "id": "zePTjaqi_5XZ",
        "outputId": "f71c56c7-b84f-4db6-8476-73430bbe0f1d"
      },
      "outputs": [
        {
          "name": "stdout",
          "output_type": "stream",
          "text": [
            "10\n",
            "10\n",
            "10\n"
          ]
        }
      ],
      "source": [
        "#2.assign the single value to the multiple variables and print it in seprate line?\n",
        "a = 10\n",
        "b = 10\n",
        "c = 10\n",
        "print(a,b,c, sep='\\n')"
      ]
    },
    {
      "cell_type": "code",
      "execution_count": null,
      "metadata": {
        "colab": {
          "base_uri": "https://localhost:8080/"
        },
        "id": "CZG5g-m-_8jk",
        "outputId": "ac812adc-da25-43ae-adeb-c08e8aa1e8eb"
      },
      "outputs": [
        {
          "name": "stdout",
          "output_type": "stream",
          "text": [
            "10\n",
            "10\n",
            "10\n"
          ]
        }
      ],
      "source": [
        "a = b = c = 10\n",
        "print(a,b,c, sep='\\n')"
      ]
    },
    {
      "cell_type": "markdown",
      "metadata": {
        "id": "0Z6x6XEWAI3l"
      },
      "source": [
        "Input()"
      ]
    },
    {
      "cell_type": "code",
      "execution_count": null,
      "metadata": {
        "colab": {
          "base_uri": "https://localhost:8080/"
        },
        "id": "68BhLaVSAK-v",
        "outputId": "fcc79e35-998b-45f7-e489-f3f2c1f028e6"
      },
      "outputs": [
        {
          "name": "stdout",
          "output_type": "stream",
          "text": [
            "20\n",
            "20\n",
            "2020\n"
          ]
        }
      ],
      "source": [
        "#what is input()?\n",
        "#input() intakes any kind of information from user and store it\n",
        "a = input()\n",
        "b = input()\n",
        "print(a+b)\n",
        "#Note:- The default data type for input() is string\n",
        "#why it is string?\n",
        "#becuase string is collection of multiple characters"
      ]
    },
    {
      "cell_type": "code",
      "execution_count": null,
      "metadata": {
        "colab": {
          "base_uri": "https://localhost:8080/"
        },
        "id": "SuHbVSxkAeKE",
        "outputId": "8bf18e66-0cb6-441f-b63b-243ec7fc5770"
      },
      "outputs": [
        {
          "name": "stdout",
          "output_type": "stream",
          "text": [
            "2025\n"
          ]
        }
      ],
      "source": [
        "a = \"20\"\n",
        "b = \"25\"\n",
        "print(a+b)\n",
        "#Note:- Adding of 2strings is known as concatenation"
      ]
    },
    {
      "cell_type": "code",
      "execution_count": null,
      "metadata": {
        "colab": {
          "base_uri": "https://localhost:8080/"
        },
        "id": "wIgszpNZAiVg",
        "outputId": "1e66e135-1976-489e-c276-53b9d530408e"
      },
      "outputs": [
        {
          "name": "stdout",
          "output_type": "stream",
          "text": [
            "enter your email raji123@gmail.com\n",
            "raji123@gmail.com\n"
          ]
        }
      ],
      "source": [
        "a = input('enter your email ')\n",
        "print(a)"
      ]
    },
    {
      "cell_type": "code",
      "execution_count": null,
      "metadata": {
        "colab": {
          "base_uri": "https://localhost:8080/"
        },
        "id": "PzTTbehXAuAH",
        "outputId": "95fd61f2-45f0-4303-a375-466cc8d33e00"
      },
      "outputs": [
        {
          "name": "stdout",
          "output_type": "stream",
          "text": [
            "enter num1 3\n",
            "enter num2 6\n",
            "9\n"
          ]
        }
      ],
      "source": [
        "\n",
        "a = int(input('enter num1 '))\n",
        "b = int(input('enter num2 '))\n",
        "print(a+b)"
      ]
    },
    {
      "cell_type": "code",
      "execution_count": null,
      "metadata": {
        "colab": {
          "base_uri": "https://localhost:8080/"
        },
        "id": "OAtYgnHdBTtI",
        "outputId": "68e8534f-ac9e-4213-c75b-d4c4c6ec71ec"
      },
      "outputs": [
        {
          "name": "stdout",
          "output_type": "stream",
          "text": [
            "enter num1 4\n",
            "(4+0j)\n"
          ]
        }
      ],
      "source": [
        "a = complex(input('enter num1 '))\n",
        "print(a)"
      ]
    },
    {
      "cell_type": "code",
      "execution_count": null,
      "metadata": {
        "colab": {
          "base_uri": "https://localhost:8080/"
        },
        "id": "W1oZ4HKSBaUj",
        "outputId": "e2cac68f-1796-4dfd-d6b8-23b421105d54"
      },
      "outputs": [
        {
          "name": "stdout",
          "output_type": "stream",
          "text": [
            "5.5\n"
          ]
        }
      ],
      "source": [
        "a = \"5.5\"\n",
        "print(float(a))"
      ]
    },
    {
      "cell_type": "code",
      "execution_count": null,
      "metadata": {
        "colab": {
          "base_uri": "https://localhost:8080/"
        },
        "id": "5RQuznMdB2_I",
        "outputId": "3432e8bd-7bfd-4cf2-8378-7d05babafa86"
      },
      "outputs": [
        {
          "name": "stdout",
          "output_type": "stream",
          "text": [
            "10\n"
          ]
        }
      ],
      "source": [
        "b = 10\n",
        "print(str(b))"
      ]
    },
    {
      "cell_type": "markdown",
      "metadata": {
        "id": "hG8hl1aiB95l"
      },
      "source": [
        "**Strings**"
      ]
    },
    {
      "cell_type": "code",
      "execution_count": null,
      "metadata": {
        "id": "NZGZLjlcCDFX"
      },
      "outputs": [],
      "source": [
        "##what is a string?\n",
        "#string is a sequence of multiple characters where each character can be accessible\n",
        "a = \"Hello World!\"\n",
        "#How can we access the characters from the string?\n",
        "#By using indexing and slicing operator-->[]\n",
        "#string is ordered\n",
        "#what is indexing--> positional number of characters in the string\n",
        "#indexing can be starts from 0\n",
        "#The process of getting a range of characters is known as slicing\n",
        "#The range of characters from main string is known as substring"
      ]
    },
    {
      "cell_type": "code",
      "execution_count": null,
      "metadata": {
        "colab": {
          "base_uri": "https://localhost:8080/"
        },
        "id": "CtSmvg-hB-ln",
        "outputId": "873a4c31-404f-4330-ac43-64183a02e570"
      },
      "outputs": [
        {
          "name": "stdout",
          "output_type": "stream",
          "text": [
            "W\n",
            "World\n",
            "HloWrd\n",
            "el ol!\n"
          ]
        }
      ],
      "source": [
        "a = \"Hello World!\"\n",
        "#print 'w' from above string\n",
        "#syntax--> [start]\n",
        "print(a[6])\n",
        "#print 'world' from above string\n",
        "#syntax:-  [start:end]\n",
        "print(a[6:11])\n",
        "#print the even position characters\n",
        "#syntax:- [start:end:step]\n",
        "print(a[0:12:2])\n",
        "print(a[1:12:2])"
      ]
    },
    {
      "cell_type": "markdown",
      "metadata": {
        "id": "nYx-2J-qCOLP"
      },
      "source": [
        "Negative indexing is used to access the range of characters in reverse direction\n",
        "\n",
        "--> -ve indexing starts from -1"
      ]
    },
    {
      "cell_type": "code",
      "source": [
        "a = input()\n",
        "#syntax:- [start_negative index]\n",
        "print(a[-1])"
      ],
      "metadata": {
        "colab": {
          "base_uri": "https://localhost:8080/"
        },
        "id": "ZJGzWXDbXeg-",
        "outputId": "1c73ce60-8434-468d-9e30-a48898e26446"
      },
      "execution_count": null,
      "outputs": [
        {
          "output_type": "stream",
          "name": "stdout",
          "text": [
            "3\n",
            "3\n"
          ]
        }
      ]
    },
    {
      "cell_type": "code",
      "source": [
        "a = \"Hello World!\"\n",
        "#print the world! in reverse direction---> !dlrow\n",
        "#syntax:- [start:end]\n",
        "print(a[-1:-7:-1])\n",
        "#Note:- The default slicing direction is from left to right\n",
        "#when we want to reverse the string we need define the step as -1"
      ],
      "metadata": {
        "colab": {
          "base_uri": "https://localhost:8080/"
        },
        "id": "hEJJv7y2Xkz0",
        "outputId": "49496265-806a-4a9b-b66d-2f9d72060d4b"
      },
      "execution_count": null,
      "outputs": [
        {
          "output_type": "stream",
          "name": "stdout",
          "text": [
            "!dlroW\n"
          ]
        }
      ]
    },
    {
      "cell_type": "markdown",
      "source": [
        "default indexing\n",
        "\n",
        "by default the start can 0 and end is length of the string and step is 1"
      ],
      "metadata": {
        "id": "1eqRhe2EYXzZ"
      }
    },
    {
      "cell_type": "code",
      "source": [
        "a = \"Hello World!\"\n",
        "print(a[:])\n",
        "#print(a[0:len(a)])\n",
        "print(a[::])\n",
        "print(a[::2])\n",
        "print(a[1::2])\n",
        "print(a[::-1])"
      ],
      "metadata": {
        "colab": {
          "base_uri": "https://localhost:8080/"
        },
        "id": "HFvghRLSYaL-",
        "outputId": "17e546b2-9cea-4adf-ca92-6b512a291fd9"
      },
      "execution_count": null,
      "outputs": [
        {
          "output_type": "stream",
          "name": "stdout",
          "text": [
            "Hello World!\n",
            "Hello World!\n",
            "HloWrd\n",
            "el ol!\n",
            "!dlroW olleH\n"
          ]
        }
      ]
    },
    {
      "cell_type": "code",
      "source": [
        "print(len(a))"
      ],
      "metadata": {
        "colab": {
          "base_uri": "https://localhost:8080/"
        },
        "id": "Hie4hm_IYh2F",
        "outputId": "a817748a-5668-4f31-8fdb-06210f9cd7ce"
      },
      "execution_count": null,
      "outputs": [
        {
          "output_type": "stream",
          "name": "stdout",
          "text": [
            "12\n"
          ]
        }
      ]
    },
    {
      "cell_type": "code",
      "source": [
        "a = input()\n",
        "print(a[::-1])"
      ],
      "metadata": {
        "colab": {
          "base_uri": "https://localhost:8080/"
        },
        "id": "c2vDtwhMYk_u",
        "outputId": "9c0dd370-89bf-4b91-9b31-078273ce991b"
      },
      "execution_count": null,
      "outputs": [
        {
          "output_type": "stream",
          "name": "stdout",
          "text": [
            "FDD\n",
            "DDF\n"
          ]
        }
      ]
    },
    {
      "cell_type": "markdown",
      "source": [
        "**14-07-2025**"
      ],
      "metadata": {
        "id": "VSYtENiPYqM_"
      }
    },
    {
      "cell_type": "code",
      "source": [
        "a = \"Hello world!\"\n",
        "print(dir(a))"
      ],
      "metadata": {
        "colab": {
          "base_uri": "https://localhost:8080/"
        },
        "id": "9tZb7GYAYr-M",
        "outputId": "c8c84190-9b14-41af-b251-f047e124c9e5"
      },
      "execution_count": null,
      "outputs": [
        {
          "output_type": "stream",
          "name": "stdout",
          "text": [
            "['__add__', '__class__', '__contains__', '__delattr__', '__dir__', '__doc__', '__eq__', '__format__', '__ge__', '__getattribute__', '__getitem__', '__getnewargs__', '__getstate__', '__gt__', '__hash__', '__init__', '__init_subclass__', '__iter__', '__le__', '__len__', '__lt__', '__mod__', '__mul__', '__ne__', '__new__', '__reduce__', '__reduce_ex__', '__repr__', '__rmod__', '__rmul__', '__setattr__', '__sizeof__', '__str__', '__subclasshook__', 'capitalize', 'casefold', 'center', 'count', 'encode', 'endswith', 'expandtabs', 'find', 'format', 'format_map', 'index', 'isalnum', 'isalpha', 'isascii', 'isdecimal', 'isdigit', 'isidentifier', 'islower', 'isnumeric', 'isprintable', 'isspace', 'istitle', 'isupper', 'join', 'ljust', 'lower', 'lstrip', 'maketrans', 'partition', 'removeprefix', 'removesuffix', 'replace', 'rfind', 'rindex', 'rjust', 'rpartition', 'rsplit', 'rstrip', 'split', 'splitlines', 'startswith', 'strip', 'swapcase', 'title', 'translate', 'upper', 'zfill']\n"
          ]
        }
      ]
    },
    {
      "cell_type": "code",
      "source": [
        "#replace the world with universe\n",
        "print(a.replace('world','universe'))"
      ],
      "metadata": {
        "colab": {
          "base_uri": "https://localhost:8080/"
        },
        "id": "nTRC2j0KY0xB",
        "outputId": "7463a696-324b-47aa-ec65-1b959b73d0fe"
      },
      "execution_count": null,
      "outputs": [
        {
          "output_type": "stream",
          "name": "stdout",
          "text": [
            "Hello universe!\n"
          ]
        }
      ]
    },
    {
      "cell_type": "code",
      "source": [
        "#zfill\n",
        "print(a.zfill(15))"
      ],
      "metadata": {
        "colab": {
          "base_uri": "https://localhost:8080/"
        },
        "id": "MkVXLdqhY30a",
        "outputId": "b992c8b8-db02-490d-ffb7-6ee2b5f6de5a"
      },
      "execution_count": null,
      "outputs": [
        {
          "output_type": "stream",
          "name": "stdout",
          "text": [
            "000Hello world!\n"
          ]
        }
      ]
    },
    {
      "cell_type": "markdown",
      "source": [
        "**collections**"
      ],
      "metadata": {
        "id": "HdbNrDftY7nw"
      }
    },
    {
      "cell_type": "code",
      "source": [
        "#1.list\n",
        "#2.tuple\n",
        "#3.set\n",
        "#4.dictionary"
      ],
      "metadata": {
        "id": "RU5T6MxWY9Vm"
      },
      "execution_count": null,
      "outputs": []
    },
    {
      "cell_type": "code",
      "source": [
        "a = \"Hello\"\n",
        "print(a[-1:-3:-1])"
      ],
      "metadata": {
        "colab": {
          "base_uri": "https://localhost:8080/"
        },
        "id": "nu6GL1rEZARL",
        "outputId": "8308c71b-3779-47e8-ac56-10162fb49b8d"
      },
      "execution_count": null,
      "outputs": [
        {
          "output_type": "stream",
          "name": "stdout",
          "text": [
            "ol\n"
          ]
        }
      ]
    },
    {
      "cell_type": "code",
      "source": [
        "#How many types of data can be stored by collections?\n",
        "#1.Homogenous\n",
        "#2.heterogenous data"
      ],
      "metadata": {
        "id": "sb6LJGf9ZF8J"
      },
      "execution_count": null,
      "outputs": []
    },
    {
      "cell_type": "markdown",
      "source": [],
      "metadata": {
        "id": "j-vDN7PgZE4u"
      }
    },
    {
      "cell_type": "markdown",
      "source": [
        "**List**"
      ],
      "metadata": {
        "id": "WeA61uz8ZHuP"
      }
    },
    {
      "cell_type": "code",
      "source": [
        "#List is decalred in []\n",
        "#list is defined as ordered, mutuable and allows the duplicate data"
      ],
      "metadata": {
        "id": "xAfek3ovZLKx"
      },
      "execution_count": null,
      "outputs": []
    },
    {
      "cell_type": "markdown",
      "source": [
        "**list allows the duplicate data**"
      ],
      "metadata": {
        "id": "QfO0WT68ZNtE"
      }
    },
    {
      "cell_type": "code",
      "source": [
        "l1 = ['apple','banana','orange','grapes','apple','apple']\n",
        "print(len(l1))\n",
        "print(l1)"
      ],
      "metadata": {
        "colab": {
          "base_uri": "https://localhost:8080/"
        },
        "id": "WTBr4iAdZRh1",
        "outputId": "d9e66c67-a218-44c7-ef25-9abdec55c2eb"
      },
      "execution_count": null,
      "outputs": [
        {
          "output_type": "stream",
          "name": "stdout",
          "text": [
            "6\n",
            "['apple', 'banana', 'orange', 'grapes', 'apple', 'apple']\n"
          ]
        }
      ]
    },
    {
      "cell_type": "markdown",
      "source": [
        "**List is ordered-->**"
      ],
      "metadata": {
        "id": "VyulgVvDZX-1"
      }
    },
    {
      "cell_type": "code",
      "source": [
        "#ordered means having sequence of index position numbers\n",
        "#access the orngae\n",
        "print(l1[2])\n",
        "#print 'apple','banana','orange','grapes'\n",
        "print(l1[0:4])\n",
        "#print the even index position characters\n",
        "print(l1[0:6:2])"
      ],
      "metadata": {
        "colab": {
          "base_uri": "https://localhost:8080/"
        },
        "id": "y2ndRYegZZpB",
        "outputId": "2cbc5d50-3e19-45f1-9697-a6a1e260d2c4"
      },
      "execution_count": null,
      "outputs": [
        {
          "output_type": "stream",
          "name": "stdout",
          "text": [
            "orange\n",
            "['apple', 'banana', 'orange', 'grapes']\n",
            "['apple', 'orange', 'apple']\n"
          ]
        }
      ]
    },
    {
      "cell_type": "code",
      "source": [
        "print(l1[-1])\n",
        "l2 = ['apple', 'banana', 'orange', 'grapes', 'apple', 'apple']\n",
        "#print grapes,orange, banana, apple in reverse direction\n",
        "print(l2[-3::-1])"
      ],
      "metadata": {
        "colab": {
          "base_uri": "https://localhost:8080/"
        },
        "id": "27QGGrd6Zd_d",
        "outputId": "f4de762d-5de1-4d72-8411-030906ee4d27"
      },
      "execution_count": null,
      "outputs": [
        {
          "output_type": "stream",
          "name": "stdout",
          "text": [
            "apple\n",
            "['grapes', 'orange', 'banana', 'apple']\n"
          ]
        }
      ]
    },
    {
      "cell_type": "code",
      "source": [
        "print(l2[::-1])"
      ],
      "metadata": {
        "colab": {
          "base_uri": "https://localhost:8080/"
        },
        "id": "nVDHEuE4Zm9s",
        "outputId": "1214934a-7913-4fdd-8744-33769bf2fea2"
      },
      "execution_count": null,
      "outputs": [
        {
          "output_type": "stream",
          "name": "stdout",
          "text": [
            "['apple', 'apple', 'grapes', 'orange', 'banana', 'apple']\n"
          ]
        }
      ]
    },
    {
      "cell_type": "markdown",
      "source": [
        "list is mutable\n",
        "\n",
        "when we suppose to say a collection is mutable\n",
        "\n",
        "if the collecion following 3 properties\n",
        "\n",
        "     1.replace or swap the items or elements\n",
        "     2.add the new items to the existing list\n",
        "     3.remove the items from the list"
      ],
      "metadata": {
        "id": "4e1Lcr0cZr3v"
      }
    },
    {
      "cell_type": "markdown",
      "source": [
        "**replace or swap the items or elements**"
      ],
      "metadata": {
        "id": "_Mpgs_NGaiMw"
      }
    },
    {
      "cell_type": "code",
      "source": [
        "l3 = ['python','java','js','c++','c']\n",
        "#How can we replace the items from list\n",
        "#use index\n",
        "l3[2] = \"javascript\"\n",
        "print(l3)"
      ],
      "metadata": {
        "colab": {
          "base_uri": "https://localhost:8080/"
        },
        "id": "WK5bjz2KakGp",
        "outputId": "844d4dc5-5dbd-4d12-b70b-d2c5956cb6e1"
      },
      "execution_count": null,
      "outputs": [
        {
          "output_type": "stream",
          "name": "stdout",
          "text": [
            "['python', 'java', 'javascript', 'c++', 'c']\n"
          ]
        }
      ]
    },
    {
      "cell_type": "code",
      "source": [
        "#replace 'python',java with sql and Nosql\n",
        "l3[0:2] = \"sql\",'Nosql'\n",
        "print(l3)"
      ],
      "metadata": {
        "colab": {
          "base_uri": "https://localhost:8080/"
        },
        "id": "Z2ivvpBbapKZ",
        "outputId": "34b1d96e-148c-4458-9b4a-f92a9c8b637c"
      },
      "execution_count": null,
      "outputs": [
        {
          "output_type": "stream",
          "name": "stdout",
          "text": [
            "['sql', 'Nosql', 'javascript', 'c++', 'c']\n"
          ]
        }
      ]
    },
    {
      "cell_type": "markdown",
      "source": [
        "**Add the new items to the existing list**"
      ],
      "metadata": {
        "id": "6hgPwk4batjT"
      }
    },
    {
      "cell_type": "code",
      "source": [
        "l4 = ['sql', 'Nosql', 'javascript', 'c++', 'c']\n",
        "print(dir(l4))\n",
        "#'append', 'clear', 'copy', 'count', 'extend', 'index', 'insert', 'pop', 'remove', 'reverse', 'sort'"
      ],
      "metadata": {
        "colab": {
          "base_uri": "https://localhost:8080/"
        },
        "id": "_T4n0i3wavqd",
        "outputId": "333f3b83-62b1-4202-8472-dfccc5411e3e"
      },
      "execution_count": null,
      "outputs": [
        {
          "output_type": "stream",
          "name": "stdout",
          "text": [
            "['__add__', '__class__', '__class_getitem__', '__contains__', '__delattr__', '__delitem__', '__dir__', '__doc__', '__eq__', '__format__', '__ge__', '__getattribute__', '__getitem__', '__getstate__', '__gt__', '__hash__', '__iadd__', '__imul__', '__init__', '__init_subclass__', '__iter__', '__le__', '__len__', '__lt__', '__mul__', '__ne__', '__new__', '__reduce__', '__reduce_ex__', '__repr__', '__reversed__', '__rmul__', '__setattr__', '__setitem__', '__sizeof__', '__str__', '__subclasshook__', 'append', 'clear', 'copy', 'count', 'extend', 'index', 'insert', 'pop', 'remove', 'reverse', 'sort']\n"
          ]
        }
      ]
    },
    {
      "cell_type": "code",
      "source": [
        "#1.append():-by default append method adds the item at end of the list\n",
        "#can we add multiple items by using append()--> no\n",
        "l4.append('python')\n",
        "print(l4)"
      ],
      "metadata": {
        "colab": {
          "base_uri": "https://localhost:8080/"
        },
        "id": "JOM-YLj3a9PN",
        "outputId": "7842f413-595f-408b-8b0a-6927f103ac4b"
      },
      "execution_count": null,
      "outputs": [
        {
          "output_type": "stream",
          "name": "stdout",
          "text": [
            "['sql', 'Nosql', 'javascript', 'c++', 'c', 'python']\n"
          ]
        }
      ]
    },
    {
      "cell_type": "code",
      "source": [
        "#2.insert():- used to add the element at particular index position\n",
        "#add the java at 3rd index position\n",
        "l4.insert(3,'java')\n",
        "print(l4)\n",
        "#can we add multiple items by using insert()-->No"
      ],
      "metadata": {
        "colab": {
          "base_uri": "https://localhost:8080/"
        },
        "id": "rphRVNXMbBmI",
        "outputId": "2029e200-4435-4c87-f0eb-559b28de1410"
      },
      "execution_count": null,
      "outputs": [
        {
          "output_type": "stream",
          "name": "stdout",
          "text": [
            "['sql', 'Nosql', 'javascript', 'java', 'c++', 'c', 'python']\n"
          ]
        }
      ]
    },
    {
      "cell_type": "code",
      "source": [
        "#extend():- used to add items from other collections to the exisiting list\n",
        "l5 = [1,2,3,4,5,6]\n",
        "#add the l5 into l4\n",
        "l4.extend(l5)\n",
        "print(l4)"
      ],
      "metadata": {
        "colab": {
          "base_uri": "https://localhost:8080/"
        },
        "id": "9UVIuWz9bRDF",
        "outputId": "159e1ca3-568e-4543-ac4e-9ef192efd93a"
      },
      "execution_count": null,
      "outputs": [
        {
          "output_type": "stream",
          "name": "stdout",
          "text": [
            "['sql', 'Nosql', 'javascript', 'java', 'java', 'c++', 'c', 'python', 1, 2, 3, 4, 5, 6]\n"
          ]
        }
      ]
    },
    {
      "cell_type": "markdown",
      "source": [
        "**remove the items from the list**"
      ],
      "metadata": {
        "id": "gKPvhMk1bXFJ"
      }
    },
    {
      "cell_type": "code",
      "source": [
        "#1.pop(index):- by default it remove the last item from the list\n",
        "l6 = ['sql', 'Nosql', 'javascript', 'java', 'java', 'c++', 'c', 'python', 1, 2, 3, 4, 5, 6]\n",
        "l6.pop()\n",
        "print(l6)"
      ],
      "metadata": {
        "colab": {
          "base_uri": "https://localhost:8080/"
        },
        "id": "Gtj0LTHabb6-",
        "outputId": "81212cf8-8a2d-4760-b6c8-429dfd141875"
      },
      "execution_count": null,
      "outputs": [
        {
          "output_type": "stream",
          "name": "stdout",
          "text": [
            "['sql', 'Nosql', 'javascript', 'java', 'java', 'c++', 'c', 'python', 1, 2, 3, 4, 5]\n"
          ]
        }
      ]
    },
    {
      "cell_type": "code",
      "source": [
        "l6.pop(6)\n",
        "print(l6)"
      ],
      "metadata": {
        "colab": {
          "base_uri": "https://localhost:8080/"
        },
        "id": "DPvjSlIabmXR",
        "outputId": "b71da105-b952-4724-9851-c6906e1aca66"
      },
      "execution_count": null,
      "outputs": [
        {
          "output_type": "stream",
          "name": "stdout",
          "text": [
            "['sql', 'Nosql', 'javascript', 'java', 'java', 'c++', 'python', 1, 2, 3, 4, 5]\n"
          ]
        }
      ]
    },
    {
      "cell_type": "code",
      "source": [
        "#remove(\"name\")\n",
        "l6.remove('Nosql')\n",
        "print(l6)"
      ],
      "metadata": {
        "colab": {
          "base_uri": "https://localhost:8080/"
        },
        "id": "PMSJ4NFxbr3i",
        "outputId": "efbabe84-9eeb-47a0-dcd5-c30389307e34"
      },
      "execution_count": null,
      "outputs": [
        {
          "output_type": "stream",
          "name": "stdout",
          "text": [
            "['sql', 'javascript', 'java', 'java', 'c++', 'python', 1, 2, 3, 4, 5]\n"
          ]
        }
      ]
    },
    {
      "cell_type": "code",
      "source": [
        "#del\n",
        "del l6[6:]\n",
        "print(l6)"
      ],
      "metadata": {
        "colab": {
          "base_uri": "https://localhost:8080/"
        },
        "id": "9PZH-UnZbx8V",
        "outputId": "88f085b2-22d8-4e68-a811-a0a580fc90bd"
      },
      "execution_count": null,
      "outputs": [
        {
          "output_type": "stream",
          "name": "stdout",
          "text": [
            "['sql', 'javascript', 'java', 'java', 'c++', 'python']\n"
          ]
        }
      ]
    },
    {
      "cell_type": "code",
      "source": [
        "#4.clear()\n",
        "l6.clear()\n",
        "print(l6)"
      ],
      "metadata": {
        "colab": {
          "base_uri": "https://localhost:8080/"
        },
        "id": "CTv0FqTVbz5l",
        "outputId": "2719a98d-e7e9-44d3-88c0-1bfeec53e119"
      },
      "execution_count": null,
      "outputs": [
        {
          "output_type": "stream",
          "name": "stdout",
          "text": [
            "[]\n"
          ]
        }
      ]
    },
    {
      "cell_type": "code",
      "source": [
        "del l6\n",
        "print(l6)"
      ],
      "metadata": {
        "id": "tEpaODchb4-Y"
      },
      "execution_count": null,
      "outputs": []
    },
    {
      "cell_type": "markdown",
      "source": [
        "**sorting a list**"
      ],
      "metadata": {
        "id": "tQXXY1nacALy"
      }
    },
    {
      "cell_type": "code",
      "source": [
        "a = ['apple','Apple','Banana','banana','Grapes','orange','Lemon']\n",
        "a.sort()\n",
        "print(a)\n",
        "#Note:- in list the sorting can be done based on the ASCII numbers"
      ],
      "metadata": {
        "colab": {
          "base_uri": "https://localhost:8080/"
        },
        "id": "Jwdu-0bhcDLs",
        "outputId": "3eaa71b9-3e72-4487-a826-83ae6e94da03"
      },
      "execution_count": null,
      "outputs": [
        {
          "output_type": "stream",
          "name": "stdout",
          "text": [
            "['Apple', 'Banana', 'Grapes', 'Lemon', 'apple', 'banana', 'orange']\n"
          ]
        }
      ]
    },
    {
      "cell_type": "code",
      "source": [
        "a.sort(reverse=True)\n",
        "print(a)"
      ],
      "metadata": {
        "colab": {
          "base_uri": "https://localhost:8080/"
        },
        "id": "3D3dQHvZcMWw",
        "outputId": "0055c0f5-41a4-42be-a46a-9079a243d7e4"
      },
      "execution_count": null,
      "outputs": [
        {
          "output_type": "stream",
          "name": "stdout",
          "text": [
            "['orange', 'banana', 'apple', 'Lemon', 'Grapes', 'Banana', 'Apple']\n"
          ]
        }
      ]
    },
    {
      "cell_type": "code",
      "source": [
        "l =[10,5,7,21,6,20,16,12,18,14,26]\n",
        "#sort the above list in decending order\n",
        "l.sort(reverse=True)\n",
        "print(l)"
      ],
      "metadata": {
        "colab": {
          "base_uri": "https://localhost:8080/"
        },
        "id": "v1UXSsOGcP1k",
        "outputId": "7b1d249e-52a0-41c0-c98b-68bbc21ba364"
      },
      "execution_count": null,
      "outputs": [
        {
          "output_type": "stream",
          "name": "stdout",
          "text": [
            "[26, 21, 20, 18, 16, 14, 12, 10, 7, 6, 5]\n"
          ]
        }
      ]
    },
    {
      "cell_type": "markdown",
      "source": [
        "**Tuple**"
      ],
      "metadata": {
        "id": "t_M5U-j9cTM8"
      }
    },
    {
      "cell_type": "code",
      "source": [
        "#what is tuple or define tuple and how can we declare a tuple?\n",
        "#tuple declared in ()\n",
        "#tuplie is ordered, immutable, and allows the duplicates"
      ],
      "metadata": {
        "id": "VSJT7r4vcXJi"
      },
      "execution_count": null,
      "outputs": []
    },
    {
      "cell_type": "markdown",
      "source": [
        "**tuples allows the duplicates**"
      ],
      "metadata": {
        "id": "Rh21_-UscZ-0"
      }
    },
    {
      "cell_type": "code",
      "source": [
        "t1 = (1,2,3,4,5,6,1,2,3,4,5,6)\n",
        "print(len(t1))\n",
        "print(t1)\n",
        "print(type(t1))"
      ],
      "metadata": {
        "colab": {
          "base_uri": "https://localhost:8080/"
        },
        "id": "TL-As_1_cdRq",
        "outputId": "71507641-9f5b-45e5-949e-887d1a9d363d"
      },
      "execution_count": null,
      "outputs": [
        {
          "output_type": "stream",
          "name": "stdout",
          "text": [
            "12\n",
            "(1, 2, 3, 4, 5, 6, 1, 2, 3, 4, 5, 6)\n",
            "<class 'tuple'>\n"
          ]
        }
      ]
    },
    {
      "cell_type": "markdown",
      "source": [
        "**tuple is ordered elements in tuple is having index position numbers**"
      ],
      "metadata": {
        "id": "1vY8ndj0cgPl"
      }
    },
    {
      "cell_type": "code",
      "source": [
        "print(t1[::2])\n",
        "print(t1[1::2])\n",
        "print(t1[::-1])"
      ],
      "metadata": {
        "colab": {
          "base_uri": "https://localhost:8080/"
        },
        "id": "NYxMHG7gcj0e",
        "outputId": "105fd5bb-3b2c-485f-da6b-026e20529bac"
      },
      "execution_count": null,
      "outputs": [
        {
          "output_type": "stream",
          "name": "stdout",
          "text": [
            "(1, 3, 5, 1, 3, 5)\n",
            "(2, 4, 6, 2, 4, 6)\n",
            "(6, 5, 4, 3, 2, 1, 6, 5, 4, 3, 2, 1)\n"
          ]
        }
      ]
    },
    {
      "cell_type": "markdown",
      "source": [
        "**Tuple is immutable --> we cannot replace, add, and remove the items from the tuple**"
      ],
      "metadata": {
        "id": "9oYuAQDjcm42"
      }
    },
    {
      "cell_type": "code",
      "source": [
        "t2 = ('apple','banana','lemon','orange','watermelon')\n",
        "print(dir(t2))\n",
        "#'count', 'index'"
      ],
      "metadata": {
        "colab": {
          "base_uri": "https://localhost:8080/"
        },
        "id": "um2Vo731cq7Z",
        "outputId": "611c964c-1671-4e9a-abb3-e13777feb859"
      },
      "execution_count": null,
      "outputs": [
        {
          "output_type": "stream",
          "name": "stdout",
          "text": [
            "['__add__', '__class__', '__class_getitem__', '__contains__', '__delattr__', '__dir__', '__doc__', '__eq__', '__format__', '__ge__', '__getattribute__', '__getitem__', '__getnewargs__', '__getstate__', '__gt__', '__hash__', '__init__', '__init_subclass__', '__iter__', '__le__', '__len__', '__lt__', '__mul__', '__ne__', '__new__', '__reduce__', '__reduce_ex__', '__repr__', '__rmul__', '__setattr__', '__sizeof__', '__str__', '__subclasshook__', 'count', 'index']\n"
          ]
        }
      ]
    },
    {
      "cell_type": "code",
      "source": [
        "t2[1] = \"orange\"\n",
        "print(t2)"
      ],
      "metadata": {
        "id": "_veZLZtYcvek"
      },
      "execution_count": null,
      "outputs": []
    },
    {
      "cell_type": "code",
      "source": [
        "#Tuple is faster then the list bcz tuple is immutable\n",
        "#How can we add the items into tuple\n",
        "#by converting it into list\n",
        "l = list(t2)\n",
        "print(l)"
      ],
      "metadata": {
        "colab": {
          "base_uri": "https://localhost:8080/"
        },
        "id": "fMpWnH_Jc3ba",
        "outputId": "2c04846f-af76-4ede-abff-069f6181282a"
      },
      "execution_count": null,
      "outputs": [
        {
          "output_type": "stream",
          "name": "stdout",
          "text": [
            "['apple', 'banana', 'lemon', 'orange', 'watermelon']\n"
          ]
        }
      ]
    },
    {
      "cell_type": "code",
      "source": [
        "t = tuple(l)\n",
        "print(t)"
      ],
      "metadata": {
        "colab": {
          "base_uri": "https://localhost:8080/"
        },
        "id": "yMs2sGbtc86_",
        "outputId": "33abeeef-7010-44ec-c7d3-b413a402dae5"
      },
      "execution_count": null,
      "outputs": [
        {
          "output_type": "stream",
          "name": "stdout",
          "text": [
            "('apple', 'banana', 'lemon', 'orange', 'watermelon')\n"
          ]
        }
      ]
    },
    {
      "cell_type": "code",
      "source": [
        "#if there is any changes or data manipulation required in future  we use list\n",
        "#if there is no change to the data we use tuple"
      ],
      "metadata": {
        "id": "fcRu99XRdAQR"
      },
      "execution_count": null,
      "outputs": []
    },
    {
      "cell_type": "markdown",
      "source": [
        "**15-07-2025**"
      ],
      "metadata": {
        "id": "V8kEP2EsdBNP"
      }
    },
    {
      "cell_type": "markdown",
      "source": [
        "**SET**"
      ],
      "metadata": {
        "id": "1pRNUovHdFhe"
      }
    },
    {
      "cell_type": "code",
      "source": [
        "#what is set or how can we declare a set?\n",
        "#set--->{}\n",
        "#set is defined as unordered, immutable, and wont allow the duplicates"
      ],
      "metadata": {
        "id": "mcF2v9JTdJyp"
      },
      "execution_count": null,
      "outputs": []
    },
    {
      "cell_type": "markdown",
      "source": [
        "**SET wont allow the duplicates**"
      ],
      "metadata": {
        "id": "XzYYbzD5dMk2"
      }
    },
    {
      "cell_type": "code",
      "source": [
        "s1={'apple','banana','mango','pineapple','orange','apple','banana'}\n",
        "print(len(s1))\n",
        "print(s1)\n",
        "print(type(s1))"
      ],
      "metadata": {
        "colab": {
          "base_uri": "https://localhost:8080/"
        },
        "id": "xXdf2gxCdPrx",
        "outputId": "a390f50b-2816-457e-f6b4-e64b1443bff2"
      },
      "execution_count": null,
      "outputs": [
        {
          "output_type": "stream",
          "name": "stdout",
          "text": [
            "5\n",
            "{'pineapple', 'mango', 'banana', 'orange', 'apple'}\n",
            "<class 'set'>\n"
          ]
        }
      ]
    },
    {
      "cell_type": "markdown",
      "source": [
        "**Set is unordered**"
      ],
      "metadata": {
        "id": "oGloNyXldSuy"
      }
    },
    {
      "cell_type": "code",
      "source": [
        "print(s1[2]) #'set' object is not subscriptable"
      ],
      "metadata": {
        "id": "7v-bfMSgdVrm"
      },
      "execution_count": null,
      "outputs": []
    },
    {
      "cell_type": "markdown",
      "source": [
        "SET is immutable where we cannot replace or swap the items or elements\n",
        "\n",
        "but we can add and remove the elements from the set"
      ],
      "metadata": {
        "id": "NdNLW54edZ3B"
      }
    },
    {
      "cell_type": "code",
      "source": [
        "s2 = {'apple', 'mango', 'banana', 'pineapple', 'orange'}\n",
        "print(dir(s2))\n",
        "#'add', 'clear', 'copy', 'difference', 'difference_update', 'discard', 'intersection', 'intersection_update', 'isdisjoint', 'issubset', 'issuperset', 'pop', 'remove', 'symmetric_difference', 'symmetric_difference_update', 'union', 'update'"
      ],
      "metadata": {
        "id": "iSDcikabdmlk"
      },
      "execution_count": null,
      "outputs": []
    },
    {
      "cell_type": "markdown",
      "source": [
        "**Adding methods in set**"
      ],
      "metadata": {
        "id": "JyhprCOddrQD"
      }
    },
    {
      "cell_type": "code",
      "source": [
        "#1.add():- add the item \"grapes\" in s2\n",
        "s2.add('grapes')\n",
        "print(s2)\n",
        "#can we add multiple items by using add method-->No"
      ],
      "metadata": {
        "id": "gRG9Zd6edvch"
      },
      "execution_count": null,
      "outputs": []
    },
    {
      "cell_type": "code",
      "source": [
        "s2.add('watermelon','lemon')\n",
        "print(s2)"
      ],
      "metadata": {
        "id": "3ofAlLFfd1mR"
      },
      "execution_count": null,
      "outputs": []
    },
    {
      "cell_type": "code",
      "source": [
        "#2.update():- updates the set with other collections\n",
        "s3 = {1,2,3,4,5,6}\n",
        "#add the s3 in s2\n",
        "s2.update(s3)\n",
        "print(s2)"
      ],
      "metadata": {
        "id": "7X6MB1Iud4-7"
      },
      "execution_count": null,
      "outputs": []
    },
    {
      "cell_type": "markdown",
      "source": [
        "**remove the items from set**"
      ],
      "metadata": {
        "id": "7N0ptnHPeDkl"
      }
    },
    {
      "cell_type": "code",
      "source": [
        "#1.pop()  it is not a best practice\n",
        "s2.pop()\n",
        "print(s2)"
      ],
      "metadata": {
        "id": "MRzFhVVWeE6g"
      },
      "execution_count": null,
      "outputs": []
    },
    {
      "cell_type": "code",
      "source": [
        "#discard('element')\n",
        "s2.discard(3)\n",
        "print(s2)"
      ],
      "metadata": {
        "id": "AD7Q82O6eJl-"
      },
      "execution_count": null,
      "outputs": []
    },
    {
      "cell_type": "code",
      "source": [
        "#what is diff b/w remove and discard?\n",
        "#in remove method if the element exist it removes from set otherwise it rises an error\n",
        "#In discard method if the exist or not it won't rise any error\n",
        "s2.remove('xyz')\n",
        "print(s2)"
      ],
      "metadata": {
        "id": "RL2FtEtaeNT_"
      },
      "execution_count": null,
      "outputs": []
    },
    {
      "cell_type": "code",
      "source": [
        "s2.discard('xyz')\n",
        "print(s2)"
      ],
      "metadata": {
        "id": "-YZT4sjeeQm2"
      },
      "execution_count": null,
      "outputs": []
    },
    {
      "cell_type": "code",
      "source": [
        "#4.clear()\n",
        "print(s2.clear())"
      ],
      "metadata": {
        "id": "pmjViR5seat0"
      },
      "execution_count": null,
      "outputs": []
    },
    {
      "cell_type": "code",
      "source": [
        "del s2\n",
        "print(s2)"
      ],
      "metadata": {
        "id": "LJsopWhGeUaW"
      },
      "execution_count": null,
      "outputs": []
    },
    {
      "cell_type": "code",
      "source": [
        "#sets are faster then the list and tuple beacuse set is unordered and immutable"
      ],
      "metadata": {
        "id": "QxTTWP17egFC"
      },
      "execution_count": null,
      "outputs": []
    },
    {
      "cell_type": "code",
      "source": [
        "s1 = {'a','b','c','d'}\n",
        "s2 = {'d','e','f','g'}\n",
        "print(s1.union(s2))"
      ],
      "metadata": {
        "colab": {
          "base_uri": "https://localhost:8080/"
        },
        "id": "QSWltP9ueg6p",
        "outputId": "db993671-41cc-453d-a5cc-5ee49087621a"
      },
      "execution_count": null,
      "outputs": [
        {
          "output_type": "stream",
          "name": "stdout",
          "text": [
            "{'d', 'b', 'e', 'g', 'f', 'a', 'c'}\n"
          ]
        }
      ]
    },
    {
      "cell_type": "code",
      "source": [
        "print(s1.intersection(s2))"
      ],
      "metadata": {
        "colab": {
          "base_uri": "https://localhost:8080/"
        },
        "id": "DtKO_0tfelKg",
        "outputId": "18bc6a39-ffe9-49a1-8d75-2ec140e77b19"
      },
      "execution_count": null,
      "outputs": [
        {
          "output_type": "stream",
          "name": "stdout",
          "text": [
            "{'d'}\n"
          ]
        }
      ]
    },
    {
      "cell_type": "code",
      "source": [
        "s2.clear()\n",
        "print(s2)"
      ],
      "metadata": {
        "colab": {
          "base_uri": "https://localhost:8080/"
        },
        "id": "kBNHc5Rnem92",
        "outputId": "11d3f6fe-c228-4244-cb7c-1b2539348b10"
      },
      "execution_count": null,
      "outputs": [
        {
          "output_type": "stream",
          "name": "stdout",
          "text": [
            "set()\n"
          ]
        }
      ]
    },
    {
      "cell_type": "markdown",
      "source": [
        "**Dictionary**"
      ],
      "metadata": {
        "id": "6r5iApCOesqM"
      }
    },
    {
      "cell_type": "code",
      "source": [
        "#what is dictionary and how can we declare a dictionary?\n",
        "#dictionary is declared in {}\n",
        "#dictionary is defined as unordered, mutable and wont allows the duplicate data\n",
        "#How the data can be store in dictionary?\n",
        "# {key:value} pairs"
      ],
      "metadata": {
        "id": "Vv6Aw8p1et_W"
      },
      "execution_count": null,
      "outputs": []
    },
    {
      "cell_type": "markdown",
      "source": [
        "**dict wont allows the duplicate data**"
      ],
      "metadata": {
        "id": "pRLBcV8zeyBr"
      }
    },
    {
      "cell_type": "code",
      "source": [
        "d1 = {\n",
        "    'name':'MET',\n",
        "    'Course': 'DS/DA/GEN-AI',\n",
        "    'Duration':'4months',\n",
        "    'Course':'PYTHON',\n",
        "    'topics':['python','Numpy','pandas','seaborn','matplotlib','scikit-learn']\n",
        "}\n",
        "print(len(d1))\n",
        "print(d1)\n",
        "print(type(d1))"
      ],
      "metadata": {
        "colab": {
          "base_uri": "https://localhost:8080/"
        },
        "id": "BMnUUQ_lezRW",
        "outputId": "21ed7e4c-1e64-498a-9f27-9521750aea57"
      },
      "execution_count": null,
      "outputs": [
        {
          "output_type": "stream",
          "name": "stdout",
          "text": [
            "4\n",
            "{'name': 'MET', 'Course': 'PYTHON', 'Duration': '4months', 'topics': ['python', 'Numpy', 'pandas', 'seaborn', 'matplotlib', 'scikit-learn']}\n",
            "<class 'dict'>\n"
          ]
        }
      ]
    },
    {
      "cell_type": "markdown",
      "source": [
        "**dictionary is unordered -->key:value pairs doen't index position number**"
      ],
      "metadata": {
        "id": "XoogpH2ge5YT"
      }
    },
    {
      "cell_type": "code",
      "source": [
        "#How can we access the information or values from dictionary--> using the keys\n",
        "print(d1['topics'])"
      ],
      "metadata": {
        "colab": {
          "base_uri": "https://localhost:8080/"
        },
        "id": "trlcOuA3e63h",
        "outputId": "019bd114-131e-4c31-a342-a2bef29cac75"
      },
      "execution_count": null,
      "outputs": [
        {
          "output_type": "stream",
          "name": "stdout",
          "text": [
            "['python', 'Numpy', 'pandas', 'seaborn', 'matplotlib', 'scikit-learn']\n"
          ]
        }
      ]
    },
    {
      "cell_type": "code",
      "source": [
        "#access the multiple keys at a time\n",
        "print(d1['topics'],d1['name'])"
      ],
      "metadata": {
        "colab": {
          "base_uri": "https://localhost:8080/"
        },
        "id": "vFpqo3FueqJJ",
        "outputId": "e4805047-ac8a-48d5-f29e-5a0b565fab69"
      },
      "execution_count": null,
      "outputs": [
        {
          "output_type": "stream",
          "name": "stdout",
          "text": [
            "['python', 'Numpy', 'pandas', 'seaborn', 'matplotlib', 'scikit-learn'] MET\n"
          ]
        }
      ]
    },
    {
      "cell_type": "markdown",
      "source": [
        "**dictionary is mutable**"
      ],
      "metadata": {
        "id": "ASp6JzuZfCk0"
      }
    },
    {
      "cell_type": "code",
      "source": [
        "#replace the items from the dictionary\n",
        "d1 = {\n",
        "    'name':'MET',\n",
        "    'Course': 'DS/DA/GEN-AI',\n",
        "    'Duration':'4months',\n",
        "    'Course':'PYTHON',\n",
        "    'topics':['python','Numpy','pandas','seaborn','matplotlib','scikit-learn']\n",
        "}\n",
        "#replace the course as ds/da\n",
        "d1['Course']='ds/da'\n",
        "print(d1)"
      ],
      "metadata": {
        "colab": {
          "base_uri": "https://localhost:8080/"
        },
        "id": "MBlNXyM5fGP7",
        "outputId": "c799b41a-ffbc-415b-a21d-6a3842ac7ef8"
      },
      "execution_count": null,
      "outputs": [
        {
          "output_type": "stream",
          "name": "stdout",
          "text": [
            "{'name': 'MET', 'Course': 'ds/da', 'Duration': '4months', 'topics': ['python', 'Numpy', 'pandas', 'seaborn', 'matplotlib', 'scikit-learn']}\n"
          ]
        }
      ]
    },
    {
      "cell_type": "code",
      "source": [
        "#add the new key:value pairs in d1\n",
        "d1['address'] ='Hyderabad'\n",
        "print(d1)"
      ],
      "metadata": {
        "colab": {
          "base_uri": "https://localhost:8080/"
        },
        "id": "AbS9rw2VfJuk",
        "outputId": "e55ddc0b-d975-424d-8eea-6dcd3090ece9"
      },
      "execution_count": null,
      "outputs": [
        {
          "output_type": "stream",
          "name": "stdout",
          "text": [
            "{'name': 'MET', 'Course': 'ds/da', 'Duration': '4months', 'topics': ['python', 'Numpy', 'pandas', 'seaborn', 'matplotlib', 'scikit-learn'], 'address': 'Hyderabad'}\n"
          ]
        }
      ]
    },
    {
      "cell_type": "code",
      "source": [
        "d2 = {\n",
        "    'other_course':['jfs','pfs','cs']\n",
        "}\n",
        "#add the d2 in d1\n",
        "d1.update(d2)\n",
        "print(d1)"
      ],
      "metadata": {
        "colab": {
          "base_uri": "https://localhost:8080/"
        },
        "id": "TX9M4a_pfMUf",
        "outputId": "762d43a4-eac4-4a6d-ec51-229067a2a561"
      },
      "execution_count": null,
      "outputs": [
        {
          "output_type": "stream",
          "name": "stdout",
          "text": [
            "{'name': 'MET', 'Course': 'ds/da', 'Duration': '4months', 'topics': ['python', 'Numpy', 'pandas', 'seaborn', 'matplotlib', 'scikit-learn'], 'address': 'Hyderabad', 'other_course': ['jfs', 'pfs', 'cs']}\n"
          ]
        }
      ]
    },
    {
      "cell_type": "code",
      "source": [
        "#replace the scikit-learn with ML\n",
        "d1['topics'][-1] ='ML'\n",
        "print(d1)"
      ],
      "metadata": {
        "colab": {
          "base_uri": "https://localhost:8080/"
        },
        "id": "3P7o2lAefPfG",
        "outputId": "75b108a3-e315-44f3-cfa3-e0261e99e434"
      },
      "execution_count": null,
      "outputs": [
        {
          "output_type": "stream",
          "name": "stdout",
          "text": [
            "{'name': 'MET', 'Course': 'ds/da', 'Duration': '4months', 'topics': ['python', 'Numpy', 'pandas', 'seaborn', 'matplotlib', 'ML'], 'address': 'Hyderabad', 'other_course': ['jfs', 'pfs', 'cs']}\n"
          ]
        }
      ]
    },
    {
      "cell_type": "code",
      "source": [
        "#remove the items from dictionary\n",
        "#1.pop(key_name)\n",
        "d1.pop('other_course')\n",
        "print(d1)"
      ],
      "metadata": {
        "colab": {
          "base_uri": "https://localhost:8080/"
        },
        "id": "WHxOYtupfTED",
        "outputId": "d1f61048-ae2d-4bf8-84b9-be9c3e5aa685"
      },
      "execution_count": null,
      "outputs": [
        {
          "output_type": "stream",
          "name": "stdout",
          "text": [
            "{'name': 'MET', 'Course': 'ds/da', 'Duration': '4months', 'topics': ['python', 'Numpy', 'pandas', 'seaborn', 'matplotlib', 'ML'], 'address': 'Hyderabad'}\n"
          ]
        }
      ]
    },
    {
      "cell_type": "code",
      "source": [
        "#2.popitem():- default removes the last item and return the removed item\n",
        "d1.popitem()\n",
        "print(d1)"
      ],
      "metadata": {
        "colab": {
          "base_uri": "https://localhost:8080/"
        },
        "id": "Frx0GckzfWGT",
        "outputId": "b9555421-d52b-4bd1-8290-7c7c8b6afdd8"
      },
      "execution_count": null,
      "outputs": [
        {
          "output_type": "stream",
          "name": "stdout",
          "text": [
            "{'name': 'MET', 'Course': 'ds/da', 'Duration': '4months', 'topics': ['python', 'Numpy', 'pandas', 'seaborn', 'matplotlib', 'ML']}\n"
          ]
        }
      ]
    },
    {
      "cell_type": "code",
      "source": [
        "print(dir(d1))"
      ],
      "metadata": {
        "colab": {
          "base_uri": "https://localhost:8080/"
        },
        "id": "KQ9qdlLlfYoP",
        "outputId": "7168ef70-4446-4904-b07e-c52a14d7b4df"
      },
      "execution_count": null,
      "outputs": [
        {
          "output_type": "stream",
          "name": "stdout",
          "text": [
            "['__class__', '__class_getitem__', '__contains__', '__delattr__', '__delitem__', '__dir__', '__doc__', '__eq__', '__format__', '__ge__', '__getattribute__', '__getitem__', '__getstate__', '__gt__', '__hash__', '__init__', '__init_subclass__', '__ior__', '__iter__', '__le__', '__len__', '__lt__', '__ne__', '__new__', '__or__', '__reduce__', '__reduce_ex__', '__repr__', '__reversed__', '__ror__', '__setattr__', '__setitem__', '__sizeof__', '__str__', '__subclasshook__', 'clear', 'copy', 'fromkeys', 'get', 'items', 'keys', 'pop', 'popitem', 'setdefault', 'update', 'values']\n"
          ]
        }
      ]
    },
    {
      "cell_type": "code",
      "source": [
        "#3.clear()\n",
        "d1.clear()\n",
        "print(d1)"
      ],
      "metadata": {
        "colab": {
          "base_uri": "https://localhost:8080/"
        },
        "id": "L8xXfqX7fZvj",
        "outputId": "32b2352f-e7d9-40fe-94ba-31977a9000f2"
      },
      "execution_count": null,
      "outputs": [
        {
          "output_type": "stream",
          "name": "stdout",
          "text": [
            "{}\n"
          ]
        }
      ]
    },
    {
      "cell_type": "code",
      "source": [
        "#print only the keys\n",
        "print(d2.keys())"
      ],
      "metadata": {
        "colab": {
          "base_uri": "https://localhost:8080/"
        },
        "id": "gxxQnu07fcbs",
        "outputId": "b1a3e192-c7e1-470c-a8a8-7c0c84956ece"
      },
      "execution_count": null,
      "outputs": [
        {
          "output_type": "stream",
          "name": "stdout",
          "text": [
            "dict_keys(['other_course'])\n"
          ]
        }
      ]
    },
    {
      "cell_type": "code",
      "source": [
        "print(d2.values())"
      ],
      "metadata": {
        "colab": {
          "base_uri": "https://localhost:8080/"
        },
        "id": "2i-zYuC4fhf-",
        "outputId": "bdcc24ae-f08c-4f8d-8461-cd969b018a6b"
      },
      "execution_count": null,
      "outputs": [
        {
          "output_type": "stream",
          "name": "stdout",
          "text": [
            "dict_values([['jfs', 'pfs', 'cs']])\n"
          ]
        }
      ]
    },
    {
      "cell_type": "markdown",
      "source": [
        "#revision\n",
        "\n",
        "\n",
        "1. List-->[]-->ordered, mutable and allows the duplicates\n",
        "\n",
        "          a.adding methods-->append(), insert(), extend()\n",
        "          b.replace methods--> list[index_position_number] = 'element'name\n",
        "          c.remove methods--> pop(),remove(),clear(), del list[start:end]\n",
        "2. Tuple-->()--> ordered, immutable, and allows the duplicates\n",
        "3. set--> set()--> unordered, immutable, and won't allows duplicates\n",
        "          a.adding methods--> add(), update(), union()\n",
        "          b.remove methods--> pop(),remove(),discard(),clear()\n",
        "          c.replace methods--> No methods bcz it is unordered\n",
        "\n",
        "4. dictionary--> {}--> unordered, mutable, and wont allows duplicates\n",
        "\n",
        "         a.adding methods:- update(),  d1['new_key'] = 'value\n",
        "         b.replace methods:- d1['existing_key'] = 'value\n",
        "         c.remove methods:- pop(),popitem(), clear()"
      ],
      "metadata": {
        "id": "39775iLKfjTT"
      }
    },
    {
      "cell_type": "markdown",
      "source": [
        "**16-07-2025**"
      ],
      "metadata": {
        "id": "LMpipDbQfxx1"
      }
    },
    {
      "cell_type": "markdown",
      "source": [
        "**functions**"
      ],
      "metadata": {
        "id": "vUtuJNAIf0mT"
      }
    },
    {
      "cell_type": "code",
      "source": [
        "#what is a function?\n",
        "#function is a block of code which can be executed when you call it\n",
        "#How can we create function?\n",
        "#by using \"def\"\n",
        "#what is the main purpose of the function?\n",
        "#function is used to avoid the duplicate code"
      ],
      "metadata": {
        "id": "uHd_5lKvf3-8"
      },
      "execution_count": null,
      "outputs": []
    },
    {
      "cell_type": "code",
      "source": [
        "#create a basic function\n",
        "def f1():\n",
        "  print(\"hello world!\")\n",
        "#call the function\n",
        "f1()"
      ],
      "metadata": {
        "colab": {
          "base_uri": "https://localhost:8080/"
        },
        "id": "uHxamyGkf7Ey",
        "outputId": "a912d7c8-3fbd-4c1f-9317-a96d779e0b34"
      },
      "execution_count": null,
      "outputs": [
        {
          "output_type": "stream",
          "name": "stdout",
          "text": [
            "hello world!\n"
          ]
        }
      ]
    },
    {
      "cell_type": "code",
      "source": [
        "#what ia parameter?\n",
        "#when we define a function we create a variable which is known as parameter\n",
        "def f2(name):\n",
        "  print('hello',name)\n",
        "#what is argument?\n",
        "#whe we call function we pass some values which is known as arguments\n",
        "f2('medha')"
      ],
      "metadata": {
        "colab": {
          "base_uri": "https://localhost:8080/"
        },
        "id": "hz-6eb7df-WQ",
        "outputId": "68843cac-804d-43ad-9e5c-4923f9cf9ba1"
      },
      "execution_count": null,
      "outputs": [
        {
          "output_type": "stream",
          "name": "stdout",
          "text": [
            "hello medha\n"
          ]
        }
      ]
    },
    {
      "cell_type": "code",
      "source": [
        "#How many parameter and arguments can be pass in afunction?\n",
        "def details(name, age, gender, contact):\n",
        "  print(\"hello please check your details\", name, age, gender, contact)\n",
        "#call the function\n",
        "details('raji',21,'F',2013456987)\n",
        "#Note:- No of parameters == No of Arguments"
      ],
      "metadata": {
        "colab": {
          "base_uri": "https://localhost:8080/"
        },
        "id": "2kATmCLdgBLx",
        "outputId": "a28aef80-6f21-4029-848d-c08024da2918"
      },
      "execution_count": null,
      "outputs": [
        {
          "output_type": "stream",
          "name": "stdout",
          "text": [
            "hello please check your details raji 21 F 2013456987\n"
          ]
        }
      ]
    },
    {
      "cell_type": "code",
      "source": [
        "#create a function to check a number is even or odd\n",
        "def check_num(num):\n",
        "  if num%2==0:\n",
        "    print('even')\n",
        "  else:\n",
        "    print('odd')\n",
        "\n",
        "check_num(345623)"
      ],
      "metadata": {
        "colab": {
          "base_uri": "https://localhost:8080/"
        },
        "id": "8uFfkJV7gj69",
        "outputId": "f0f001db-3c62-405c-c125-5840b99cc871"
      },
      "execution_count": null,
      "outputs": [
        {
          "output_type": "stream",
          "name": "stdout",
          "text": [
            "odd\n"
          ]
        }
      ]
    },
    {
      "cell_type": "code",
      "source": [
        "l = [1,2,3,4,5,6,7,8,9,10]\n",
        "#create a function call 'total_of_nums' to print sum of numbers in the given list\n",
        "sum = 0\n",
        "for i in l:\n",
        "  sum = sum + i   # sum += i\n",
        "print(sum)"
      ],
      "metadata": {
        "colab": {
          "base_uri": "https://localhost:8080/"
        },
        "id": "POdL9cMSgm-N",
        "outputId": "fd194ed5-610d-4fc3-e4d7-d4a9366f4514"
      },
      "execution_count": null,
      "outputs": [
        {
          "output_type": "stream",
          "name": "stdout",
          "text": [
            "55\n"
          ]
        }
      ]
    },
    {
      "cell_type": "code",
      "source": [
        "def total_of_nums(l):\n",
        "  sum = 0\n",
        "  for i in l:\n",
        "    sum = sum + i   # sum += i\n",
        "  print(sum)\n",
        "\n",
        "total_of_nums([10,20,30,40,50])"
      ],
      "metadata": {
        "colab": {
          "base_uri": "https://localhost:8080/"
        },
        "id": "PRSPFf_9grHF",
        "outputId": "eb174241-66ac-42c8-a057-be3c01f064d8"
      },
      "execution_count": null,
      "outputs": [
        {
          "output_type": "stream",
          "name": "stdout",
          "text": [
            "150\n"
          ]
        }
      ]
    },
    {
      "cell_type": "code",
      "source": [
        "total_of_nums([1,2,3,4,5,6,7,8,9])"
      ],
      "metadata": {
        "colab": {
          "base_uri": "https://localhost:8080/"
        },
        "id": "sFoY8ZWUgsWh",
        "outputId": "570eedc8-66ee-42fb-b40a-7feb1879b1d9"
      },
      "execution_count": null,
      "outputs": [
        {
          "output_type": "stream",
          "name": "stdout",
          "text": [
            "45\n"
          ]
        }
      ]
    },
    {
      "cell_type": "code",
      "source": [
        "#Don't know how many parameters i need to pass but function has to print all the info\n",
        "def details(**name):\n",
        "  print(name)\n",
        "\n",
        "details(name='raji',age=21,gender=21,occupation='DS')"
      ],
      "metadata": {
        "colab": {
          "base_uri": "https://localhost:8080/"
        },
        "id": "rjKtLOKigxEG",
        "outputId": "8eec22ea-747a-4a43-a190-ade27cc251ea"
      },
      "execution_count": null,
      "outputs": [
        {
          "output_type": "stream",
          "name": "stdout",
          "text": [
            "{'name': 'raji', 'age': 21, 'gender': 21, 'occupation': 'DS'}\n"
          ]
        }
      ]
    },
    {
      "cell_type": "code",
      "source": [
        "#Don't know how many arguments need to pass my function has to accept it.\n",
        "def topics(*name):\n",
        "  print(name)\n",
        "topics('python','Np','Pandas','Mysql')"
      ],
      "metadata": {
        "colab": {
          "base_uri": "https://localhost:8080/"
        },
        "id": "BJVOi7Wyg4bN",
        "outputId": "d91f7277-5c03-4b23-f2c1-a977070e81d4"
      },
      "execution_count": null,
      "outputs": [
        {
          "output_type": "stream",
          "name": "stdout",
          "text": [
            "('python', 'Np', 'Pandas', 'Mysql')\n"
          ]
        }
      ]
    },
    {
      "cell_type": "code",
      "source": [
        "\"\"\" 1. ** -->KWARGS--> Keyword arbitrary arguments\n",
        "          --> when we don't know how many parameters need to pass we use the kwargs\n",
        "          --> The default data type for kwargs is dictionary\n",
        "    2. *--> ARGS--> ARbitrary arguments\n",
        "        --> when we dont know the number of arguments need to pass we use the ARGS\n",
        "        --> The default data type for the ARGS is Tuple   \"\"\""
      ],
      "metadata": {
        "id": "cV8Qqqktg6qE"
      },
      "execution_count": null,
      "outputs": []
    },
    {
      "cell_type": "code",
      "source": [
        "a = set([1,2,3,4,1,2,3,4,1,2,3,4])\n",
        "print(a)"
      ],
      "metadata": {
        "colab": {
          "base_uri": "https://localhost:8080/"
        },
        "id": "UB9Ky52gg9IM",
        "outputId": "ae7843bf-f6fd-4f28-c361-428024ef2d3c"
      },
      "execution_count": null,
      "outputs": [
        {
          "output_type": "stream",
          "name": "stdout",
          "text": [
            "{1, 2, 3, 4}\n"
          ]
        }
      ]
    },
    {
      "cell_type": "code",
      "source": [
        "#Create a function to print the sum of arguments\n",
        "def total_of_nums(*l):\n",
        "  sum = 0\n",
        "  for i in l:\n",
        "    sum = sum + i   # sum += i\n",
        "  print(sum)\n",
        "\n",
        "total_of_nums(20,30,50,60,70,10,200,345)"
      ],
      "metadata": {
        "colab": {
          "base_uri": "https://localhost:8080/"
        },
        "id": "HG-6Zy6KhAIR",
        "outputId": "038b2499-48c0-4ee2-c28d-5c3c85710f56"
      },
      "execution_count": null,
      "outputs": [
        {
          "output_type": "stream",
          "name": "stdout",
          "text": [
            "785\n"
          ]
        }
      ]
    },
    {
      "cell_type": "code",
      "source": [
        "#create a function where it can concatenate the words and form a sentence\n",
        "def concat(**words):\n",
        "  result = \"\"\n",
        "  for i in words.values():\n",
        "    result = result + i\n",
        "  print(result)\n",
        "concat(a=\"python \",b=\"is \",c='great')"
      ],
      "metadata": {
        "colab": {
          "base_uri": "https://localhost:8080/"
        },
        "id": "Sq7tVBb5hC4o",
        "outputId": "d5b0067e-d94b-4e49-ec67-82cae961081b"
      },
      "execution_count": null,
      "outputs": [
        {
          "output_type": "stream",
          "name": "stdout",
          "text": [
            "python is great\n"
          ]
        }
      ]
    },
    {
      "cell_type": "markdown",
      "source": [
        "return--> send back the values to the caller\n",
        "\n",
        "-->note:- when we use the return keyword instead of print call function with print statement"
      ],
      "metadata": {
        "id": "Tp8cGe_HhIEu"
      }
    },
    {
      "cell_type": "code",
      "source": [
        "def f1(a,b):\n",
        "  return (a+b)\n",
        "print(f1(2,3))"
      ],
      "metadata": {
        "colab": {
          "base_uri": "https://localhost:8080/"
        },
        "id": "TWfnJmRDhKtb",
        "outputId": "755d66bf-faaf-4c6f-bc8e-316b0b3531b6"
      },
      "execution_count": null,
      "outputs": [
        {
          "output_type": "stream",
          "name": "stdout",
          "text": [
            "5\n"
          ]
        }
      ]
    },
    {
      "cell_type": "markdown",
      "source": [
        "17-07-2025"
      ],
      "metadata": {
        "id": "_GXspDVShN2O"
      }
    },
    {
      "cell_type": "code",
      "source": [
        "#what is list comprehension?\n",
        "#LC offers smaller line of code where a new list can be created from the existing list.\n",
        "a = ['apple','banana','pineapple','orange','mango','watermealon']\n",
        "#write a program to print the fruits having letter 'e' and store it in a new list.\n",
        "new = []\n",
        "for i in a:\n",
        "  if 'e' in i:\n",
        "    new.append(i)\n",
        "print(new)"
      ],
      "metadata": {
        "colab": {
          "base_uri": "https://localhost:8080/"
        },
        "id": "QqkFgq6-hQYs",
        "outputId": "29a444ac-4589-4ff9-924c-26d93d725a16"
      },
      "execution_count": null,
      "outputs": [
        {
          "output_type": "stream",
          "name": "stdout",
          "text": [
            "['apple', 'pineapple', 'orange', 'watermealon']\n"
          ]
        }
      ]
    },
    {
      "cell_type": "code",
      "source": [
        "def check_fruit(a):\n",
        "  new = []\n",
        "  for i in a:\n",
        "    if 'e' in i:\n",
        "      new.append(i)\n",
        "  return new\n",
        "#call the function\n",
        "a = ['kiwi','apple','grapes','mango','pineapple']\n",
        "print(check_fruit(a))"
      ],
      "metadata": {
        "colab": {
          "base_uri": "https://localhost:8080/"
        },
        "id": "Z-dENbaDhVSz",
        "outputId": "b889b867-32f1-45e7-92c0-8cbd838cc3fe"
      },
      "execution_count": null,
      "outputs": [
        {
          "output_type": "stream",
          "name": "stdout",
          "text": [
            "['apple', 'grapes', 'pineapple']\n"
          ]
        }
      ]
    },
    {
      "cell_type": "code",
      "source": [
        "#syntax:- [item for item in collection <space> apply condition]\n",
        "a = ['apple','banana','pineapple','orange','mango','watermealon']\n",
        "new = [i for i in a if 'e' in i]\n",
        "print(new)"
      ],
      "metadata": {
        "colab": {
          "base_uri": "https://localhost:8080/"
        },
        "id": "WnJJrG5-hXpA",
        "outputId": "8334f684-6740-4ed7-fac5-24437e37dcdc"
      },
      "execution_count": null,
      "outputs": [
        {
          "output_type": "stream",
          "name": "stdout",
          "text": [
            "['apple', 'pineapple', 'orange', 'watermealon']\n"
          ]
        }
      ]
    },
    {
      "cell_type": "code",
      "source": [
        "#write program to print a range of even numbers from 1 to 40 and store it in a list\n",
        "new = []\n",
        "for i in range(1,41):\n",
        "  if i%2==0:\n",
        "    new.append(i)\n",
        "print(new)"
      ],
      "metadata": {
        "colab": {
          "base_uri": "https://localhost:8080/"
        },
        "id": "h5OMktEThaQO",
        "outputId": "69eecdb1-2184-4021-83e8-66a795f374f2"
      },
      "execution_count": null,
      "outputs": [
        {
          "output_type": "stream",
          "name": "stdout",
          "text": [
            "[2, 4, 6, 8, 10, 12, 14, 16, 18, 20, 22, 24, 26, 28, 30, 32, 34, 36, 38, 40]\n"
          ]
        }
      ]
    },
    {
      "cell_type": "code",
      "source": [
        "#create by using the LC\n",
        "new = [i for i in range(1,41) if i%2==0]\n",
        "print(new)"
      ],
      "metadata": {
        "colab": {
          "base_uri": "https://localhost:8080/"
        },
        "id": "BPUjKQfPhd6n",
        "outputId": "349128f6-0565-4bee-f317-d4ed0d157eb9"
      },
      "execution_count": null,
      "outputs": [
        {
          "output_type": "stream",
          "name": "stdout",
          "text": [
            "[2, 4, 6, 8, 10, 12, 14, 16, 18, 20, 22, 24, 26, 28, 30, 32, 34, 36, 38, 40]\n"
          ]
        }
      ]
    },
    {
      "cell_type": "code",
      "source": [
        "#write a program to convert all the items in a list to uppercase and store it in a new list\n",
        "l = ['apple','banana','pineapple','orange','mango','watermealon']\n",
        "n = []\n",
        "for i in l:\n",
        "  n.append(i.upper())\n",
        "print(n)"
      ],
      "metadata": {
        "colab": {
          "base_uri": "https://localhost:8080/"
        },
        "id": "Zvi9paPthiOq",
        "outputId": "451e3679-9457-4e5e-b7d1-3a585418e13a"
      },
      "execution_count": null,
      "outputs": [
        {
          "output_type": "stream",
          "name": "stdout",
          "text": [
            "['APPLE', 'BANANA', 'PINEAPPLE', 'ORANGE', 'MANGO', 'WATERMEALON']\n"
          ]
        }
      ]
    },
    {
      "cell_type": "code",
      "source": [
        "new = [i.upper() for i in l]\n",
        "print(new)"
      ],
      "metadata": {
        "colab": {
          "base_uri": "https://localhost:8080/"
        },
        "id": "Em814Kxnhkmv",
        "outputId": "f8bc3b7a-4c8a-4873-924d-2c00800ada98"
      },
      "execution_count": null,
      "outputs": [
        {
          "output_type": "stream",
          "name": "stdout",
          "text": [
            "['APPLE', 'BANANA', 'PINEAPPLE', 'ORANGE', 'MANGO', 'WATERMEALON']\n"
          ]
        }
      ]
    },
    {
      "cell_type": "code",
      "source": [
        "#write a program to print the sqrt of elements in below list and store it in a new list\n",
        "l = [2,4,9,18,25,40,36,72,81]\n",
        "new = [i**0.5 for i in l]\n",
        "print(new)"
      ],
      "metadata": {
        "colab": {
          "base_uri": "https://localhost:8080/"
        },
        "id": "3LyxFEJHhnX4",
        "outputId": "053cbc13-2816-404b-f6ee-bb1f91ec0bb3"
      },
      "execution_count": null,
      "outputs": [
        {
          "output_type": "stream",
          "name": "stdout",
          "text": [
            "[1.4142135623730951, 2.0, 3.0, 4.242640687119285, 5.0, 6.324555320336759, 6.0, 8.48528137423857, 9.0]\n"
          ]
        }
      ]
    },
    {
      "cell_type": "markdown",
      "source": [
        "**Lambda Function**"
      ],
      "metadata": {
        "id": "KpfB7IS8hp7U"
      }
    },
    {
      "cell_type": "code",
      "source": [
        "#what is lambda function?\n",
        "#lambda function is an anonymous function where it can take many arguments and single expression"
      ],
      "metadata": {
        "id": "QW6HPQrXhtzO"
      },
      "execution_count": null,
      "outputs": []
    },
    {
      "cell_type": "code",
      "source": [
        "def f1():\n",
        "  print(\"hello\")\n",
        "f1()"
      ],
      "metadata": {
        "colab": {
          "base_uri": "https://localhost:8080/"
        },
        "id": "WKySR7DyhxHb",
        "outputId": "2023679e-3120-4bc7-e79a-4a27e78369d3"
      },
      "execution_count": null,
      "outputs": [
        {
          "output_type": "stream",
          "name": "stdout",
          "text": [
            "hello\n"
          ]
        }
      ]
    },
    {
      "cell_type": "code",
      "source": [
        "#syntax:- lambda arguments: single expression\n",
        "#how can we call the lambda function\n",
        "#assign it to a variable\n",
        "a = lambda x,y: x+y\n",
        "print(a(10,5))"
      ],
      "metadata": {
        "colab": {
          "base_uri": "https://localhost:8080/"
        },
        "id": "DsEYVyb2hzqP",
        "outputId": "6a2621a5-3693-414f-8e82-f94e8a232779"
      },
      "execution_count": null,
      "outputs": [
        {
          "output_type": "stream",
          "name": "stdout",
          "text": [
            "15\n"
          ]
        }
      ]
    },
    {
      "cell_type": "code",
      "source": [
        "b = lambda x,y,z: (x+10,y+20,z+30)\n",
        "print(b(2,3,4))"
      ],
      "metadata": {
        "colab": {
          "base_uri": "https://localhost:8080/"
        },
        "id": "4IiZ8Yvxh2Qo",
        "outputId": "586ee76d-48c7-4d11-c6ac-cf5b0c8b90fa"
      },
      "execution_count": null,
      "outputs": [
        {
          "output_type": "stream",
          "name": "stdout",
          "text": [
            "(12, 23, 34)\n"
          ]
        }
      ]
    },
    {
      "cell_type": "code",
      "source": [
        "#Note:- functions are the first class objects-->a function can act like argument to the another function"
      ],
      "metadata": {
        "id": "Q1aem2_Ih4g6"
      },
      "execution_count": null,
      "outputs": []
    },
    {
      "cell_type": "code",
      "source": [
        "#when we need to use the lambda function?\n",
        "#when there is more arguments and single expression we can use the lambda function."
      ],
      "metadata": {
        "id": "pRF4S-tth6g3"
      },
      "execution_count": null,
      "outputs": []
    },
    {
      "cell_type": "code",
      "source": [
        "#cretae function where it can print the square, cube, fourtime and sqrt of the numbers\n",
        "def square(n):\n",
        "  return n**2\n",
        "def cube(n):\n",
        "  return n**3\n",
        "def four(n):\n",
        "  return n**4\n",
        "def sqrt(n):\n",
        "  return n**0.5\n",
        "\n",
        "print(square(5))\n",
        "print(cube(2))\n",
        "print(four(3))\n",
        "print(sqrt(36))"
      ],
      "metadata": {
        "id": "6SNeB3IYh8ro",
        "outputId": "eb8b6f51-cccb-4188-9420-9f4190c7d257",
        "colab": {
          "base_uri": "https://localhost:8080/"
        }
      },
      "execution_count": null,
      "outputs": [
        {
          "output_type": "stream",
          "name": "stdout",
          "text": [
            "25\n",
            "8\n",
            "81\n",
            "6.0\n"
          ]
        }
      ]
    },
    {
      "cell_type": "code",
      "source": [
        "def power(n):\n",
        "  return lambda a: a**n\n",
        "square = power(2)\n",
        "cube = power(3)\n",
        "four = power(4)\n",
        "sqrt = power(0.5)\n",
        "print(square(9))\n",
        "print(sqrt(25))\n",
        "print(cube(3))"
      ],
      "metadata": {
        "id": "1psCbtk5h_hI",
        "outputId": "e7cbfddf-b563-49ee-e613-d0c8b7c7597c",
        "colab": {
          "base_uri": "https://localhost:8080/"
        }
      },
      "execution_count": null,
      "outputs": [
        {
          "output_type": "stream",
          "name": "stdout",
          "text": [
            "81\n",
            "5.0\n",
            "27\n"
          ]
        }
      ]
    },
    {
      "cell_type": "markdown",
      "source": [
        "**21-07-2025**"
      ],
      "metadata": {
        "id": "s9O2_jSbuNFy"
      }
    },
    {
      "cell_type": "markdown",
      "source": [
        "**map and filter**"
      ],
      "metadata": {
        "id": "7-ikBgGlt0vd"
      }
    },
    {
      "cell_type": "markdown",
      "source": [
        "**map()**"
      ],
      "metadata": {
        "id": "S_mT38KOt34h"
      }
    },
    {
      "cell_type": "code",
      "source": [
        "#what is map()?\n",
        "#map() takes a function as an argument and run it over each element in the collections or iterables\n",
        "#syntax:-    map(function,cokkection_name)"
      ],
      "metadata": {
        "id": "OEJhCuFmv9cz"
      },
      "execution_count": null,
      "outputs": []
    },
    {
      "cell_type": "code",
      "source": [
        "fruits =['apple','banana','orange','pineapple','watermelon','kiwi']\n",
        "#print the length of each item from above list into a new list\n",
        "new = []\n",
        "for i in fruits:\n",
        "  new.append(len(i))\n",
        "print(new)"
      ],
      "metadata": {
        "colab": {
          "base_uri": "https://localhost:8080/"
        },
        "id": "M_wnkGbc-15R",
        "outputId": "1c97b4dc-0a41-4556-b4b0-5728f7ac8ed0"
      },
      "execution_count": null,
      "outputs": [
        {
          "output_type": "stream",
          "name": "stdout",
          "text": [
            "[5, 6, 6, 9, 10, 4]\n"
          ]
        }
      ]
    },
    {
      "cell_type": "code",
      "source": [
        "#by using the list comprehension:-\n",
        "new =[len(i)for i in fruits]\n",
        "print(new)"
      ],
      "metadata": {
        "colab": {
          "base_uri": "https://localhost:8080/"
        },
        "id": "qT3qF3iUAIZc",
        "outputId": "37177edc-1d7a-44ba-c882-82163c1ae6c8"
      },
      "execution_count": null,
      "outputs": [
        {
          "output_type": "stream",
          "name": "stdout",
          "text": [
            "[5, 6, 6, 9, 10, 4]\n"
          ]
        }
      ]
    },
    {
      "cell_type": "code",
      "source": [
        "#len():- used to  find the count of characters\n",
        "m1=map(len,fruits)\n",
        "print(m1)"
      ],
      "metadata": {
        "colab": {
          "base_uri": "https://localhost:8080/"
        },
        "id": "dAxb2CegBm7E",
        "outputId": "65acc34d-11d7-4595-a8a3-4827086c8659"
      },
      "execution_count": null,
      "outputs": [
        {
          "output_type": "stream",
          "name": "stdout",
          "text": [
            "<map object at 0x7913ac00cfa0>\n"
          ]
        }
      ]
    },
    {
      "cell_type": "code",
      "source": [
        "#when wwe use the map() we need to decide in what collection type we need to print the o/p:---> list,tuple,set\n",
        "m1= tuple(map(len,fruits))\n",
        "print(m1)"
      ],
      "metadata": {
        "colab": {
          "base_uri": "https://localhost:8080/"
        },
        "id": "uqYAjZTTCbCr",
        "outputId": "66008d62-3288-4ddb-9ea2-1961c3335590"
      },
      "execution_count": null,
      "outputs": [
        {
          "output_type": "stream",
          "name": "stdout",
          "text": [
            "(5, 6, 6, 9, 10, 4)\n"
          ]
        }
      ]
    },
    {
      "cell_type": "code",
      "source": [
        "l = [1,2,3,4,6,7,4,5,10,12,13,15,16,12,18,19,20]\n",
        "#check the even number from the above list of data if the number is even print number else print odd\n",
        "new = []\n",
        "for i in l:\n",
        "  if i%2==0:\n",
        "    new.append(i)\n",
        "  else:\n",
        "    new.append(\"odd\")\n",
        "print(new)"
      ],
      "metadata": {
        "colab": {
          "base_uri": "https://localhost:8080/"
        },
        "id": "F9WaRVUzDXTZ",
        "outputId": "50865353-b21b-4fd3-cb25-bdc0c001c629"
      },
      "execution_count": null,
      "outputs": [
        {
          "output_type": "stream",
          "name": "stdout",
          "text": [
            "['odd', 2, 'odd', 4, 6, 'odd', 4, 'odd', 10, 12, 'odd', 'odd', 16, 12, 18, 'odd', 20]\n"
          ]
        }
      ]
    },
    {
      "cell_type": "code",
      "source": [
        "def check_num(n):\n",
        "  if n%2==0:\n",
        "    return n\n",
        "  else:\n",
        "    return'odd'\n",
        "  print(check_num(13))"
      ],
      "metadata": {
        "id": "vd1-qZZeFMVc"
      },
      "execution_count": null,
      "outputs": []
    },
    {
      "cell_type": "code",
      "source": [
        "m2 = list(map(check_num,l))\n",
        "print(m2)\n",
        "#takes a function as a argument and run it over the each and every element we need not to use the loop here"
      ],
      "metadata": {
        "colab": {
          "base_uri": "https://localhost:8080/"
        },
        "id": "8qZs1V_7IQNe",
        "outputId": "82b24021-17a0-462d-c4e7-c61df1ff84fe"
      },
      "execution_count": null,
      "outputs": [
        {
          "output_type": "stream",
          "name": "stdout",
          "text": [
            "['odd', 2, 'odd', 4, 6, 'odd', 4, 'odd', 10, 12, 'odd', 'odd', 16, 12, 18, 'odd', 20]\n"
          ]
        }
      ]
    },
    {
      "cell_type": "code",
      "source": [
        "#when we need to use the map ()?\n",
        "#when there is more user inputs we use the map()\n",
        "user = input()\n",
        "print(user)\n",
        "print(type(user))"
      ],
      "metadata": {
        "colab": {
          "base_uri": "https://localhost:8080/"
        },
        "id": "dbNMKdMIJwI_",
        "outputId": "5f092718-0e99-425e-8114-62d5ae31b378"
      },
      "execution_count": null,
      "outputs": [
        {
          "output_type": "stream",
          "name": "stdout",
          "text": [
            "1 2 3 4 5 6 7 8 9\n",
            "1 2 3 4 5 6 7 8 9\n",
            "<class 'str'>\n"
          ]
        }
      ]
    },
    {
      "cell_type": "code",
      "source": [
        "user = input().split()\n",
        "print(user)\n",
        "print(type(user))"
      ],
      "metadata": {
        "colab": {
          "base_uri": "https://localhost:8080/"
        },
        "id": "Ut8eSoUWK9Tz",
        "outputId": "c5310c34-3ec5-44b9-d3fd-a3adf0bd740b"
      },
      "execution_count": null,
      "outputs": [
        {
          "output_type": "stream",
          "name": "stdout",
          "text": [
            "1 2 3 4 5 6 7 8 9\n",
            "['1', '2', '3', '4', '5', '6', '7', '8', '9']\n",
            "<class 'list'>\n"
          ]
        }
      ]
    },
    {
      "cell_type": "code",
      "source": [
        "#convert the list of str numbers in to int of list\n",
        "new =[]\n",
        "for i in user:\n",
        "  new.append(int(i))\n",
        "print(new)"
      ],
      "metadata": {
        "colab": {
          "base_uri": "https://localhost:8080/"
        },
        "id": "jErzSo30LkMP",
        "outputId": "de102242-f24c-4d35-d032-24383f9cf10b"
      },
      "execution_count": null,
      "outputs": [
        {
          "output_type": "stream",
          "name": "stdout",
          "text": [
            "[1, 2, 3, 4, 5, 6, 7, 8, 9]\n"
          ]
        }
      ]
    },
    {
      "cell_type": "code",
      "source": [
        "#int()\n",
        "m3 = list (map(int,user))\n",
        "print(m3)"
      ],
      "metadata": {
        "colab": {
          "base_uri": "https://localhost:8080/"
        },
        "id": "vzfkXs1uLyVb",
        "outputId": "863fcb4c-587f-4150-b5df-1453797e4f78"
      },
      "execution_count": null,
      "outputs": [
        {
          "output_type": "stream",
          "name": "stdout",
          "text": [
            "[1, 2, 3, 4, 5, 6, 7, 8, 9]\n"
          ]
        }
      ]
    },
    {
      "cell_type": "code",
      "source": [
        "m4 = list (map(complex,user))\n",
        "print(m4)"
      ],
      "metadata": {
        "colab": {
          "base_uri": "https://localhost:8080/"
        },
        "id": "tPDmFo5kMO_T",
        "outputId": "3736f594-86e1-45fc-de24-f7879646209e"
      },
      "execution_count": null,
      "outputs": [
        {
          "output_type": "stream",
          "name": "stdout",
          "text": [
            "[(1+0j), (2+0j), (3+0j), (4+0j), (5+0j), (6+0j), (7+0j), (8+0j), (9+0j)]\n"
          ]
        }
      ]
    },
    {
      "cell_type": "code",
      "source": [
        "l =[1,2,3,4,5,6]\n",
        "#print the multiples of 2 into  a new list\n",
        "lc =[i*2 for i in l]\n",
        "print(lc)"
      ],
      "metadata": {
        "colab": {
          "base_uri": "https://localhost:8080/"
        },
        "id": "GXTn6GK9NXT-",
        "outputId": "27345f03-e59e-4b81-db87-c9591bc571d9"
      },
      "execution_count": null,
      "outputs": [
        {
          "output_type": "stream",
          "name": "stdout",
          "text": [
            "[2, 4, 6, 8, 10, 12]\n"
          ]
        }
      ]
    },
    {
      "cell_type": "code",
      "source": [
        " #using the lambda() inside the map\n",
        " m5 = list(map(lambda a:a*2,l))\n",
        " print(m5)"
      ],
      "metadata": {
        "colab": {
          "base_uri": "https://localhost:8080/"
        },
        "id": "lUk-awxEPF2F",
        "outputId": "b3bc8a12-6a36-4129-f703-01a8f04b8ca2"
      },
      "execution_count": null,
      "outputs": [
        {
          "output_type": "stream",
          "name": "stdout",
          "text": [
            "[2, 4, 6, 8, 10, 12]\n"
          ]
        }
      ]
    },
    {
      "cell_type": "markdown",
      "source": [
        "**filter()**"
      ],
      "metadata": {
        "id": "3da6p-1PPV_2"
      }
    },
    {
      "cell_type": "code",
      "source": [
        "#what is filter()?\n",
        "#filter() also  takes function as an argument and run it over every element in the iterables\n",
        "#filter() prints o/p where the condition is true\n",
        "#syntax:--> filter(function,iterable)"
      ],
      "metadata": {
        "id": "6hlD-i8iPZQw"
      },
      "execution_count": null,
      "outputs": []
    },
    {
      "cell_type": "code",
      "source": [
        "age =[16,20,15,17,18,22,25,21,12,26,16]\n",
        "#write a program to print age group who are eligible for voting---->age >=18\n",
        "def age_check(n):\n",
        "  if n>=18:\n",
        "    return n\n",
        "  else:\n",
        "    return \"not eligible\"\n",
        "print(age_check(15))"
      ],
      "metadata": {
        "colab": {
          "base_uri": "https://localhost:8080/"
        },
        "id": "Ri9J7JAygL-c",
        "outputId": "e9016d38-0e3c-4265-fc7b-dfb047550718"
      },
      "execution_count": null,
      "outputs": [
        {
          "output_type": "stream",
          "name": "stdout",
          "text": [
            "not eligible\n"
          ]
        }
      ]
    },
    {
      "cell_type": "code",
      "source": [
        "m6 = list(map(age_check,age))\n",
        "print(m6)"
      ],
      "metadata": {
        "colab": {
          "base_uri": "https://localhost:8080/"
        },
        "id": "BWEAC665gcu-",
        "outputId": "d39558b3-caa3-4418-d796-608027f7c89a"
      },
      "execution_count": null,
      "outputs": [
        {
          "output_type": "stream",
          "name": "stdout",
          "text": [
            "['not eligible', 20, 'not eligible', 'not eligible', 18, 22, 25, 21, 'not eligible', 26, 'not eligible']\n"
          ]
        }
      ]
    },
    {
      "cell_type": "code",
      "source": [
        "def age_check(n):\n",
        "  if n>=18:\n",
        "    return n\n",
        "f = list(filter(age_check,age))\n",
        "print(f)\n"
      ],
      "metadata": {
        "colab": {
          "base_uri": "https://localhost:8080/"
        },
        "id": "X2oC85zngnzT",
        "outputId": "f2968517-4bf0-499c-adba-dfd275b58cad"
      },
      "execution_count": null,
      "outputs": [
        {
          "output_type": "stream",
          "name": "stdout",
          "text": [
            "[20, 18, 22, 25, 21, 26]\n"
          ]
        }
      ]
    },
    {
      "cell_type": "code",
      "source": [
        "lc =[i for i in age if i>=18]\n",
        "print(lc)"
      ],
      "metadata": {
        "colab": {
          "base_uri": "https://localhost:8080/"
        },
        "id": "YRhSyq7FhUKE",
        "outputId": "630ed8ba-8e7b-4e82-8ea7-1c13cb57d0b8"
      },
      "execution_count": null,
      "outputs": [
        {
          "output_type": "stream",
          "name": "stdout",
          "text": [
            "[20, 18, 22, 25, 21, 26]\n"
          ]
        }
      ]
    },
    {
      "cell_type": "code",
      "source": [
        "f2 =list(filter(lambda a:a>=18,age))\n",
        "print(f2)"
      ],
      "metadata": {
        "colab": {
          "base_uri": "https://localhost:8080/"
        },
        "id": "7admIav5heA7",
        "outputId": "3db5f367-24a6-4c08-bfc6-c45c7c0ecd69"
      },
      "execution_count": null,
      "outputs": [
        {
          "output_type": "stream",
          "name": "stdout",
          "text": [
            "[20, 18, 22, 25, 21, 26]\n"
          ]
        }
      ]
    },
    {
      "cell_type": "markdown",
      "source": [],
      "metadata": {
        "id": "ajPqsFoNv6Yd"
      }
    }
  ],
  "metadata": {
    "colab": {
      "provenance": [],
      "authorship_tag": "ABX9TyOSIocc7WZLNPvghgiGeTpE",
      "include_colab_link": true
    },
    "kernelspec": {
      "display_name": "Python 3",
      "name": "python3"
    },
    "language_info": {
      "name": "python"
    }
  },
  "nbformat": 4,
  "nbformat_minor": 0
}