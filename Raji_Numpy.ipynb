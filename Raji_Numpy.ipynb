{
  "cells": [
    {
      "cell_type": "markdown",
      "metadata": {
        "id": "view-in-github",
        "colab_type": "text"
      },
      "source": [
        "<a href=\"https://colab.research.google.com/github/guddlaraji/files/blob/main/Raji_Numpy.ipynb\" target=\"_parent\"><img src=\"https://colab.research.google.com/assets/colab-badge.svg\" alt=\"Open In Colab\"/></a>"
      ]
    },
    {
      "cell_type": "markdown",
      "metadata": {
        "id": "iwFyyBiwH-Li"
      },
      "source": [
        "**30-07-2025**"
      ]
    },
    {
      "cell_type": "markdown",
      "metadata": {
        "id": "SshCWg0NIEWH"
      },
      "source": [
        "**Introduction to Numpy**"
      ]
    },
    {
      "cell_type": "code",
      "execution_count": null,
      "metadata": {
        "id": "V7RiBIfcIFq2"
      },
      "outputs": [],
      "source": [
        "#what is Numpy?\n",
        "#it is a core library for scientific computing in python\n",
        "#The central object in Numpy is \"Numpy Array's\n",
        "#what is Numpy Array?\n",
        "#High performence multidimensionalobjects which is designed specially for mathematical operations"
      ]
    },
    {
      "cell_type": "code",
      "execution_count": null,
      "metadata": {
        "id": "Pg06-tYIH_Tm"
      },
      "outputs": [],
      "source": [
        "#How many types of array's?\n",
        "#three types\n",
        "#1D-Array:-An array with specific rows (axis =0) and No column\n",
        "#2D-Array:-An array with both rows and columns is know 2D array\n",
        "#3D-Array:- Multidimensional array's"
      ]
    },
    {
      "cell_type": "code",
      "execution_count": null,
      "metadata": {
        "id": "wGfo-kmmINDe"
      },
      "outputs": [],
      "source": [
        "#what are all use cases and mathematical operations acheived by using Numpy?\n",
        "\"\"\"\n",
        "1.Dot product / Inner product\n",
        "2.Matrix multiplication\n",
        "3.solving the linear systems\n",
        "4.inverse\n",
        "5.determinent\n",
        "6.element wise matrix multiplication\n",
        "7.choose the random numbers\n",
        "8.statistics   \"\"\""
      ]
    },
    {
      "cell_type": "markdown",
      "metadata": {
        "id": "2xFJOFogITfV"
      },
      "source": [
        "**installation of Numpy**"
      ]
    },
    {
      "cell_type": "code",
      "execution_count": null,
      "metadata": {
        "colab": {
          "base_uri": "https://localhost:8080/"
        },
        "id": "QVVysRSPIU-w",
        "outputId": "96e658b7-97a8-4a17-fd20-796e9715165d"
      },
      "outputs": [
        {
          "name": "stdout",
          "output_type": "stream",
          "text": [
            "Requirement already satisfied: numpy in /usr/local/lib/python3.11/dist-packages (2.0.2)\n"
          ]
        }
      ],
      "source": [
        "! pip install numpy"
      ]
    },
    {
      "cell_type": "code",
      "execution_count": null,
      "metadata": {
        "id": "XQR95-erIQLw"
      },
      "outputs": [],
      "source": [
        "#import the library\n",
        "import numpy as np"
      ]
    },
    {
      "cell_type": "code",
      "execution_count": null,
      "metadata": {
        "colab": {
          "base_uri": "https://localhost:8080/",
          "height": 36
        },
        "id": "V30b2TvKIh7a",
        "outputId": "f9bd95b5-caf2-4e8c-b85e-f153f7c174d3"
      },
      "outputs": [
        {
          "data": {
            "application/vnd.google.colaboratory.intrinsic+json": {
              "type": "string"
            },
            "text/plain": [
              "'2.0.2'"
            ]
          },
          "execution_count": 3,
          "metadata": {},
          "output_type": "execute_result"
        }
      ],
      "source": [
        "#check the version of numpy\n",
        "np.__version__"
      ]
    },
    {
      "cell_type": "markdown",
      "metadata": {
        "id": "6GvsCQpgIosf"
      },
      "source": [
        "**The central object in numpy is Numpy Array'**"
      ]
    },
    {
      "cell_type": "code",
      "execution_count": null,
      "metadata": {
        "colab": {
          "base_uri": "https://localhost:8080/"
        },
        "id": "88QLy37lIqFQ",
        "outputId": "7eea8b76-1e58-46c1-aec1-4aae81d775ec"
      },
      "outputs": [
        {
          "name": "stdout",
          "output_type": "stream",
          "text": [
            "[1 2 3 4 5]\n"
          ]
        },
        {
          "data": {
            "text/plain": [
              "dtype('int64')"
            ]
          },
          "execution_count": 4,
          "metadata": {},
          "output_type": "execute_result"
        }
      ],
      "source": [
        "#how can we create an array?\n",
        "#array's can be created from existing data\n",
        "a = np.array([1,2,3,4,5])\n",
        "print(a)\n",
        "#check the spae of above array \"a\"\n",
        "a.shape\n",
        "#find the dimension of the above array\n",
        "a.ndim\n",
        "#find the number of elements in above array\n",
        "a.size\n",
        "#find the size in bytes occupied by each element in above array \"a\"\n",
        "a.itemsize\n",
        "#find the data type of elements in above array\n",
        "a.dtype"
      ]
    },
    {
      "cell_type": "markdown",
      "metadata": {
        "id": "Hy6xJKKfI0VT"
      },
      "source": [
        "**Essential methods in Numpy**"
      ]
    },
    {
      "cell_type": "code",
      "execution_count": null,
      "metadata": {
        "colab": {
          "base_uri": "https://localhost:8080/"
        },
        "id": "Ur_dldZoI1_f",
        "outputId": "e7dd9aba-215b-4c14-e5d8-f17bc1060534"
      },
      "outputs": [
        {
          "name": "stdout",
          "output_type": "stream",
          "text": [
            "2\n",
            "[3 2 1]\n"
          ]
        }
      ],
      "source": [
        "#access the element in the array\n",
        "b = np.array([1,2,3])\n",
        "#print the 2 from above array\n",
        "print(b[1])\n",
        "#reverse the entire array\n",
        "print(b[::-1])"
      ]
    },
    {
      "cell_type": "code",
      "execution_count": null,
      "metadata": {
        "colab": {
          "base_uri": "https://localhost:8080/"
        },
        "id": "yRDDyBYPIjgN",
        "outputId": "2996ec3e-2376-4ef5-93fc-c0c2b81f1f8d"
      },
      "outputs": [
        {
          "name": "stdout",
          "output_type": "stream",
          "text": [
            "[1 2 5]\n"
          ]
        }
      ],
      "source": [
        "#above array replace the \"3\" with \"5\"\n",
        "b[2] = 5\n",
        "print(b)"
      ]
    },
    {
      "cell_type": "code",
      "execution_count": null,
      "metadata": {
        "id": "hZLNaJbII-xV"
      },
      "outputs": [],
      "source": [
        "#array--> ordered, immutable and allows the duplicates"
      ]
    },
    {
      "cell_type": "markdown",
      "metadata": {
        "id": "n67yctCPJCU7"
      },
      "source": [
        "**element wise maths operation**"
      ]
    },
    {
      "cell_type": "code",
      "execution_count": null,
      "metadata": {
        "colab": {
          "base_uri": "https://localhost:8080/"
        },
        "id": "xX1ZOp69JEkK",
        "outputId": "d0b18460-e15c-4049-9ae4-a5bcce5d3d32"
      },
      "outputs": [
        {
          "name": "stdout",
          "output_type": "stream",
          "text": [
            "[3 2 8]\n"
          ]
        }
      ],
      "source": [
        "c = np.array([2,0,3])\n",
        "print(b+c)\n",
        "#Note:- when applying the arthematic operation on two array's. The array's has to be in same length or size\n",
        "#what is vector addition?\n",
        "#when we apply addition on array's of same length or size we call it as a vector addition"
      ]
    },
    {
      "cell_type": "code",
      "execution_count": null,
      "metadata": {
        "colab": {
          "base_uri": "https://localhost:8080/"
        },
        "id": "tgt36yrxI_dK",
        "outputId": "4675ee3e-007d-41ab-e533-17a4de2f3050"
      },
      "outputs": [
        {
          "name": "stdout",
          "output_type": "stream",
          "text": [
            "18\n",
            "5\n",
            "7\n"
          ]
        }
      ],
      "source": [
        "d = np.array([5,6,7])\n",
        "#find the sum of elements of above array\n",
        "print(d.sum())\n",
        "#find the minimum element from above array\n",
        "print(d.min())\n",
        "#i want to know maximum element from above array\n",
        "print(d.max())"
      ]
    },
    {
      "cell_type": "markdown",
      "metadata": {
        "id": "_lu0toqGJO3r"
      },
      "source": [
        "**Array's Vs List**"
      ]
    },
    {
      "cell_type": "code",
      "execution_count": null,
      "metadata": {
        "colab": {
          "base_uri": "https://localhost:8080/"
        },
        "id": "T2MT5HBiJQzK",
        "outputId": "82b31019-79d1-40ae-d174-eeaffc02e1f5"
      },
      "outputs": [
        {
          "name": "stdout",
          "output_type": "stream",
          "text": [
            "[1, 2, 3, 4]\n"
          ]
        }
      ],
      "source": [
        "l = [1,2,3]\n",
        "#create an array from the above list\n",
        "e = np.array(l)\n",
        "#add the 4 in to above list\n",
        "l.append(4)\n",
        "print(l)"
      ]
    },
    {
      "cell_type": "code",
      "execution_count": null,
      "metadata": {
        "id": "HPmZfvPeJVgK"
      },
      "outputs": [],
      "source": [
        "#add the new item to the array d\n",
        "e.append(4)\n",
        "print(e)\n",
        "#we cannot add and remove the items from the array"
      ]
    },
    {
      "cell_type": "code",
      "execution_count": null,
      "metadata": {
        "colab": {
          "base_uri": "https://localhost:8080/"
        },
        "id": "QBc-THAZJaJZ",
        "outputId": "0cac38e4-1c58-4d1c-8255-33ac7cbb9ad3"
      },
      "outputs": [
        {
          "name": "stdout",
          "output_type": "stream",
          "text": [
            "[7 8 9]\n"
          ]
        }
      ],
      "source": [
        "#How can we add the items into array?\n",
        "#by creating the \"New array\"\n",
        "a1 = e + np.array([6])\n",
        "print(a1)\n",
        "\"\"\"when we add a single element array to the existing array with different size, the new array\n",
        "element is going to add with each element in the existing array this is known as\n",
        "Broadcasting method\"\"\""
      ]
    },
    {
      "cell_type": "code",
      "execution_count": null,
      "metadata": {
        "colab": {
          "base_uri": "https://localhost:8080/"
        },
        "id": "e03piRZ_Jpll",
        "outputId": "415a0db7-9450-4325-bc37-983d314b09d8"
      },
      "outputs": [
        {
          "name": "stdout",
          "output_type": "stream",
          "text": [
            "[1 2 3 4 5 1 2 3 4 5]\n"
          ]
        }
      ],
      "source": [
        "arr1 = np.array([1,2,3,4,5])\n",
        "arr2 = np.array([1,2,3,4,5])\n",
        "arr3 = np.append(arr1,arr2)\n",
        "print(arr3)"
      ]
    },
    {
      "cell_type": "code",
      "execution_count": null,
      "metadata": {
        "colab": {
          "base_uri": "https://localhost:8080/"
        },
        "id": "SqZGtZNzJu2y",
        "outputId": "c5d256cc-cdb4-46de-ddf9-6a0f1e000d6a"
      },
      "outputs": [
        {
          "name": "stdout",
          "output_type": "stream",
          "text": [
            "[1.         1.41421356 1.73205081 2.         2.23606798]\n"
          ]
        }
      ],
      "source": [
        "#find the sqrt of each element in above arr1\n",
        "print(np.sqrt(arr1))"
      ]
    },
    {
      "cell_type": "markdown",
      "metadata": {
        "id": "llRagL_HJyE5"
      },
      "source": [
        "**Dot Product**"
      ]
    },
    {
      "cell_type": "code",
      "execution_count": null,
      "metadata": {
        "colab": {
          "base_uri": "https://localhost:8080/"
        },
        "id": "FxzUBam2Jzhf",
        "outputId": "78cb1f66-edec-429c-e088-05aa8824db2a"
      },
      "outputs": [
        {
          "name": "stdout",
          "output_type": "stream",
          "text": [
            "11\n"
          ]
        }
      ],
      "source": [
        "a = np.array([1,2])\n",
        "b = np.array([3,4])\n",
        "dot = 0\n",
        "for i in range(len(a)):\n",
        "  dot += a[i]*b[i]\n",
        "print(dot)"
      ]
    },
    {
      "cell_type": "code",
      "execution_count": null,
      "metadata": {
        "id": "idvU2336J29A"
      },
      "outputs": [],
      "source": [
        "#define Dot product?\n",
        "#vector multiplication of array's and sum of elements of result\n",
        "#multiply each corresponding element and do the sum\n",
        "#Note:- when we apply the dot product the array's must be in same size and same dimension"
      ]
    },
    {
      "cell_type": "code",
      "execution_count": null,
      "metadata": {
        "colab": {
          "base_uri": "https://localhost:8080/"
        },
        "id": "iBFeVJRSJ5dZ",
        "outputId": "02f6cfca-80d2-4207-9379-439b7cfbab6e"
      },
      "outputs": [
        {
          "name": "stdout",
          "output_type": "stream",
          "text": [
            "11\n"
          ]
        }
      ],
      "source": [
        "#easy with numpy\n",
        "dot = np.dot(a,b)\n",
        "print(dot)"
      ]
    },
    {
      "cell_type": "code",
      "execution_count": null,
      "metadata": {
        "colab": {
          "base_uri": "https://localhost:8080/"
        },
        "id": "BrZr_yTsJ8iy",
        "outputId": "8a1c03f9-e224-4339-8343-7f2b9b9c8986"
      },
      "outputs": [
        {
          "name": "stdout",
          "output_type": "stream",
          "text": [
            "[3 8]\n",
            "11\n"
          ]
        }
      ],
      "source": [
        "#manual method\n",
        "c = a*b\n",
        "print(c)\n",
        "d = np.sum(c)\n",
        "print(d)"
      ]
    },
    {
      "cell_type": "code",
      "execution_count": null,
      "metadata": {
        "colab": {
          "base_uri": "https://localhost:8080/"
        },
        "id": "7LL9nSHNJ_oQ",
        "outputId": "248de9b6-5a57-4962-a914-0c3372cd2a84"
      },
      "outputs": [
        {
          "name": "stdout",
          "output_type": "stream",
          "text": [
            "11\n"
          ]
        }
      ],
      "source": [
        "e = a.dot(b)\n",
        "print(e)"
      ]
    },
    {
      "cell_type": "code",
      "execution_count": null,
      "metadata": {
        "colab": {
          "base_uri": "https://localhost:8080/"
        },
        "id": "i_4PQ_ARKCkS",
        "outputId": "2dce876a-3668-443b-a5e6-686affccc98d"
      },
      "outputs": [
        {
          "name": "stdout",
          "output_type": "stream",
          "text": [
            "11\n"
          ]
        }
      ],
      "source": [
        "f = a@b\n",
        "print(f)"
      ]
    },
    {
      "cell_type": "markdown",
      "metadata": {
        "id": "pU675UBJ3g1X"
      },
      "source": [
        "**31-07-2025**"
      ]
    },
    {
      "cell_type": "code",
      "execution_count": null,
      "metadata": {
        "id": "_wrGCnIObqiK"
      },
      "outputs": [],
      "source": [
        "import numpy as np"
      ]
    },
    {
      "cell_type": "code",
      "execution_count": null,
      "metadata": {
        "colab": {
          "base_uri": "https://localhost:8080/"
        },
        "id": "G7hjYRKZ3paW",
        "outputId": "d670aa6c-efd7-4715-b8c7-8339649e8f38"
      },
      "outputs": [
        {
          "output_type": "stream",
          "name": "stdout",
          "text": [
            "<class 'numpy.ndarray'>\n",
            "{1, 2, 3, 4, 5}\n"
          ]
        }
      ],
      "source": [
        "#create an array from\n",
        "s1 = {1,2,3,4,5}\n",
        "a = np.array(s1)\n",
        "print(type(a))\n",
        "print(a)"
      ]
    },
    {
      "cell_type": "code",
      "execution_count": null,
      "metadata": {
        "colab": {
          "base_uri": "https://localhost:8080/"
        },
        "id": "WOSgEW7P3rsW",
        "outputId": "b159d779-946f-494e-f0e8-f32e1982688c"
      },
      "outputs": [
        {
          "output_type": "stream",
          "name": "stdout",
          "text": [
            "[1 2 3 4 5]\n"
          ]
        }
      ],
      "source": [
        "t1 = (1,2,3,4,5)\n",
        "b = np.array(t1)\n",
        "print(b)"
      ]
    },
    {
      "cell_type": "markdown",
      "metadata": {
        "id": "yUtht1sE3zRB"
      },
      "source": [
        "**2D-Array**"
      ]
    },
    {
      "cell_type": "code",
      "execution_count": null,
      "metadata": {
        "colab": {
          "base_uri": "https://localhost:8080/"
        },
        "id": "souIxBf_30xP",
        "outputId": "7b03395c-ab98-4fd9-96ab-0810d8e093bd"
      },
      "outputs": [
        {
          "output_type": "stream",
          "name": "stdout",
          "text": [
            "[[1 2 3]\n",
            " [4 5 6]]\n",
            "(2, 3)\n",
            "2\n",
            "6\n",
            "int64\n",
            "8\n"
          ]
        }
      ],
      "source": [
        "a = np.array([[1,2,3],[4,5,6]])\n",
        "print(a)\n",
        "#find the no of rows and columns\n",
        "print(a.shape)\n",
        "#find the dimensionality of an array\n",
        "print(a.ndim)\n",
        "#find the total elements in the array\n",
        "print(a.size)\n",
        "#find the element data types in the array\n",
        "print(a.dtype)\n",
        "print(a.itemsize)"
      ]
    },
    {
      "cell_type": "code",
      "source": [
        "a = np.array([[1,2,3],[4,5,6]])\n",
        "print(a)"
      ],
      "metadata": {
        "colab": {
          "base_uri": "https://localhost:8080/"
        },
        "id": "_m3jcZdshRhn",
        "outputId": "f90f952b-e48b-44c7-c2f7-836d65ad88ae"
      },
      "execution_count": null,
      "outputs": [
        {
          "output_type": "stream",
          "name": "stdout",
          "text": [
            "[[1 2 3]\n",
            " [4 5 6]]\n"
          ]
        }
      ]
    },
    {
      "cell_type": "code",
      "source": [
        "#How can we access the elements from array\n",
        "#print the entire 1st row\n",
        "#syntax:-   array[row_index,col_index]\n",
        "print(a[0])\n",
        "print(a[1])\n",
        "print(a[1,1])\n",
        "print(a[0,2])"
      ],
      "metadata": {
        "colab": {
          "base_uri": "https://localhost:8080/"
        },
        "id": "FUHCIrf6hjyX",
        "outputId": "39d6e78e-9162-44ca-b762-0717d94974d0"
      },
      "execution_count": null,
      "outputs": [
        {
          "output_type": "stream",
          "name": "stdout",
          "text": [
            "[1 2 3]\n",
            "[4 5 6]\n",
            "5\n",
            "3\n"
          ]
        }
      ]
    },
    {
      "cell_type": "code",
      "source": [
        "a = np.array([[1,2,3,4],[5,6,7,8],[9,10,11,12]])\n",
        "print(a)"
      ],
      "metadata": {
        "colab": {
          "base_uri": "https://localhost:8080/"
        },
        "id": "KzfFP_aNiF6z",
        "outputId": "f43f5272-e85b-4975-9d0d-cf595352eebd"
      },
      "execution_count": null,
      "outputs": [
        {
          "output_type": "stream",
          "name": "stdout",
          "text": [
            "[[ 1  2  3  4]\n",
            " [ 5  6  7  8]\n",
            " [ 9 10 11 12]]\n"
          ]
        }
      ]
    },
    {
      "cell_type": "code",
      "source": [
        "#print the values of 1st column in above array\n",
        "print(a[:,0])\n",
        "#print the 3rd column values\n",
        "print(a[:,2])"
      ],
      "metadata": {
        "colab": {
          "base_uri": "https://localhost:8080/"
        },
        "id": "54ugcBpRiOsl",
        "outputId": "1bbabfe2-ba71-4801-b64f-84fa71eea483"
      },
      "execution_count": null,
      "outputs": [
        {
          "output_type": "stream",
          "name": "stdout",
          "text": [
            "[1 5 9]\n",
            "[ 3  7 11]\n"
          ]
        }
      ]
    },
    {
      "cell_type": "code",
      "source": [
        "#access only 10 11 12\n",
        "print(a[2,1:4])\n",
        "#print only 8 and 12\n",
        "print(a[1:3,3])"
      ],
      "metadata": {
        "colab": {
          "base_uri": "https://localhost:8080/"
        },
        "id": "KLHx3Qrqkclh",
        "outputId": "d970ded1-4464-48f2-de8c-09e8e60aab30"
      },
      "execution_count": null,
      "outputs": [
        {
          "output_type": "stream",
          "name": "stdout",
          "text": [
            "[10 11 12]\n",
            "[ 8 12]\n"
          ]
        }
      ]
    },
    {
      "cell_type": "code",
      "source": [
        "#print only 2 and 6\n",
        "print(a[0:2,1])"
      ],
      "metadata": {
        "colab": {
          "base_uri": "https://localhost:8080/"
        },
        "id": "FtBDRLyWkgKr",
        "outputId": "1bd7d75f-1146-4518-dba5-38fe02cd649f"
      },
      "execution_count": null,
      "outputs": [
        {
          "output_type": "stream",
          "name": "stdout",
          "text": [
            "[2 6]\n"
          ]
        }
      ]
    },
    {
      "cell_type": "code",
      "source": [
        "b = a[:,0]\n",
        "for i in b:\n",
        "  print(i)"
      ],
      "metadata": {
        "colab": {
          "base_uri": "https://localhost:8080/"
        },
        "id": "uM3GlKdwknZc",
        "outputId": "00f88bab-abd9-4629-bb13-4a0dd39a2454"
      },
      "execution_count": null,
      "outputs": [
        {
          "output_type": "stream",
          "name": "stdout",
          "text": [
            "1\n",
            "5\n",
            "9\n"
          ]
        }
      ]
    },
    {
      "cell_type": "markdown",
      "source": [
        "**Transpose**"
      ],
      "metadata": {
        "id": "YwbFKZFvkz4Y"
      }
    },
    {
      "cell_type": "code",
      "source": [
        "a = np.array([[1,2,3],[4,5,6]])\n",
        "print(a)\n",
        "print(a.T)"
      ],
      "metadata": {
        "colab": {
          "base_uri": "https://localhost:8080/"
        },
        "id": "RmY8Ki4qk3E-",
        "outputId": "e7207139-4935-4121-b31c-26c2e82932e3"
      },
      "execution_count": null,
      "outputs": [
        {
          "output_type": "stream",
          "name": "stdout",
          "text": [
            "[[1 2 3]\n",
            " [4 5 6]]\n",
            "[[1 4]\n",
            " [2 5]\n",
            " [3 6]]\n"
          ]
        }
      ]
    },
    {
      "cell_type": "markdown",
      "source": [
        "**matrix multiplication-->Dot product**"
      ],
      "metadata": {
        "id": "gwBYnuCalWmF"
      }
    },
    {
      "cell_type": "code",
      "source": [
        "a = np.array([[1,2],[3,4]])\n",
        "b = np.array([[3,4],[5,6]])\n",
        "# apply dot product on above arrays\n",
        "c = np.dot(a,b)\n",
        "print(c)\n",
        "print(a@b)"
      ],
      "metadata": {
        "colab": {
          "base_uri": "https://localhost:8080/"
        },
        "id": "_WAXdeHmlc2e",
        "outputId": "7f22454f-b687-4a71-c049-b8ab4109ecdb"
      },
      "execution_count": null,
      "outputs": [
        {
          "output_type": "stream",
          "name": "stdout",
          "text": [
            "[[13 16]\n",
            " [29 36]]\n",
            "[[13 16]\n",
            " [29 36]]\n"
          ]
        }
      ]
    },
    {
      "cell_type": "markdown",
      "source": [
        "**Inverse**"
      ],
      "metadata": {
        "id": "zXCXkBMtl8Gw"
      }
    },
    {
      "cell_type": "code",
      "source": [
        "a = np.array([[1,2],[3,4]])\n",
        "d = np.linalg.inv(a)\n",
        "print(d)"
      ],
      "metadata": {
        "colab": {
          "base_uri": "https://localhost:8080/"
        },
        "id": "QEASUjQYl-FB",
        "outputId": "d822f239-986f-40cd-cb4a-b1ac52b18df5"
      },
      "execution_count": null,
      "outputs": [
        {
          "output_type": "stream",
          "name": "stdout",
          "text": [
            "[[-2.   1. ]\n",
            " [ 1.5 -0.5]]\n"
          ]
        }
      ]
    },
    {
      "cell_type": "markdown",
      "source": [
        "**Diagonal**"
      ],
      "metadata": {
        "id": "VxfDNdO2ms7X"
      }
    },
    {
      "cell_type": "code",
      "source": [
        "e = np.diag(a)\n",
        "print(e)"
      ],
      "metadata": {
        "colab": {
          "base_uri": "https://localhost:8080/"
        },
        "id": "g8XDMFOrmxL1",
        "outputId": "77794ca9-ff07-4271-cec4-4938b01174f2"
      },
      "execution_count": null,
      "outputs": [
        {
          "output_type": "stream",
          "name": "stdout",
          "text": [
            "[1 4]\n"
          ]
        }
      ]
    },
    {
      "cell_type": "code",
      "source": [
        "#Note:- Diagonal on vectors return a matrix\n",
        "c = np.diag([1,4,5])\n",
        "print(c)"
      ],
      "metadata": {
        "colab": {
          "base_uri": "https://localhost:8080/"
        },
        "id": "UlB46cnYnPTq",
        "outputId": "f09cdb31-0285-450e-e37a-1c8280553e2e"
      },
      "execution_count": null,
      "outputs": [
        {
          "output_type": "stream",
          "name": "stdout",
          "text": [
            "[[1 0 0]\n",
            " [0 4 0]\n",
            " [0 0 5]]\n"
          ]
        }
      ]
    },
    {
      "cell_type": "markdown",
      "source": [
        "**Boolen Indexing**"
      ],
      "metadata": {
        "id": "8mxJhruOngwu"
      }
    },
    {
      "cell_type": "code",
      "source": [
        "a = np.array([[1,2],[3,4],[5,6]])\n",
        "print(a)"
      ],
      "metadata": {
        "colab": {
          "base_uri": "https://localhost:8080/"
        },
        "id": "WE9kyHaYnmAR",
        "outputId": "dd1e55f0-f7ab-4212-e7eb-582f2569057f"
      },
      "execution_count": null,
      "outputs": [
        {
          "output_type": "stream",
          "name": "stdout",
          "text": [
            "[[1 2]\n",
            " [3 4]\n",
            " [5 6]]\n"
          ]
        }
      ]
    },
    {
      "cell_type": "code",
      "source": [
        "print(a>2)"
      ],
      "metadata": {
        "colab": {
          "base_uri": "https://localhost:8080/"
        },
        "id": "Tj28Ilvsnxjm",
        "outputId": "77d0ef64-c35f-4aa3-9391-6329f9266e70"
      },
      "execution_count": null,
      "outputs": [
        {
          "output_type": "stream",
          "name": "stdout",
          "text": [
            "[[False False]\n",
            " [ True  True]\n",
            " [ True  True]]\n"
          ]
        }
      ]
    },
    {
      "cell_type": "code",
      "source": [
        "#print the numbers\n",
        "print(a[a>2])"
      ],
      "metadata": {
        "colab": {
          "base_uri": "https://localhost:8080/"
        },
        "id": "lAqqx_Smn29Z",
        "outputId": "6dbe5461-2e55-43a1-ffd9-90b59c2e4bff"
      },
      "execution_count": null,
      "outputs": [
        {
          "output_type": "stream",
          "name": "stdout",
          "text": [
            "[3 4 5 6]\n"
          ]
        }
      ]
    },
    {
      "cell_type": "code",
      "source": [
        "#check the numbers which is more then 2 and print True if more then 2 else print false\n",
        "l = [1,2,3,4,5,6]\n",
        "for i in l:\n",
        "  if i >2:\n",
        "    print(True)\n",
        "  else:\n",
        "    print(False)"
      ],
      "metadata": {
        "colab": {
          "base_uri": "https://localhost:8080/"
        },
        "id": "laqmFj5voCTh",
        "outputId": "c616449e-9a8c-4c01-82fd-e760d14c0568"
      },
      "execution_count": null,
      "outputs": [
        {
          "output_type": "stream",
          "name": "stdout",
          "text": [
            "False\n",
            "False\n",
            "True\n",
            "True\n",
            "True\n",
            "True\n"
          ]
        }
      ]
    },
    {
      "cell_type": "code",
      "source": [
        "l = [1,2,3,4,5,6]\n",
        "print(l*2)"
      ],
      "metadata": {
        "colab": {
          "base_uri": "https://localhost:8080/"
        },
        "id": "ah9ESEOsoJdo",
        "outputId": "8721803c-41be-422f-e0be-c30203a2cda5"
      },
      "execution_count": null,
      "outputs": [
        {
          "output_type": "stream",
          "name": "stdout",
          "text": [
            "[1, 2, 3, 4, 5, 6, 1, 2, 3, 4, 5, 6]\n"
          ]
        }
      ]
    },
    {
      "cell_type": "code",
      "source": [
        "a = np.array([[1,2],[3,4],[5,6]])\n",
        "print(a*2)"
      ],
      "metadata": {
        "colab": {
          "base_uri": "https://localhost:8080/"
        },
        "id": "KSxvpPB8oTN7",
        "outputId": "8bc68925-9019-49ee-8ca1-4f1ebb99358d"
      },
      "execution_count": null,
      "outputs": [
        {
          "output_type": "stream",
          "name": "stdout",
          "text": [
            "[[ 2  4]\n",
            " [ 6  8]\n",
            " [10 12]]\n"
          ]
        }
      ]
    },
    {
      "cell_type": "code",
      "source": [
        "#np.where(logic,True,False)\n",
        "a = np.array([[1,2],[3,4],[5,6]])\n",
        "#print the number greater then 2 and less then numbers print it as a -1\n",
        "b = np.where(a>2,a,-1)\n",
        "print(b)"
      ],
      "metadata": {
        "colab": {
          "base_uri": "https://localhost:8080/"
        },
        "id": "tdVCwZamoelt",
        "outputId": "4d41628f-aca6-431c-b873-b1575cdc1c7d"
      },
      "execution_count": null,
      "outputs": [
        {
          "output_type": "stream",
          "name": "stdout",
          "text": [
            "[[-1 -1]\n",
            " [ 3  4]\n",
            " [ 5  6]]\n"
          ]
        }
      ]
    },
    {
      "cell_type": "code",
      "source": [
        "#2.compute the indexes where the condition is true\n",
        "c = np.array([10,19,20,30,41,50,61])\n",
        "#get the index position of even numbers\n",
        "eve = np.argwhere(c%2==0).flatten()\n",
        "print(eve)"
      ],
      "metadata": {
        "colab": {
          "base_uri": "https://localhost:8080/"
        },
        "id": "tWHCbq1Joiqr",
        "outputId": "b7d0c255-096d-4fe8-c4df-6624bad8405e"
      },
      "execution_count": null,
      "outputs": [
        {
          "output_type": "stream",
          "name": "stdout",
          "text": [
            "[0 2 3 5]\n"
          ]
        }
      ]
    },
    {
      "cell_type": "code",
      "source": [
        "even2 = np.argwhere(a%2==0)\n",
        "print(even2)"
      ],
      "metadata": {
        "colab": {
          "base_uri": "https://localhost:8080/"
        },
        "id": "NTq2NTsyoq6_",
        "outputId": "a1121edb-9a77-4fab-99ce-c637cac351e8"
      },
      "execution_count": null,
      "outputs": [
        {
          "output_type": "stream",
          "name": "stdout",
          "text": [
            "[[0 1]\n",
            " [1 1]\n",
            " [2 1]]\n"
          ]
        }
      ]
    },
    {
      "cell_type": "code",
      "source": [
        "a = np.array([[1,2],[3,4],[5,6]])\n",
        "even2 = np.argwhere(a%2==0)\n",
        "a_even = a[even2[:,0],even2[:,1]]\n",
        "print(a_even)"
      ],
      "metadata": {
        "colab": {
          "base_uri": "https://localhost:8080/"
        },
        "id": "KU1iztUMoynj",
        "outputId": "59d38778-d62b-4d60-f66f-bfb181ce35c4"
      },
      "execution_count": null,
      "outputs": [
        {
          "output_type": "stream",
          "name": "stdout",
          "text": [
            "[2 4 6]\n"
          ]
        }
      ]
    },
    {
      "cell_type": "code",
      "source": [
        "#1. create 2d array--> np.array([[],[],[]])\n",
        "#2. access the element from 2d array--> array[row_index,col_index]\n",
        "#3. apply the dot product--> np.dot(arr1,arr2)\n",
        "#4. transpose ---> Array.T\n",
        "#5. diagonal of an array---> np.diag(array)\n",
        "#6. inverse of an array ---> np.linalg.inv(array)\n",
        "#7. boolen indexing ---> array > 2\n",
        "#8. apply the condition in an array--> np.where(condition.True,False)\n",
        "#9. compute the indexes in array where the comdition is true --> np.argwhere"
      ],
      "metadata": {
        "id": "c7ZidZTho1Yk"
      },
      "execution_count": null,
      "outputs": []
    },
    {
      "cell_type": "markdown",
      "source": [
        "**1-08-2025**"
      ],
      "metadata": {
        "id": "Xo8Z6Wg5qEpH"
      }
    },
    {
      "cell_type": "markdown",
      "source": [
        "**Reshaping of Array**"
      ],
      "metadata": {
        "id": "snV2po5ZqRl_"
      }
    },
    {
      "cell_type": "code",
      "source": [
        "import numpy as np"
      ],
      "metadata": {
        "id": "nc8J6wCoqXg6"
      },
      "execution_count": null,
      "outputs": []
    },
    {
      "cell_type": "code",
      "source": [
        "#create a range of array up to 10\n",
        "a =np.arange(10)\n",
        "print(a)"
      ],
      "metadata": {
        "colab": {
          "base_uri": "https://localhost:8080/"
        },
        "id": "sJpVavRbqLkD",
        "outputId": "2202ff02-3836-4b3e-942f-8366073858c3"
      },
      "execution_count": null,
      "outputs": [
        {
          "output_type": "stream",
          "name": "stdout",
          "text": [
            "[0 1 2 3 4 5 6 7 8 9]\n"
          ]
        }
      ]
    },
    {
      "cell_type": "code",
      "source": [
        "#print a range of numbers from 1 to 10\n",
        "b = np.arange(1,11)\n",
        "print(b)"
      ],
      "metadata": {
        "colab": {
          "base_uri": "https://localhost:8080/"
        },
        "id": "viNj-iAEqIvf",
        "outputId": "3a0ebad2-7f35-4446-bcd2-825d59de7b4b"
      },
      "execution_count": null,
      "outputs": [
        {
          "output_type": "stream",
          "name": "stdout",
          "text": [
            "[ 1  2  3  4  5  6  7  8  9 10]\n"
          ]
        }
      ]
    },
    {
      "cell_type": "code",
      "source": [
        "#convert the array \"b\" in to 2 rows and 5 column\n",
        "c = b.reshape(2,5)   #np.reshape(rows,cols)\n",
        "print(c)\n",
        "print(c.T)"
      ],
      "metadata": {
        "colab": {
          "base_uri": "https://localhost:8080/"
        },
        "id": "9vuSBi3WrQ4M",
        "outputId": "4df994df-59ec-4dc6-fb9d-bf7dd8c1682d"
      },
      "execution_count": null,
      "outputs": [
        {
          "output_type": "stream",
          "name": "stdout",
          "text": [
            "[[ 1  2  3  4  5]\n",
            " [ 6  7  8  9 10]]\n",
            "[[ 1  6]\n",
            " [ 2  7]\n",
            " [ 3  8]\n",
            " [ 4  9]\n",
            " [ 5 10]]\n"
          ]
        }
      ]
    },
    {
      "cell_type": "code",
      "source": [
        "#convert the array b into 5 rows and 2 column\n",
        "d = b.reshape(5,2)\n",
        "print(d)"
      ],
      "metadata": {
        "colab": {
          "base_uri": "https://localhost:8080/"
        },
        "id": "pwFtXjbCrdeV",
        "outputId": "b8cb307c-ff9e-4c2b-ce1a-280f4f1968c0"
      },
      "execution_count": null,
      "outputs": [
        {
          "output_type": "stream",
          "name": "stdout",
          "text": [
            "[[ 1  2]\n",
            " [ 3  4]\n",
            " [ 5  6]\n",
            " [ 7  8]\n",
            " [ 9 10]]\n"
          ]
        }
      ]
    },
    {
      "cell_type": "code",
      "source": [
        "#create a range of array from 1 to 6 and convert into 2 rows and 3 column\n",
        "e = np.arange(1,7)\n",
        "print(e)\n",
        "f = e.reshape(2,3)\n",
        "print(f)"
      ],
      "metadata": {
        "colab": {
          "base_uri": "https://localhost:8080/"
        },
        "id": "9d2dNUnLrykp",
        "outputId": "07471b48-c6fe-4c89-cfc2-39d8a5b7c577"
      },
      "execution_count": null,
      "outputs": [
        {
          "output_type": "stream",
          "name": "stdout",
          "text": [
            "[1 2 3 4 5 6]\n",
            "[[1 2 3]\n",
            " [4 5 6]]\n"
          ]
        }
      ]
    },
    {
      "cell_type": "code",
      "source": [
        "#what is the shape of e?\n",
        "print(e.shape)"
      ],
      "metadata": {
        "colab": {
          "base_uri": "https://localhost:8080/"
        },
        "id": "pQDMMx24sCas",
        "outputId": "7666a0b0-fcf3-4a1f-a902-fd16756c2b16"
      },
      "execution_count": null,
      "outputs": [
        {
          "output_type": "stream",
          "name": "stdout",
          "text": [
            "(6,)\n"
          ]
        }
      ]
    },
    {
      "cell_type": "markdown",
      "source": [
        "np.newaxis-->it is used change the data in certain manner"
      ],
      "metadata": {
        "id": "HmG2ci6BsHk2"
      }
    },
    {
      "cell_type": "code",
      "source": [
        "g = e[np.newaxis,:]\n",
        "print(g)\n",
        "print(g.shape)"
      ],
      "metadata": {
        "colab": {
          "base_uri": "https://localhost:8080/"
        },
        "id": "qbbc-Al-sNxd",
        "outputId": "faaf0220-1d11-4957-bdf8-bc76e3a8692b"
      },
      "execution_count": null,
      "outputs": [
        {
          "output_type": "stream",
          "name": "stdout",
          "text": [
            "[[1 2 3 4 5 6]]\n",
            "(1, 6)\n"
          ]
        }
      ]
    },
    {
      "cell_type": "code",
      "source": [
        "h = e[:,np.newaxis]\n",
        "print(h)"
      ],
      "metadata": {
        "colab": {
          "base_uri": "https://localhost:8080/"
        },
        "id": "JEhfiY4qs3gS",
        "outputId": "c546be4e-a77f-446a-cc36-259915a12484"
      },
      "execution_count": null,
      "outputs": [
        {
          "output_type": "stream",
          "name": "stdout",
          "text": [
            "[[1]\n",
            " [2]\n",
            " [3]\n",
            " [4]\n",
            " [5]\n",
            " [6]]\n"
          ]
        }
      ]
    },
    {
      "cell_type": "markdown",
      "source": [
        "**Concatenation**"
      ],
      "metadata": {
        "id": "h5nlpmh1vnDZ"
      }
    },
    {
      "cell_type": "code",
      "source": [
        "a = np.array([[1,2],[3,4]])\n",
        "b = np.array([[5,6],[7,8]])\n",
        "#combine or concatenate above 2 array\n",
        "c = np.concatenate((a,b), axis = 0)\n",
        "print(c)\n",
        "#Note:- when we give axis =0 cancatenate wrt row wise, axis=1 concatenate wrt columnwise\n",
        "#when we give axis = None concatenate in 1D array format"
      ],
      "metadata": {
        "colab": {
          "base_uri": "https://localhost:8080/"
        },
        "id": "Kj6bpQqPvrs7",
        "outputId": "13e1deca-5097-492b-cf5a-a46fdbeee702"
      },
      "execution_count": null,
      "outputs": [
        {
          "output_type": "stream",
          "name": "stdout",
          "text": [
            "[[1 2]\n",
            " [3 4]\n",
            " [5 6]\n",
            " [7 8]]\n"
          ]
        }
      ]
    },
    {
      "cell_type": "markdown",
      "source": [
        "**HSTACK**"
      ],
      "metadata": {
        "id": "yJmG4nbWwMxD"
      }
    },
    {
      "cell_type": "code",
      "source": [
        "#hstack:- stack array aading in sequence  horizentally\n",
        "a = np.array([[1,2],[3,4]])\n",
        "b = np.array([[5,6],[7,8]])\n",
        "h = np.hstack((a,b))\n",
        "print(h)"
      ],
      "metadata": {
        "colab": {
          "base_uri": "https://localhost:8080/"
        },
        "id": "hYss1nxgwPiI",
        "outputId": "1edacbeb-0e81-4e63-f0af-5d7126480879"
      },
      "execution_count": null,
      "outputs": [
        {
          "output_type": "stream",
          "name": "stdout",
          "text": [
            "[[1 2 5 6]\n",
            " [3 4 7 8]]\n"
          ]
        }
      ]
    },
    {
      "cell_type": "markdown",
      "source": [
        "**VSTACK**"
      ],
      "metadata": {
        "id": "uZzaJBluwjK4"
      }
    },
    {
      "cell_type": "code",
      "source": [
        "#VSTACK :- STACK ARRAY ADDING IN SEQUENCE vertically\n",
        "a = np.array([[1,2],[3,4]])\n",
        "b = np.array([[5,6],[7,8]])\n",
        "h = np.vstack((a,b))\n",
        "print(h)"
      ],
      "metadata": {
        "colab": {
          "base_uri": "https://localhost:8080/"
        },
        "id": "V_Pn7zn5wmy6",
        "outputId": "73ecbfb2-61d5-4a06-af2e-1534c6327420"
      },
      "execution_count": null,
      "outputs": [
        {
          "output_type": "stream",
          "name": "stdout",
          "text": [
            "[[1 2]\n",
            " [3 4]\n",
            " [5 6]\n",
            " [7 8]]\n"
          ]
        }
      ]
    },
    {
      "cell_type": "markdown",
      "source": [
        "**Broadcasting method-->** is apower mechanism tool that allows numpy to work with different arrays of different shape when performing the arthametic operations"
      ],
      "metadata": {
        "id": "kALxV-UPZFSK"
      }
    },
    {
      "cell_type": "code",
      "source": [
        "x = np.array([[1,2,3],[4,5,6],[7,8,9],[10,11,12]])\n",
        "y = np.array([1,0,1])\n",
        "z = x+y\n",
        "print(z)"
      ],
      "metadata": {
        "colab": {
          "base_uri": "https://localhost:8080/"
        },
        "id": "9WIi5A2NZII6",
        "outputId": "b059db06-d32d-4687-92d5-25137a1f69ef"
      },
      "execution_count": null,
      "outputs": [
        {
          "output_type": "stream",
          "name": "stdout",
          "text": [
            "[[ 2  2  4]\n",
            " [ 5  5  7]\n",
            " [ 8  8 10]\n",
            " [11 11 13]]\n"
          ]
        }
      ]
    },
    {
      "cell_type": "markdown",
      "source": [
        "**Copying of an array**"
      ],
      "metadata": {
        "id": "sPKGTo_UZRuB"
      }
    },
    {
      "cell_type": "code",
      "source": [
        "a = np.array([1,2,3])\n",
        "b = a\n",
        "b[0] = 8\n",
        "print(a)"
      ],
      "metadata": {
        "colab": {
          "base_uri": "https://localhost:8080/"
        },
        "id": "I-oEmj9bZTC9",
        "outputId": "afea9174-9779-4c5d-b120-69332e2c610f"
      },
      "execution_count": null,
      "outputs": [
        {
          "output_type": "stream",
          "name": "stdout",
          "text": [
            "[8 2 3]\n"
          ]
        }
      ]
    },
    {
      "cell_type": "code",
      "source": [
        "a = np.array([1,2,3])\n",
        "b = a.copy()\n",
        "b[0] = 8\n",
        "print(a)\n",
        "print(b)\n",
        "#np.copy is used when we make any changes in the new array it won't impac on the original arrays"
      ],
      "metadata": {
        "colab": {
          "base_uri": "https://localhost:8080/"
        },
        "id": "QKWLVZi1ZcNY",
        "outputId": "a4e9624f-b2b0-4e8e-cf7c-23a003ca0169"
      },
      "execution_count": null,
      "outputs": [
        {
          "output_type": "stream",
          "name": "stdout",
          "text": [
            "[1 2 3]\n",
            "[8 2 3]\n"
          ]
        }
      ]
    },
    {
      "cell_type": "markdown",
      "source": [
        "**Generating Array's**"
      ],
      "metadata": {
        "id": "T5Dyoi1vZfj9"
      }
    },
    {
      "cell_type": "code",
      "source": [
        "#1.Genrate an array of zeros with  2 rows and 3 columns\n",
        "a = np.zeros((2,3))\n",
        "print(a)"
      ],
      "metadata": {
        "colab": {
          "base_uri": "https://localhost:8080/"
        },
        "id": "oRklwQ-TZhBG",
        "outputId": "da6ad520-468c-4a08-da66-e4ce5ab8561b"
      },
      "execution_count": null,
      "outputs": [
        {
          "output_type": "stream",
          "name": "stdout",
          "text": [
            "[[0. 0. 0.]\n",
            " [0. 0. 0.]]\n"
          ]
        }
      ]
    },
    {
      "cell_type": "code",
      "source": [
        "a = np.zeros(3)\n",
        "print(a)"
      ],
      "metadata": {
        "colab": {
          "base_uri": "https://localhost:8080/"
        },
        "id": "lGALktcMZlno",
        "outputId": "a67fa116-b201-4448-feba-347cf31d9cc8"
      },
      "execution_count": null,
      "outputs": [
        {
          "output_type": "stream",
          "name": "stdout",
          "text": [
            "[0. 0. 0.]\n"
          ]
        }
      ]
    },
    {
      "cell_type": "code",
      "source": [
        "#2.Generate an arrays of 1's with 2 rows and 3 columns\n",
        "b = np.ones((2,3))\n",
        "print(b)"
      ],
      "metadata": {
        "colab": {
          "base_uri": "https://localhost:8080/"
        },
        "id": "1qdKrXzqZoPc",
        "outputId": "9b628fa8-a254-4d94-f08e-d7503774bb1f"
      },
      "execution_count": null,
      "outputs": [
        {
          "output_type": "stream",
          "name": "stdout",
          "text": [
            "[[1. 1. 1.]\n",
            " [1. 1. 1.]]\n"
          ]
        }
      ]
    },
    {
      "cell_type": "code",
      "source": [
        "#3.generate an array specific number with particular rows and columns\n",
        "c = np.full((3,3),5)\n",
        "print(c)"
      ],
      "metadata": {
        "colab": {
          "base_uri": "https://localhost:8080/"
        },
        "id": "L_zQG7JXZqk4",
        "outputId": "65c700df-c16e-4ec3-e9d7-27c7cd3755d6"
      },
      "execution_count": null,
      "outputs": [
        {
          "output_type": "stream",
          "name": "stdout",
          "text": [
            "[[5 5 5]\n",
            " [5 5 5]\n",
            " [5 5 5]]\n"
          ]
        }
      ]
    },
    {
      "cell_type": "code",
      "source": [
        "#4.generate an identity matrix?\n",
        "d = np.eye(4)\n",
        "print(d)\n",
        "#np.identity()"
      ],
      "metadata": {
        "colab": {
          "base_uri": "https://localhost:8080/"
        },
        "id": "sJnMEtUNZs1I",
        "outputId": "d774e489-a9d7-44c7-9651-d41bf82bfbc1"
      },
      "execution_count": null,
      "outputs": [
        {
          "output_type": "stream",
          "name": "stdout",
          "text": [
            "[[1. 0. 0. 0.]\n",
            " [0. 1. 0. 0.]\n",
            " [0. 0. 1. 0.]\n",
            " [0. 0. 0. 1.]]\n"
          ]
        }
      ]
    },
    {
      "cell_type": "code",
      "source": [
        "#5.np.linspace(start,end,No. of Partititons):-splits the data in to n equal parts\n",
        "e = np.linspace(0,10,5)\n",
        "print(e)"
      ],
      "metadata": {
        "colab": {
          "base_uri": "https://localhost:8080/"
        },
        "id": "MuNh4H_EZvi-",
        "outputId": "e3f11d9f-5608-40e1-8732-9c00386d43a6"
      },
      "execution_count": null,
      "outputs": [
        {
          "output_type": "stream",
          "name": "stdout",
          "text": [
            "[ 0.   2.5  5.   7.5 10. ]\n"
          ]
        }
      ]
    },
    {
      "cell_type": "markdown",
      "source": [
        "**Generate random Numbers**"
      ],
      "metadata": {
        "id": "q5fmQpSFZzk4"
      }
    },
    {
      "cell_type": "code",
      "source": [
        "#generate an array which is uniformaly distributed 0 to 1? with 3 rows and 2 column\n",
        "a = np.random.random((3,2))\n",
        "print(a)"
      ],
      "metadata": {
        "colab": {
          "base_uri": "https://localhost:8080/"
        },
        "id": "AfOcbMzdZ1NT",
        "outputId": "4608541f-25c6-49d5-f3f6-678d4e4519e8"
      },
      "execution_count": null,
      "outputs": [
        {
          "output_type": "stream",
          "name": "stdout",
          "text": [
            "[[0.66481977 0.91965305]\n",
            " [0.6562579  0.78595653]\n",
            " [0.55810407 0.20833957]]\n"
          ]
        }
      ]
    },
    {
      "cell_type": "code",
      "source": [
        "#generate an array which is normally distributed with 1000 rows\n",
        "b = np.random.randn(1000)\n",
        "#print(b)\n",
        "#How can we say the data is normally distributed---> when the mean of that is equals to 0 and\n",
        "#standard diviation is equal to 1 then the data is normally distributed\n",
        "print(b.mean(),b.std())"
      ],
      "metadata": {
        "colab": {
          "base_uri": "https://localhost:8080/"
        },
        "id": "LfN_-dD5Z9nG",
        "outputId": "5c1877c8-5388-42e0-847f-0543fe66eca2"
      },
      "execution_count": null,
      "outputs": [
        {
          "output_type": "stream",
          "name": "stdout",
          "text": [
            "0.060461269092475234 0.9712919832217078\n"
          ]
        }
      ]
    },
    {
      "cell_type": "code",
      "source": [
        "#generate an random integers?\n",
        "c = np.random.randint(3,10, size=(3,2))\n",
        "print(c)"
      ],
      "metadata": {
        "colab": {
          "base_uri": "https://localhost:8080/"
        },
        "id": "gipFUOJ6Z_5B",
        "outputId": "64aea231-6e1a-46b4-8a4f-16b644c45763"
      },
      "execution_count": null,
      "outputs": [
        {
          "output_type": "stream",
          "name": "stdout",
          "text": [
            "[[3 5]\n",
            " [4 3]\n",
            " [3 7]]\n"
          ]
        }
      ]
    },
    {
      "cell_type": "code",
      "source": [
        "#generate an random numbers upto 6 in the size of 10 rows\n",
        "d = np.random.choice(7,size=10)\n",
        "print(d)"
      ],
      "metadata": {
        "colab": {
          "base_uri": "https://localhost:8080/"
        },
        "id": "s-00vz06aDWw",
        "outputId": "f55b4ca5-563f-4c91-c097-8ae6fb0ff843"
      },
      "execution_count": null,
      "outputs": [
        {
          "output_type": "stream",
          "name": "stdout",
          "text": [
            "[2 0 4 0 3 4 6 4 2 3]\n"
          ]
        }
      ]
    },
    {
      "cell_type": "markdown",
      "source": [
        "**Solving the linear systems**"
      ],
      "metadata": {
        "id": "-SXg25C1aIDQ"
      }
    },
    {
      "cell_type": "code",
      "source": [
        "#x1 + x2 = 2200\n",
        "#1.5x1 + 4x2 = 5050\n",
        "#find the values of x1 and x2\n",
        "a = np.array([[1,1],[1.5,4]])\n",
        "b = np.array([2200,5050])\n",
        "x = np.linalg.solve(a,b)\n",
        "print(x)"
      ],
      "metadata": {
        "id": "SZPUup1uaJj5",
        "outputId": "9d5a970f-6bcf-4a16-c544-d7c19f12ce82",
        "colab": {
          "base_uri": "https://localhost:8080/"
        }
      },
      "execution_count": null,
      "outputs": [
        {
          "output_type": "stream",
          "name": "stdout",
          "text": [
            "[1500.  700.]\n"
          ]
        }
      ]
    },
    {
      "cell_type": "code",
      "source": [
        "\"\"\"\n",
        "np.shape\n",
        "np.ndim\n",
        "np.size\n",
        "np.dtype\n",
        "np.itemsize\n",
        "#what is 1d,2d,3d array's?\n",
        "#what is the diff b/w list and array?\n",
        "#How can we rehape an array ---> np.reshape(row,col)---> 2D data\n",
        "#How can we apply the dot product---> np.dot(arr1,arr2)\n",
        "#How can we generate an array specific number ---> np.full((ro,col),num)\n",
        "#How can we copy an array---> np.copy()\n",
        "#uniform distribution --> np.random.random((row,col))\n",
        "#Normal distribution ---> np.random.randn(rows,col)\n",
        "#randomintegers---> np.random.randint(start,end, size=(row,col))\n",
        "#or--> np.random.choice(end,size=(row,col))\"\"\""
      ],
      "metadata": {
        "id": "w31k5tg-adXf"
      },
      "execution_count": null,
      "outputs": []
    }
  ],
  "metadata": {
    "colab": {
      "provenance": [],
      "authorship_tag": "ABX9TyO5o/tbU/O6b/WMx2rCCODY",
      "include_colab_link": true
    },
    "kernelspec": {
      "display_name": "Python 3",
      "name": "python3"
    },
    "language_info": {
      "name": "python"
    }
  },
  "nbformat": 4,
  "nbformat_minor": 0
}