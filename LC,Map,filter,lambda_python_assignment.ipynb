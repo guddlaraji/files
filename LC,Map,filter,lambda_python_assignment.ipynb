{
  "nbformat": 4,
  "nbformat_minor": 0,
  "metadata": {
    "colab": {
      "provenance": [],
      "include_colab_link": true
    },
    "kernelspec": {
      "name": "python3",
      "display_name": "Python 3"
    },
    "language_info": {
      "name": "python"
    }
  },
  "cells": [
    {
      "cell_type": "markdown",
      "metadata": {
        "id": "view-in-github",
        "colab_type": "text"
      },
      "source": [
        "<a href=\"https://colab.research.google.com/github/guddlaraji/files/blob/main/LC%2CMap%2Cfilter%2Clambda_python_assignment.ipynb\" target=\"_parent\"><img src=\"https://colab.research.google.com/assets/colab-badge.svg\" alt=\"Open In Colab\"/></a>"
      ]
    },
    {
      "cell_type": "markdown",
      "source": [
        "Find all of the numbers from 1-1000 that are divisible by 7\n",
        "\n",
        "Find all of the numbers from 1-1000 that have a 3 in them\n",
        "\n"
      ],
      "metadata": {
        "id": "wot3nGZPbkIU"
      }
    },
    {
      "cell_type": "code",
      "execution_count": null,
      "metadata": {
        "id": "_icncljfao40"
      },
      "outputs": [],
      "source": [
        "for i in range(1, 1001):\n",
        "    if i % 7 == 0:\n",
        "        print(i)"
      ]
    },
    {
      "cell_type": "code",
      "source": [
        "for i in range(1, 1001):\n",
        "    if '3' in str(i):\n",
        "        print(i)"
      ],
      "metadata": {
        "id": "3CVeDUTpb1c9"
      },
      "execution_count": null,
      "outputs": []
    },
    {
      "cell_type": "markdown",
      "source": [
        "Count the number of spaces in a string\n",
        "\n",
        "\n",
        "some_string = 'the slow solid squid swam sumptuously through the slimy swamp'\n",
        "\n",
        "\n"
      ],
      "metadata": {
        "id": "dsKoBqZ4b1_K"
      }
    },
    {
      "cell_type": "code",
      "source": [
        "some_string = 'the slow solid squid swam sumptuously through the slimy swamp'\n",
        "\n",
        "spaces = some_string.count(' ')   # count spaces\n",
        "print(\"Number of spaces:\", spaces)\n"
      ],
      "metadata": {
        "id": "QHdKk6HjcOyI",
        "colab": {
          "base_uri": "https://localhost:8080/"
        },
        "outputId": "5651fc1f-1d52-4c81-ee52-856763f33d5c"
      },
      "execution_count": 4,
      "outputs": [
        {
          "output_type": "stream",
          "name": "stdout",
          "text": [
            "Number of spaces: 9\n"
          ]
        }
      ]
    },
    {
      "cell_type": "markdown",
      "source": [
        "Get the index and the value as a tuple for items in the list “hi”, 4, 8.99, ‘apple’, (‘t,b’,’n’). Result would look like (index, value), (index, value)\n",
        "\n",
        "items = [\"hi\", 4, 8.99, 'apple', ('t,b','n')]\n",
        "\n"
      ],
      "metadata": {
        "id": "92MMnpIZcPxy"
      }
    },
    {
      "cell_type": "code",
      "source": [
        "items = [\"hi\", 4, 8.99, 'apple', ('t,b','n')]\n",
        "\n",
        "result = []   # empty list to store (index, value)\n",
        "\n",
        "for i in range(len(items)):   # loop through indexes\n",
        "    result.append((i, items[i]))   # add (index, value) as a tuple\n",
        "\n",
        "print(result)\n"
      ],
      "metadata": {
        "id": "_2-lo7MGc203",
        "colab": {
          "base_uri": "https://localhost:8080/"
        },
        "outputId": "0992aec8-b437-448e-8b66-085424b1689b"
      },
      "execution_count": 5,
      "outputs": [
        {
          "output_type": "stream",
          "name": "stdout",
          "text": [
            "[(0, 'hi'), (1, 4), (2, 8.99), (3, 'apple'), (4, ('t,b', 'n'))]\n"
          ]
        }
      ]
    },
    {
      "cell_type": "markdown",
      "source": [
        "Produce a list of tuples consisting of only the matching numbers in these lists\n",
        "\n",
        " list_a = [1, 2, 3,4,5,6,7,8,9],\n",
        "\n",
        " list_b = [2, 7, 1, 12].\n",
        "\n",
        " Result would look like (4,4), (12,12)\n",
        "\n",
        "\n"
      ],
      "metadata": {
        "id": "5ozH8xVGc9dk"
      }
    },
    {
      "cell_type": "code",
      "source": [
        "list_a = [1, 2, 3, 4, 5, 6, 7, 8, 9]\n",
        "list_b = [2, 7, 1, 12]\n",
        "\n",
        "result = []\n",
        "\n",
        "# Check numbers in list_a\n",
        "for num in list_a:\n",
        "    if num not in list_b:\n",
        "        result.append((num, num))\n",
        "\n",
        "# Check numbers in list_b\n",
        "for num in list_b:\n",
        "    if num not in list_a:\n",
        "        result.append((num, num))\n",
        "\n",
        "print(result)\n"
      ],
      "metadata": {
        "id": "obHBFShmdIC1",
        "colab": {
          "base_uri": "https://localhost:8080/"
        },
        "outputId": "ca1a59f1-1d90-4ab7-8486-cb72f43d412a"
      },
      "execution_count": 8,
      "outputs": [
        {
          "output_type": "stream",
          "name": "stdout",
          "text": [
            "[(3, 3), (4, 4), (5, 5), (6, 6), (8, 8), (9, 9), (12, 12)]\n"
          ]
        }
      ]
    },
    {
      "cell_type": "markdown",
      "source": [
        "Write a Python program to add three given lists using Python map and lambda.\n",
        "\n",
        "nums1 = [1, 2, 3]\n",
        "\n",
        "nums2 = [4, 5, 6]\n",
        "\n",
        "nums3 = [7, 8, 9]"
      ],
      "metadata": {
        "id": "7Dnv7xC7decO"
      }
    },
    {
      "cell_type": "code",
      "source": [
        "nums1 = [1, 2, 3]\n",
        "nums2 = [4, 5, 6]\n",
        "nums3 = [7, 8, 9]\n",
        "\n",
        "# Add lists element-wise\n",
        "result = list(map(lambda x, y, z: x + y + z, nums1, nums2, nums3))\n",
        "\n",
        "print(result)\n"
      ],
      "metadata": {
        "id": "qEQqW2E2dk_5",
        "colab": {
          "base_uri": "https://localhost:8080/"
        },
        "outputId": "669bc3e0-164b-421a-c86d-5376c2062489"
      },
      "execution_count": 9,
      "outputs": [
        {
          "output_type": "stream",
          "name": "stdout",
          "text": [
            "[12, 15, 18]\n"
          ]
        }
      ]
    },
    {
      "cell_type": "markdown",
      "source": [
        "Write a Python program to square the elements of a list using the map() function.\n",
        "\n",
        "nums = [4, 5, 2, 9]"
      ],
      "metadata": {
        "id": "3qkEoDGDdlzz"
      }
    },
    {
      "cell_type": "code",
      "source": [
        "nums = [4, 5, 2, 9]\n",
        "\n",
        "# Use map and lambda to square each element\n",
        "squared_nums = list(map(lambda x: x**2, nums))\n",
        "\n",
        "print(squared_nums)\n"
      ],
      "metadata": {
        "id": "uF5aD7U5d50z",
        "colab": {
          "base_uri": "https://localhost:8080/"
        },
        "outputId": "7dd8654e-52e1-4501-8e3c-a7d054d13fe5"
      },
      "execution_count": 12,
      "outputs": [
        {
          "output_type": "stream",
          "name": "stdout",
          "text": [
            "[16, 25, 4, 81]\n"
          ]
        }
      ]
    },
    {
      "cell_type": "markdown",
      "source": [
        "Write a Python program that creates a list of names and uses the filter function to extract names that start with a vowel (A, E, I, O, U).\n",
        "\n",
        "names = [\"Elita\", \"Vitold\", \"Audovacar\", \"Kerensa\", \"Ramana\", \"Iolanda\", \"Landyn\"]\n"
      ],
      "metadata": {
        "id": "6LEPaq0jd9Sy"
      }
    },
    {
      "cell_type": "code",
      "source": [
        "names = [\"Elita\", \"Vitold\", \"Audovacar\", \"Kerensa\", \"Ramana\", \"Iolanda\", \"Landyn\"]\n",
        "\n",
        "# Function to check if name starts with a vowel\n",
        "starts_with_vowel = lambda name: name[0].upper() in \"AEIOU\"\n",
        "\n",
        "# Use filter to get names starting with a vowel\n",
        "vowel_names = list(filter(starts_with_vowel, names))\n",
        "\n",
        "print(vowel_names)\n"
      ],
      "metadata": {
        "id": "3E4bHnTGeLnM",
        "colab": {
          "base_uri": "https://localhost:8080/"
        },
        "outputId": "d24a61b2-53aa-4dd3-d710-bef49d4fdb8c"
      },
      "execution_count": 13,
      "outputs": [
        {
          "output_type": "stream",
          "name": "stdout",
          "text": [
            "['Elita', 'Audovacar', 'Iolanda']\n"
          ]
        }
      ]
    },
    {
      "cell_type": "markdown",
      "source": [
        "Write a Python function that filters out all empty strings from a list of strings using the filter function.\n",
        "\n",
        "strings = [\"\", \"w3resource\", \"Filter\", \"\", \"Python\", \"\"]\n",
        "\n",
        "\n",
        "A new list containing only non-empty strings:\n",
        "['w3resource', 'Filter', 'Python']"
      ],
      "metadata": {
        "id": "Jndj98dfeOAX"
      }
    },
    {
      "cell_type": "code",
      "source": [
        "strings = [\"\", \"w3resource\", \"Filter\", \"\", \"Python\", \"\"]\n",
        "\n",
        "# Use filter to remove empty strings\n",
        "non_empty_strings = list(filter(lambda s: s != \"\", strings))\n",
        "\n",
        "print(non_empty_strings)\n"
      ],
      "metadata": {
        "id": "3ZRw4Fhbe4RB",
        "colab": {
          "base_uri": "https://localhost:8080/"
        },
        "outputId": "029491a1-8e31-40aa-8090-900fd7262e45"
      },
      "execution_count": 14,
      "outputs": [
        {
          "output_type": "stream",
          "name": "stdout",
          "text": [
            "['w3resource', 'Filter', 'Python']\n"
          ]
        }
      ]
    },
    {
      "cell_type": "markdown",
      "source": [
        "Write a Python program that creates a list of dictionaries containing student information (name, age, grade) and uses the filter function to extract students with a grade greater than or equal to 95.\n",
        "\n",
        "students = [\n",
        "\n",
        "    {\"name\": \"Denis Helio\", \"age\": 17, \"grade\": 97},\n",
        "    {\"name\": \"Hania Mehtap\", \"age\": 16, \"grade\": 92},\n",
        "    {\"name\": \"Kelan Stasys\", \"age\": 17, \"grade\": 90},\n",
        "    {\"name\": \"Velvet Mirko\", \"age\": 16, \"grade\": 94},\n",
        "    {\"name\": \"Delores Aeneas\", \"age\": 17, \"grade\": 100},\n",
        "]\n",
        "\n",
        "sample output:-\n",
        "[{'name': 'Denis Helio', 'age': 17, 'grade': 97}, {'name': 'Delores Aeneas', 'age': 17, 'grade': 100}]\n"
      ],
      "metadata": {
        "id": "hR7tcMj6e5Co"
      }
    },
    {
      "cell_type": "code",
      "source": [
        "students = [\n",
        "    {\"name\": \"Denis Helio\", \"age\": 17, \"grade\": 97},\n",
        "    {\"name\": \"Hania Mehtap\", \"age\": 16, \"grade\": 92},\n",
        "    {\"name\": \"Kelan Stasys\", \"age\": 17, \"grade\": 90},\n",
        "    {\"name\": \"Velvet Mirko\", \"age\": 16, \"grade\": 94},\n",
        "    {\"name\": \"Delores Aeneas\", \"age\": 17, \"grade\": 100},\n",
        "]\n",
        "\n",
        "# Filter students with grade >= 95\n",
        "top_students = list(filter(lambda s: s[\"grade\"] >= 95, students))\n",
        "\n",
        "print(top_students)\n"
      ],
      "metadata": {
        "id": "3d026LG4fQev",
        "colab": {
          "base_uri": "https://localhost:8080/"
        },
        "outputId": "c1b3c36a-1d01-482e-be90-07d69e7961a8"
      },
      "execution_count": 15,
      "outputs": [
        {
          "output_type": "stream",
          "name": "stdout",
          "text": [
            "[{'name': 'Denis Helio', 'age': 17, 'grade': 97}, {'name': 'Delores Aeneas', 'age': 17, 'grade': 100}]\n"
          ]
        }
      ]
    },
    {
      "cell_type": "markdown",
      "source": [
        "Write a Python function that filters out even numbers from a list of integers using the filter function.\n",
        "\n",
        "nums = [1, 2, 3, 4, 5, 6, 7, 8, 9, 10]\n"
      ],
      "metadata": {
        "id": "-8A_ws8CfRl6"
      }
    },
    {
      "cell_type": "code",
      "source": [
        "nums = [1, 2, 3, 4, 5, 6, 7, 8, 9, 10]\n",
        "\n",
        "# Use filter to keep only odd numbers\n",
        "odd_nums = list(filter(lambda x: x % 2 != 0, nums))\n",
        "\n",
        "print(odd_nums)\n"
      ],
      "metadata": {
        "id": "CCK2jvlIfc44",
        "colab": {
          "base_uri": "https://localhost:8080/"
        },
        "outputId": "c32f7c64-a369-45ef-df8f-a5985a4b57ef"
      },
      "execution_count": 16,
      "outputs": [
        {
          "output_type": "stream",
          "name": "stdout",
          "text": [
            "[1, 3, 5, 7, 9]\n"
          ]
        }
      ]
    }
  ]
}